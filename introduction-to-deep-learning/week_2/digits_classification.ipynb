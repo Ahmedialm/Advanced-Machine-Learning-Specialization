{
  "nbformat": 4,
  "nbformat_minor": 0,
  "metadata": {
    "kernelspec": {
      "display_name": "Python 3",
      "language": "python",
      "name": "python3"
    },
    "language_info": {
      "codemirror_mode": {
        "name": "ipython",
        "version": 3
      },
      "file_extension": ".py",
      "mimetype": "text/x-python",
      "name": "python",
      "nbconvert_exporter": "python",
      "pygments_lexer": "ipython3",
      "version": "3.6.5"
    },
    "colab": {
      "name": "digits_classification.ipynb",
      "provenance": []
    }
  },
  "cells": [
    {
      "cell_type": "code",
      "metadata": {
        "id": "DCgyWCIs2hu_",
        "colab_type": "code",
        "colab": {
          "base_uri": "https://localhost:8080/",
          "height": 34
        },
        "outputId": "57a9c8f5-3226-4e32-e7f4-2039278e8cd6"
      },
      "source": [
        "# set tf 1.x for colab\n",
        "%tensorflow_version 1.x"
      ],
      "execution_count": 1,
      "outputs": [
        {
          "output_type": "stream",
          "text": [
            "TensorFlow 1.x selected.\n"
          ],
          "name": "stdout"
        }
      ]
    },
    {
      "cell_type": "markdown",
      "metadata": {
        "id": "SbPbjUmC2hvI",
        "colab_type": "text"
      },
      "source": [
        "# MNIST digits classification with TensorFlow"
      ]
    },
    {
      "cell_type": "markdown",
      "metadata": {
        "id": "FFKVN9gr2hvK",
        "colab_type": "text"
      },
      "source": [
        "<img src=\"https://github.com/hse-aml/intro-to-dl/blob/master/week2/v2/images/mnist_sample.png?raw=1\" style=\"width:30%\">"
      ]
    },
    {
      "cell_type": "code",
      "metadata": {
        "id": "ffzSV7k521O8",
        "colab_type": "code",
        "colab": {
          "base_uri": "https://localhost:8080/",
          "height": 323
        },
        "outputId": "757d8d0e-fe02-4678-a660-d3982b2c4b86"
      },
      "source": [
        "! shred -u setup_google_colab.py\n",
        "! wget https://raw.githubusercontent.com/hse-aml/intro-to-dl/master/setup_google_colab.py -O setup_google_colab.py\n",
        "import setup_google_colab\n",
        "# please, uncomment the week you're working on\n",
        "# setup_google_colab.setup_week1()\n",
        "setup_google_colab.setup_week2()\n",
        "# setup_google_colab.setup_week2_honor()\n",
        "# setup_google_colab.setup_week3()\n",
        "# setup_google_colab.setup_week4()\n",
        "# setup_google_colab.setup_week5()\n",
        "# setup_google_colab.setup_week6()"
      ],
      "execution_count": 2,
      "outputs": [
        {
          "output_type": "stream",
          "text": [
            "shred: setup_google_colab.py: failed to open for writing: No such file or directory\n",
            "--2020-04-29 07:34:16--  https://raw.githubusercontent.com/hse-aml/intro-to-dl/master/setup_google_colab.py\n",
            "Resolving raw.githubusercontent.com (raw.githubusercontent.com)... 151.101.0.133, 151.101.64.133, 151.101.128.133, ...\n",
            "Connecting to raw.githubusercontent.com (raw.githubusercontent.com)|151.101.0.133|:443... connected.\n",
            "HTTP request sent, awaiting response... 200 OK\n",
            "Length: 3636 (3.6K) [text/plain]\n",
            "Saving to: ‘setup_google_colab.py’\n",
            "\n",
            "setup_google_colab. 100%[===================>]   3.55K  --.-KB/s    in 0s      \n",
            "\n",
            "2020-04-29 07:34:16 (54.0 MB/s) - ‘setup_google_colab.py’ saved [3636/3636]\n",
            "\n",
            "**************************************************\n",
            "inception_v3_weights_tf_dim_ordering_tf_kernels_notop.h5\n",
            "**************************************************\n",
            "cifar-10-batches-py.tar.gz\n",
            "**************************************************\n",
            "mnist.npz\n"
          ],
          "name": "stdout"
        }
      ]
    },
    {
      "cell_type": "code",
      "metadata": {
        "id": "PzVBoyEP2hvL",
        "colab_type": "code",
        "colab": {
          "base_uri": "https://localhost:8080/",
          "height": 51
        },
        "outputId": "1ed42416-4e4f-412f-b25f-7dba8d35e06f"
      },
      "source": [
        "import numpy as np\n",
        "from sklearn.metrics import accuracy_score\n",
        "from matplotlib import pyplot as plt\n",
        "%matplotlib inline\n",
        "import tensorflow as tf\n",
        "print(\"We're using TF\", tf.__version__)\n",
        "\n",
        "import sys\n",
        "sys.path.append(\"../..\")\n",
        "import grading\n",
        "\n",
        "import matplotlib_utils\n",
        "from importlib import reload\n",
        "reload(matplotlib_utils)\n",
        "\n",
        "import grading_utils\n",
        "reload(grading_utils)\n",
        "\n",
        "import keras_utils\n",
        "from keras_utils import reset_tf_session"
      ],
      "execution_count": 3,
      "outputs": [
        {
          "output_type": "stream",
          "text": [
            "We're using TF 1.15.2\n"
          ],
          "name": "stdout"
        },
        {
          "output_type": "stream",
          "text": [
            "Using TensorFlow backend.\n"
          ],
          "name": "stderr"
        }
      ]
    },
    {
      "cell_type": "markdown",
      "metadata": {
        "id": "fvfFva972hvR",
        "colab_type": "text"
      },
      "source": [
        "# Fill in your Coursera token and email\n",
        "To successfully submit your answers to our grader, please fill in your Coursera submission token and email"
      ]
    },
    {
      "cell_type": "code",
      "metadata": {
        "id": "C3AF7fa92hvT",
        "colab_type": "code",
        "colab": {}
      },
      "source": [
        "grader = grading.Grader(assignment_key=\"XtD7ho3TEeiHQBLWejjYAA\", \n",
        "                        all_parts=[\"9XaAS\", \"vmogZ\", \"RMv95\", \"i8bgs\", \"rE763\"])"
      ],
      "execution_count": 0,
      "outputs": []
    },
    {
      "cell_type": "code",
      "metadata": {
        "id": "j_TMUp-A2hvY",
        "colab_type": "code",
        "colab": {}
      },
      "source": [
        "# token expires every 30 min\n",
        "COURSERA_TOKEN = \"blr1axKgdVVk0C6k\"\n",
        "COURSERA_EMAIL = \"ahmedabdulhamid2000@gmail.com\""
      ],
      "execution_count": 0,
      "outputs": []
    },
    {
      "cell_type": "markdown",
      "metadata": {
        "id": "AJNojEyX2hvf",
        "colab_type": "text"
      },
      "source": [
        "# Look at the data\n",
        "\n",
        "In this task we have 50000 28x28 images of digits from 0 to 9.\n",
        "We will train a classifier on this data."
      ]
    },
    {
      "cell_type": "code",
      "metadata": {
        "id": "8iP5MR-B2hvf",
        "colab_type": "code",
        "colab": {
          "base_uri": "https://localhost:8080/",
          "height": 51
        },
        "outputId": "0f845ccb-e23b-4508-e42b-25d7731d35c9"
      },
      "source": [
        "import preprocessed_mnist\n",
        "X_train, y_train, X_val, y_val, X_test, y_test = preprocessed_mnist.load_dataset()"
      ],
      "execution_count": 6,
      "outputs": [
        {
          "output_type": "stream",
          "text": [
            "Downloading data from https://s3.amazonaws.com/img-datasets/mnist.npz\n",
            "10305536/11490434 [=========================>....] - ETA: 0s"
          ],
          "name": "stdout"
        }
      ]
    },
    {
      "cell_type": "code",
      "metadata": {
        "id": "Y21_W3vi2hvm",
        "colab_type": "code",
        "colab": {
          "base_uri": "https://localhost:8080/",
          "height": 683
        },
        "outputId": "afb2d88e-5267-4c61-e314-18d4bf68797d"
      },
      "source": [
        "# X contains rgb values divided by 255\n",
        "print(\"X_train [shape %s] sample patch:\\n\" % (str(X_train.shape)), X_train[1, 15:20, 5:10])\n",
        "print(\"A closeup of a sample patch:\")\n",
        "plt.imshow(X_train[1, 15:20, 5:10], cmap=\"Greys\")\n",
        "plt.show()\n",
        "print(\"And the whole sample:\")\n",
        "plt.imshow(X_train[1], cmap=\"Greys\")\n",
        "plt.show()\n",
        "print(\"y_train [shape %s] 10 samples:\\n\" % (str(y_train.shape)), y_train[:10])"
      ],
      "execution_count": 7,
      "outputs": [
        {
          "output_type": "stream",
          "text": [
            "X_train [shape (50000, 28, 28)] sample patch:\n",
            " [[0.         0.29803922 0.96470588 0.98823529 0.43921569]\n",
            " [0.         0.33333333 0.98823529 0.90196078 0.09803922]\n",
            " [0.         0.33333333 0.98823529 0.8745098  0.        ]\n",
            " [0.         0.33333333 0.98823529 0.56862745 0.        ]\n",
            " [0.         0.3372549  0.99215686 0.88235294 0.        ]]\n",
            "A closeup of a sample patch:\n"
          ],
          "name": "stdout"
        },
        {
          "output_type": "display_data",
          "data": {
            "image/png": "[encoded data removed]",
            "text/plain": [
              "<Figure size 432x288 with 1 Axes>"
            ]
          },
          "metadata": {
            "tags": [],
            "needs_background": "light"
          }
        },
        {
          "output_type": "stream",
          "text": [
            "And the whole sample:\n"
          ],
          "name": "stdout"
        },
        {
          "output_type": "display_data",
          "data": {
            "image/png": "[encoded data removed]",
            "text/plain": [
              "<Figure size 432x288 with 1 Axes>"
            ]
          },
          "metadata": {
            "tags": [],
            "needs_background": "light"
          }
        },
        {
          "output_type": "stream",
          "text": [
            "y_train [shape (50000,)] 10 samples:\n",
            " [5 0 4 1 9 2 1 3 1 4]\n"
          ],
          "name": "stdout"
        }
      ]
    },
    {
      "cell_type": "markdown",
      "metadata": {
        "id": "9CWiXZGM2hvs",
        "colab_type": "text"
      },
      "source": [
        "# Linear model\n",
        "\n",
        "Your task is to train a linear classifier $\\vec{x} \\rightarrow y$ with SGD using TensorFlow.\n",
        "\n",
        "You will need to calculate a logit (a linear transformation) $z_k$ for each class: \n",
        "$$z_k = \\vec{x} \\cdot \\vec{w_k} + b_k \\quad k = 0..9$$\n",
        "\n",
        "And transform logits $z_k$ to valid probabilities $p_k$ with softmax: \n",
        "$$p_k = \\frac{e^{z_k}}{\\sum_{i=0}^{9}{e^{z_i}}} \\quad k = 0..9$$\n",
        "\n",
        "We will use a cross-entropy loss to train our multi-class classifier:\n",
        "$$\\text{cross-entropy}(y, p) = -\\sum_{k=0}^{9}{\\log(p_k)[y = k]}$$ \n",
        "\n",
        "where \n",
        "$$\n",
        "[x]=\\begin{cases}\n",
        "       1, \\quad \\text{if $x$ is true} \\\\\n",
        "       0, \\quad \\text{otherwise}\n",
        "    \\end{cases}\n",
        "$$\n",
        "\n",
        "Cross-entropy minimization pushes $p_k$ close to 1 when $y = k$, which is what we want.\n",
        "\n",
        "Here's the plan:\n",
        "* Flatten the images (28x28 -> 784) with `X_train.reshape((X_train.shape[0], -1))` to simplify our linear model implementation\n",
        "* Use a matrix placeholder for flattened `X_train`\n",
        "* Convert `y_train` to one-hot encoded vectors that are needed for cross-entropy\n",
        "* Use a shared variable `W` for all weights (a column $\\vec{w_k}$ per class) and `b` for all biases.\n",
        "* Aim for ~0.93 validation accuracy"
      ]
    },
    {
      "cell_type": "code",
      "metadata": {
        "id": "sN2iXYGS2hvu",
        "colab_type": "code",
        "colab": {
          "base_uri": "https://localhost:8080/",
          "height": 51
        },
        "outputId": "0dfbaf40-a346-49d0-a643-8a123ac0035a"
      },
      "source": [
        "X_train_flat = X_train.reshape((X_train.shape[0], -1))\n",
        "print(X_train_flat.shape)\n",
        "\n",
        "X_val_flat = X_val.reshape((X_val.shape[0], -1))\n",
        "print(X_val_flat.shape)"
      ],
      "execution_count": 8,
      "outputs": [
        {
          "output_type": "stream",
          "text": [
            "(50000, 784)\n",
            "(10000, 784)\n"
          ],
          "name": "stdout"
        }
      ]
    },
    {
      "cell_type": "code",
      "metadata": {
        "id": "7hnP6g8H2hv0",
        "colab_type": "code",
        "colab": {
          "base_uri": "https://localhost:8080/",
          "height": 85
        },
        "outputId": "808f0fe5-71a4-4363-8c99-752175461da6"
      },
      "source": [
        "import keras\n",
        "\n",
        "y_train_oh = keras.utils.to_categorical(y_train, 10)\n",
        "y_val_oh = keras.utils.to_categorical(y_val, 10)\n",
        "\n",
        "print(y_train_oh.shape)\n",
        "print(y_train_oh[:3], y_train[:3])"
      ],
      "execution_count": 9,
      "outputs": [
        {
          "output_type": "stream",
          "text": [
            "(50000, 10)\n",
            "[[0. 0. 0. 0. 0. 1. 0. 0. 0. 0.]\n",
            " [1. 0. 0. 0. 0. 0. 0. 0. 0. 0.]\n",
            " [0. 0. 0. 0. 1. 0. 0. 0. 0. 0.]] [5 0 4]\n"
          ],
          "name": "stdout"
        }
      ]
    },
    {
      "cell_type": "code",
      "metadata": {
        "id": "xtrwuF2t2hv8",
        "colab_type": "code",
        "colab": {
          "base_uri": "https://localhost:8080/",
          "height": 241
        },
        "outputId": "20e15604-db48-44d3-fdd6-e0f8a2c7fae8"
      },
      "source": [
        "# run this again if you remake your graph\n",
        "s = reset_tf_session()"
      ],
      "execution_count": 10,
      "outputs": [
        {
          "output_type": "stream",
          "text": [
            "WARNING:tensorflow:From /content/keras_utils.py:68: The name tf.get_default_session is deprecated. Please use tf.compat.v1.get_default_session instead.\n",
            "\n",
            "WARNING:tensorflow:From /usr/local/lib/python3.6/dist-packages/keras/backend/tensorflow_backend.py:79: The name tf.reset_default_graph is deprecated. Please use tf.compat.v1.reset_default_graph instead.\n",
            "\n",
            "WARNING:tensorflow:From /usr/local/lib/python3.6/dist-packages/keras/backend/tensorflow_backend.py:82: The name tf.placeholder is deprecated. Please use tf.compat.v1.placeholder instead.\n",
            "\n",
            "WARNING:tensorflow:From /usr/local/lib/python3.6/dist-packages/keras/backend/tensorflow_backend.py:84: The name tf.get_default_graph is deprecated. Please use tf.compat.v1.get_default_graph instead.\n",
            "\n",
            "WARNING:tensorflow:From /content/keras_utils.py:75: The name tf.ConfigProto is deprecated. Please use tf.compat.v1.ConfigProto instead.\n",
            "\n",
            "WARNING:tensorflow:From /content/keras_utils.py:77: The name tf.InteractiveSession is deprecated. Please use tf.compat.v1.InteractiveSession instead.\n",
            "\n"
          ],
          "name": "stdout"
        }
      ]
    },
    {
      "cell_type": "code",
      "metadata": {
        "id": "W1AiP6XK2hwC",
        "colab_type": "code",
        "colab": {}
      },
      "source": [
        "# Model parameters: W and b\n",
        "W = tf.get_variable(\"W\", dtype = tf.float32, shape=(784, 10), trainable = True) \n",
        "b = tf.get_variable(\"b\", dtype = tf.float32, shape=(10, ))"
      ],
      "execution_count": 0,
      "outputs": []
    },
    {
      "cell_type": "code",
      "metadata": {
        "id": "EDeq4Xiv2hwI",
        "colab_type": "code",
        "colab": {}
      },
      "source": [
        "# Placeholders for the input data\n",
        "input_X = tf.placeholder(tf.float32, shape=(None, 784))\n",
        "input_y = tf.placeholder(tf.float32, shape=(None, 10))"
      ],
      "execution_count": 0,
      "outputs": []
    },
    {
      "cell_type": "code",
      "metadata": {
        "id": "u2mgxIsZ2hwR",
        "colab_type": "code",
        "colab": {
          "base_uri": "https://localhost:8080/",
          "height": 173
        },
        "outputId": "3b090c5c-7165-4c34-9124-2e14866bb164"
      },
      "source": [
        "# Compute predictions\n",
        "logits = input_X @ W + b\n",
        "probas = tf.nn.softmax(logits)\n",
        "classes = tf.argmax(probas, 1)\n",
        "\n",
        "# Loss should be a scalar number: average loss over all the objects with tf.reduce_mean().\n",
        "# Use tf.nn.softmax_cross_entropy_with_logits on top of one-hot encoded input_y and logits.\n",
        "# It is identical to calculating cross-entropy on top of probas, but is more numerically friendly (read the docs).\n",
        "loss = tf.reduce_mean(tf.nn.softmax_cross_entropy_with_logits(logits = logits, labels = input_y)) \n",
        "\n",
        "# Use a default tf.train.AdamOptimizer to get an SGD step\n",
        "step = tf.train.AdamOptimizer().minimize(loss)"
      ],
      "execution_count": 15,
      "outputs": [
        {
          "output_type": "stream",
          "text": [
            "WARNING:tensorflow:From <ipython-input-15-0d47ae7dd377>:8: softmax_cross_entropy_with_logits (from tensorflow.python.ops.nn_ops) is deprecated and will be removed in a future version.\n",
            "Instructions for updating:\n",
            "\n",
            "Future major versions of TensorFlow will allow gradients to flow\n",
            "into the labels input on backprop by default.\n",
            "\n",
            "See `tf.nn.softmax_cross_entropy_with_logits_v2`.\n",
            "\n"
          ],
          "name": "stdout"
        }
      ]
    },
    {
      "cell_type": "code",
      "metadata": {
        "scrolled": false,
        "id": "0qxtuTGn2hwW",
        "colab_type": "code",
        "colab": {
          "base_uri": "https://localhost:8080/",
          "height": 309
        },
        "outputId": "d998e635-b152-4047-d087-f93a927c176c"
      },
      "source": [
        "s.run(tf.global_variables_initializer())\n",
        "\n",
        "BATCH_SIZE = 512\n",
        "EPOCHS = 40\n",
        "\n",
        "# for logging the progress right here in Jupyter (for those who don't have TensorBoard)\n",
        "simpleTrainingCurves = matplotlib_utils.SimpleTrainingCurves(\"cross-entropy\", \"accuracy\")\n",
        "\n",
        "for epoch in range(EPOCHS):  # we finish an epoch when we've looked at all training samples\n",
        "    \n",
        "    batch_losses = []\n",
        "    for batch_start in range(0, X_train_flat.shape[0], BATCH_SIZE):  # data is already shuffled\n",
        "        _, batch_loss = s.run([step, loss], {input_X: X_train_flat[batch_start:batch_start+BATCH_SIZE], \n",
        "                                             input_y: y_train_oh[batch_start:batch_start+BATCH_SIZE]})\n",
        "        # collect batch losses, this is almost free as we need a forward pass for backprop anyway\n",
        "        batch_losses.append(batch_loss)\n",
        "\n",
        "    train_loss = np.mean(batch_losses)\n",
        "    val_loss = s.run(loss, {input_X: X_val_flat, input_y: y_val_oh})  # this part is usually small\n",
        "    train_accuracy = accuracy_score(y_train, s.run(classes, {input_X: X_train_flat}))  # this is slow and usually skipped\n",
        "    valid_accuracy = accuracy_score(y_val, s.run(classes, {input_X: X_val_flat}))  \n",
        "    simpleTrainingCurves.add(train_loss, val_loss, train_accuracy, valid_accuracy)"
      ],
      "execution_count": 16,
      "outputs": [
        {
          "output_type": "display_data",
          "data": {
            "text/html": [
              "<img src=\"data:image/jpeg;base64,/9j/4AAQSkZJRgABAQEASABIAAD/2wBDAAIBAQEBAQIBAQECAgICAgQDAgICAgUEBAMEBgUGBgYFBgYGBwkIBgcJBwYGCAsICQoKCgoKBggLDAsKDAkKCgr/2wBDAQICAgICAgUDAwUKBwYHCgoKCgoKCgoKCgoKCgoKCgoKCgoKCgoKCgoKCgoKCgoKCgoKCgoKCgoKCgoKCgoKCgr/wAARCAEgA2ADASIAAhEBAxEB/8QAHwAAAQUBAQEBAQEAAAAAAAAAAAECAwQFBgcICQoL/8QAtRAAAgEDAwIEAwUFBAQAAAF9AQIDAAQRBRIhMUEGE1FhByJxFDKBkaEII0KxwRVS0fAkM2JyggkKFhcYGRolJicoKSo0NTY3ODk6Q0RFRkdISUpTVFVWV1hZWmNkZWZnaGlqc3R1dnd4eXqDhIWGh4iJipKTlJWWl5iZmqKjpKWmp6ipqrKztLW2t7i5usLDxMXGx8jJytLT1NXW19jZ2uHi4%2BTl5ufo6erx8vP09fb3%2BPn6/8QAHwEAAwEBAQEBAQEBAQAAAAAAAAECAwQFBgcICQoL/8QAtREAAgECBAQDBAcFBAQAAQJ3AAECAxEEBSExBhJBUQdhcRMiMoEIFEKRobHBCSMzUvAVYnLRChYkNOEl8RcYGRomJygpKjU2Nzg5OkNERUZHSElKU1RVVldYWVpjZGVmZ2hpanN0dXZ3eHl6goOEhYaHiImKkpOUlZaXmJmaoqOkpaanqKmqsrO0tba3uLm6wsPExcbHyMnK0tPU1dbX2Nna4uPk5ebn6Onq8vP09fb3%2BPn6/9oADAMBAAIRAxEAPwD9/KKKKACiiigAooooAKKKKACiiigAooooAKKKKACiiigAooooAKKKKACiiigAooooAKKKKACiiigAooooAKKKKACiiigAooooAKKKKACiiigAooooAKKKKACiiigAooooAKKKKACiiigAooooAKKKKACiiigAooooAKKKKACiiigAooooAKKKKACiiigAooooAKKKKACiiigAooooAKKKKACiiigAooooAKKKKACiiigAooooAKKKKACiiigAooooAKKKKACiiigAooooAKKKKACiiigAooooAKKKKACiiigAooooAKKKKACiiigAooooAKKKKACiiigAooooAKKKKACiiigAooooAKKKKACuN%2BOP7QHwm/Zx8JW/jT4veJ5dPtL7U4dN0u2stLub%2B91K9lDGO1tLO0jluLudlR2EUMbvtR2xhWI7KvFv2u/gP8VPiX4h%2BGfxl%2BBd14fl8X/CrxjPrWmaJ4tu57bTdYhudLvdMubaW4ghmktH8q9aSOdYZtrR7TGyu2ACjpH/AAUr/Y71rxm3w8tvHviCDW7fSodU1bTtR%2BHOvWkmi2EhuAt3qXn2SDTIAbWcNLdmFEKYYqWUGbwn/wAFH/2NfGfg/wAQ%2BOtM%2BLFza6f4Y0e11fVBrnhPVdMuJNPuXMdreWtvd2sU19bzyAxwy2ySpM5CRlmIB86vP2GPjP8AHW0/aRP7Qt74V8My/tB/CPTvBskfgrWLrUzo7RWusWsr%2BbcWtqZ1VNRiZDsXeyygogxuy9Y/Y2/at%2BM%2Btaz8UP2lPh38G9X1e0%2BE6eBtB8E6d4n1QaRrSy6jaXt5fXd2bBJ9PYmyg%2BzxQw3BtnDP50hIwAeyX/7fP7N2k%2BAbH4h6tdeOLSHVPED6Jpeh3Xwj8SR67e3yW5uXjh0dtPGoShYAZTIluUCKzFsA49P8JeOfDfjbwTY/EPRbi5i0rULBbyCTVNPnsZY4iu7MsFykcsDAfeSRVZSCGAIIr41tv2Gf2tJfgpJ4W8feGPCnjS%2Bh%2BIcut%2BC9B1n9ofxXb3fgOxOmxWoi0/xbHp7atcSGUXcreZDGBHeGENsjGfUvB/7Bmq%2BKfgJo3hb9pz46%2BOPEfj5PhtdeFtf8Q6T8Q9at9Muhc2tzbyTPpa3SWN5MiXTBbq4tmmdoopWKuibADc8Mf8FJP2MvF/h7xJ4s0b4tXK6Z4W8GXni6/vr7wlqtpFe6BaruuNU09p7VBqtogK5nsvPQmSMAkyIG4n40f8FdP2YfAf7M/wATf2gfhW%2Bs%2BM7v4b%2BDYfEjeGW8L6xps2r2Nw7R2t3avNYFrixlkRh9vgjmtkVWdnCqSPHfC/8AwSh%2BNC/BPxf8LPFnh3w9J4h/4UL4j8A%2BC/Hmo/tD%2BNvECSXGpWEdp5h0jVUkttGtpDDE8scEl0yeVGqFggz6P%2B1L/wAE5vih%2B0BYeKtE0Pxj4d0q2179le%2B%2BGlrLM87GDVpLiOWGdo1iANqNhBIbzBnhO9AHqkv/AAUU/ZZt/E3hrwJeav41tvEni7TpdQ0HwpefCTxLDq8tnFd/Y5LmSwk08XNvCkxG6SaNEVGWUkRsrmXwN/wUT/Y7%2BJGqarpXhD4tyXB0rQ9Q1lbufw1qVvaapp1iwS8u9NuZrdYdVhhYqHeyedVLqCfmGcXwR8APjz4x/apsf2oPjn4f8HeH5JPg5f8Ag/VNE8J%2BK7vVTBcy6tHcpJDcz6fZl4mgiUsTGjJIdoV1USHwGb9hz9pf4bfs8%2BF/Cnxo1rwIPCP7N3wP8SaB4L1PwrfXcmpeKd2hHTLe4vbeW2ii04JZozSQxS3QknZXDxqgQgH0D4U/4Kl/sL%2BNPBus/ELQ/jLdrouheDj4tutRv/BmsWcdzoIKB9Vs/PtEN/ZxmRBJPbCWOLcPMZc167a/GD4c3vxcuPgVZ%2BIxN4qtPDUGv3emRWsrCHTp55beGd5QnlL5ksE6ohfe3kyEKQjEfFX7I/7P3xC8WfBL4Q/Hb9t/Uvhlovww%2BG/7L9z4fgk07W5wmr6bqmnaWby%2B1X7VBDDpkEVppyq0CS3CZleRplWNVrsP%2BCK3wr8d6P8As76n8evit4tbxFrHjW%2Bg03w54hlgaOS%2B8I6JF/ZWiXBD8/6VDDNqhPd9WcgKCFAB9lUUUUAFFFFABRRRQAUUUUAFFFFABRRRQAUUUUAFFFFABRRRQAUUUUAFFFFABRRRQAUUUUAFFFFABRRRQAUUUUAFFFFABRRRQAV4jpH/AAUY/Y91K716z1P4pXnh5vDnhy58QahJ418I6roMc2k27pHPf2smpWsC31ujyRK0tsZUBljGcuufab2K5ms5YbO6EEzxMsUxj3%2BWxHDbT1wecd6/MTV/%2BCOX7cvxf1bwvrnxu%2BOOhvrfhrwfqFnqHijUPit4m8TjxDrf2zSr611E6XfRQ2Wk20lzpi%2BfYWQCiOTassgVAoB9sv8At/8A7MNr8NG%2BLGseIPFWlaW2uQaNY2eufDLX7DVNTv5kMkMFlptxYpe37SIGdfs8MgZUdgSEYjovAf7VnwP%2BI%2Bv2XhPw54h1SHV7/wAKT%2BJIdI1rwrqWmXaabDd/ZJZZYby3ikgdZ/kMMirL32bea8m%2BJ3wc/bd%2BMTfD342654N%2BFWh/EP4UeOptY8P%2BGbXxxqV/ouuWdxpN3plzHcXz6VDNYzFL2SSN0tbgRmIKfMEjYq/En4Dftwa/8ZfDv7TXgfRvhXaeLL74Yar4L8Y6FqXivUpLDSFuL%2BG6tb%2ByuE04SagYhG6yW8sVoJS4xLFjkA7jSf8Ago3%2ByB4j17wL4W8K/EbVdZ1P4k%2BDdK8W%2BDdO0TwPrN7PeaHqL7LXUZEgtGa1t92PMknEa24ZTN5QYE7Hw1/bc/Zu%2BK/xGufhP4Z8X6tZ6/b6Xc6nDZeJ/BmraIt/Y28iRz3dlLqNrBHfwRvLEHltmkRfMQkgMpPlH7Cn7CXxY/Zh1/4caz488QeGrs%2BDv2UvCPwxv30i5nlZtW0t5muZovMgj3Wrb02MxV22/NGmBXjXw0/4JV/tjeJ/ij4X8TftTfGGz1SLT/AHivwv408TQfF/xJrV54il1exS2/tO10y%2Bhj0/QjlSxtLRSi5UCZxGq0AfUvhP/gov%2ByP410WPxVoPjvXP7DuNV0vT9P8AEt78P9btdK1GXUr2OyspLS%2Bns0tryCW5mijFxBI8IMqFnCsCfS/C3xd%2BHnjX4geKfhd4X8Q/a9c8FyWcfie0S0mC2Ml1B9ogjMrII3doSshRGZkWSMsFEibvmHxx4E%2BIvhX/AIJ7eNPgR/wUM8T/AAq8EeAtB%2BGkWgW3xM8O%2BLbsM06RpbWupPaXVnAmmzLMLeSGCO4umM5REcnaG7X/AIJX/D74seG/2RNK%2BKv7RVglv8TvixfS%2BOviJCtu0X2e/v1jMNpsb5k%2By2MdlZ7TkgWuDQB9G0UUUAFFFFABRRRQAUUUUAFFFFABRRRQAUUUUAFFFFABRRRQAUUUUAFFFFABRRRQAUUUUAFFFFABRRRQAUUUUAFFFFABRRRQAUVz3xX8e33ww%2BHmp%2BPNN%2BHmveK59NhWRPD3hkWpvrzLqpWL7XPBCCAxYmSVFCqxzxg4Pg79oHTPiP8As0eHv2nPh18O/Eut2Pinwlp2v6H4as4bVdUuIb2CKaGErLcJbpKFlXdunEakMTJgbqAO/rxf49eP/wBov/hovwL8CPgL4z8FeH01/wAFeJde1fU/F/gu71ok6dd6Hbwwwx2%2BpWPlhv7UlZmZnz5aABeSer%2BAP7QGh/H7SdfltPBeveGdY8J%2BI30LxT4Z8TR2wvdLvltre7WN2tJ57eQPbXdtMrxTSKVmXkMGUcP8RdaSy/4KVfCHRZFGL34J/ENkbPO6PVvBpx%2BTMfwpNpblwhKo7R7N/dqy/wD8IP8A8FC/%2BjoPgz/4YfVv/moo/wCEH/4KF/8AR0HwZ/8ADD6t/wDNRXs1FMg8Z/4Qf/goX/0dB8Gf/DD6t/8ANRR/wg//AAUL/wCjoPgz/wCGH1b/AOaivZqKAPGf%2BEH/AOChf/R0HwZ/8MPq3/zUUf8ACD/8FC/%2BjoPgz/4YfVv/AJqK9mooA8Z/4Qf/AIKF/wDR0HwZ/wDDD6t/81FH/CD/APBQv/o6D4M/%2BGH1b/5qK9mooA8Z/wCEH/4KF/8AR0HwZ/8ADD6t/wDNRR/wg/8AwUL/AOjoPgz/AOGH1b/5qK9mooA8Z/4Qf/goX/0dB8Gf/DD6t/8ANRR/wg//AAUL/wCjoPgz/wCGH1b/AOaivZqKAPGf%2BEH/AOChf/R0HwZ/8MPq3/zUUf8ACD/8FC/%2BjoPgz/4YfVv/AJqK9mooA8Z/4Qf/AIKF/wDR0HwZ/wDDD6t/81FH/CD/APBQv/o6D4M/%2BGH1b/5qKta/8b/2RPhTaaRpPx0%2BMPw58Oa5qGiwagbbxd4hsLS7uI5Mjz9tw6uyM6SAN0yjDPBAzf8Ahr//AIJwf9HRfBH/AMLbR/8A47XNPGYOnJxnVimujlFP7nJM9rD8N8SYuhGtQwNecJK6lGjWlFrupRoyi1o9U2tNyx/wg/8AwUL/AOjoPgz/AOGH1b/5qKP%2BEH/4KF/9HQfBn/ww%2Brf/ADUVX/4a/wD%2BCcH/AEdF8Ef/AAttH/8AjtenaBovws8V6FZeKfC2k%2BH9S0zUrSO607UdPggmguoJFDxyxyICroykMrKSCCCDg1dLE4eu2qc4yt2kn%2BTZz47Js5yuEZ43C1aSk7J1KdSmm97JzpwTdtbJt21tbU85/wCEH/4KF/8AR0HwZ/8ADD6t/wDNRR/wg/8AwUL/AOjoPgz/AOGH1b/5qK88%2BH3/AAUa/Yv8X%2BB7Pxh4h%2BHvifQZ9U8ca14W0TRrn4Pa3Peate6dcX8ci2kUOns90TDp887LErmEAxybJFZR2XxC/ao/Za8C2Xj20vNEi0/WPAXhDWvEN5beLPAmraTZ3dnpi/6XPb3UmnOL23iZohJLZJdFRNGwR96K%2Bx5po/8ACD/8FC/%2BjoPgz/4YfVv/AJqKP%2BEH/wCChf8A0dB8Gf8Aww%2Brf/NRVWw/as/Yw1D4zyfs/Q3lv/wlFv4gj0G6j/4Qa/FhDqr6dHqUdi2oNaC0Wd7SVJkjMoZwcKCwKjZ%2BNfxV%2BCvwk/Z5139ofR/COjeKNO0uwaTTbfQ1tpBqt00oggtYpgCgaS4ZIdxO1WYluhoAof8ACD/8FC/%2BjoPgz/4YfVv/AJqKP%2BEH/wCChf8A0dB8Gf8Aww%2Brf/NRT/2cPiBbfFy88ZeB/ij8CvDfhXxh4D8QQ6Zr%2BlaPqK6rYyLPY217b3NtdSWls8sbxXKqd8EbLLFKuGUK7%2BSfEz9tHxD8BvDPxPl%2BOX7IfgjTvEHgD4WDx3ZaboXjoX1ndWRnngEF5dSaXA1hNvgblYbiNlWQo7%2BUwoA9Y/4Qf/goX/0dB8Gf/DD6t/8ANRR/wg//AAUL/wCjoPgz/wCGH1b/AOaivJfih%2B3L4c%2BF/wABvh/8Yr7wL%2Bz5er8QPiI/hm11y1%2BNaf8ACJ2MS6bqN99ql1s6P94tp7QeULbHmTIPM6irfx6/bc8O/Aaa9udY%2BAPgS90vwZ8LdJ8e/FHWY/GKRwWGl3tzdW//ABKCdPP9sOjWN03z/Ywym2wQ9wqKAen/APCD/wDBQv8A6Og%2BDP8A4YfVv/moo/4Qf/goX/0dB8Gf/DD6t/8ANRXH%2BHf2svht41/au1/9nfwj4E%2BGb2PhS8ns9bk1LxrDB4jupobFbmaXT9ESzke7to3kjt3meeEiRJ9qOIlMnnXh7/gpZ4Kn%2BGo8ceMf2ZfCthfeIfh7oXjT4eaPpvi6C8Oo6Xq%2BpQabanUZTZRrpjx3F3a%2BeUFzFGjyMks3kutAHuv/AAg//BQv/o6D4M/%2BGH1b/wCaij/hB/8AgoX/ANHQfBn/AMMPq3/zUV5xq/7bXgjwt8EPiH4p8R/s/wDhu5%2BInw98ZyeD5/AXhzW47221PXTptvqkMFvfvaROYfsV1HPPK1srW6QXRaNvs53bcX7Rt3N4p/Z8Mf7L/hkeFfjpHHby623iFRd6HqEnh3U9cSBbQWJW7i8rTHiaYzQkNMhEbAMAAdZ/wg//AAUL/wCjoPgz/wCGH1b/AOaij/hB/wDgoX/0dB8Gf/DD6t/81Fcr8MP2pfh38Yf2p9e%2BAPgfwN8MDpvhrU7zTtRlv/HMEXiO4ntU23E9toi2btJZpck2xnkuIjvilIjKqjSYmk/tk6N4c/Z6%2BJnxi%2BPX7NPhnwxrPw48fReEZPD2k%2BJIb%2B2v7%2B5GmrYj7dPaWqwCWbVLaJ2eMpFh23uozQB6L/wg/wDwUL/6Og%2BDP/hh9W/%2Baij/AIQf/goX/wBHQfBn/wAMPq3/AM1Fee237U2t%2BJPCfgiy%2BFv7P/wf8beM/Ht3qsmjWnhH4qC98Of2dp0Stc3R1hdJ3s4klgtxEtof3swBdUVnGH8PP%2BCgfw6%2BMPx/8C/CD4ffCj4YafYeNfhb4V8b20njvx/HpGt3FvrNxqkb2dhpaadOL%2B4tU0xmlAuIhunRcqPnIB69/wAIP/wUL/6Og%2BDP/hh9W/8Amoo/4Qf/AIKF/wDR0HwZ/wDDD6t/81FeWfDT9unwp8Uf2stZ/ZY8P/s/eC21HTtQ8Q2KWKeLY312wfS2CJeatpYsc6bp94xQ210JpzKlzbMI/wB6QnM65/wUn8KeG/hN498c6h8E/hBeXngTxv4Y8N32saL8VUufCKzaxqMNk4n1s6UhtprIy%2BbdQm1YxI8OW/e/IAe8/wDCD/8ABQv/AKOg%2BDP/AIYfVv8A5qKoeB/HH7Vng79qzw58Efjd8R/h74m0bxN8PfEOuQzeFfh5faLdWl1pt9oluis9xq98ksbpqkpKhEYNEhDYyD1Xga80jxz8B7f4oP4e8FQX17ost9b3fgTXBq2ncBmiltb/AOzW5nQqFbf5SDJIwQMnE8cf8pC/hf8A9kZ8ef8Ap28IUAezUUUUAFFFFABRRRQAV84/CbxV%2B3f8ddH17x34X%2BN/wk0DS7f4heKtD0vSr/4P6pf3EVrpevX%2BmQtLcJ4igWWR47NXZlijXc5AUACvo6vGf2D/APkiGuf9lm%2BI/wD6mut0AH/CD/8ABQv/AKOg%2BDP/AIYfVv8A5qKP%2BEH/AOChf/R0HwZ/8MPq3/zUV7NRQB4z/wAIP/wUL/6Og%2BDP/hh9W/8Amoo/4Qf/AIKF/wDR0HwZ/wDDD6t/81FezUUAeM/8IP8A8FC/%2BjoPgz/4YfVv/moo/wCEH/4KF/8AR0HwZ/8ADD6t/wDNRXs1FAHjP/CD/wDBQv8A6Og%2BDP8A4YfVv/moo/4Qf/goX/0dB8Gf/DD6t/8ANRXs1FAHjP8Awg//AAUL/wCjoPgz/wCGH1b/AOaij/hB/wDgoX/0dB8Gf/DD6t/81FezUUAeM/8ACD/8FC/%2BjoPgz/4YfVv/AJqKP%2BEH/wCChf8A0dB8Gf8Aww%2Brf/NRXs1FAHjP/CD/APBQv/o6D4M/%2BGH1b/5qKP8AhB/%2BChf/AEdB8Gf/AAw%2Brf8AzUV7NRQB4z/wg/8AwUL/AOjoPgz/AOGH1b/5qKP%2BEH/4KF/9HQfBn/ww%2Brf/ADUV7NRQB4z/AMIP/wAFC/8Ao6D4M/8Ahh9W/wDmoo/4Qf8A4KF/9HQfBn/ww%2Brf/NRXs1FAHjP/AAg//BQv/o6D4M/%2BGH1b/wCaij/hB/8AgoX/ANHQfBn/AMMPq3/zUV7NRQB4z/wg/wDwUL/6Og%2BDP/hh9W/%2Baij/AIQf/goX/wBHQfBn/wAMPq3/AM1FezUUAeM/8IP/AMFC/wDo6D4M/wDhh9W/%2Baij/hB/%2BChf/R0HwZ/8MPq3/wA1FezUUAeM/wDCD/8ABQv/AKOg%2BDP/AIYfVv8A5qKP%2BEH/AOChf/R0HwZ/8MPq3/zUV7NWVr/jnwT4VbZ4o8YaVpp25xf6hHCcevzsKUpRirt2JlKMFeTsjy7/AIQf/goX/wBHQfBn/wAMPq3/AM1FH/CD/wDBQv8A6Og%2BDP8A4YfVv/mord8Vftk/sjeBrdrrxh%2B1D8PdNVe154yskYn0CmXLH2AzXl%2Bu/wDBY7/gmf4cu2stQ/ax0SR06mw06%2Buk/BoYHU/ga46uZZbQ/iVoR9ZR/wDkjgr5xlOG/i4inH1nBf8Atx2f/CD/APBQv/o6D4M/%2BGH1b/5qKP8AhB/%2BChf/AEdB8Gf/AAw%2Brf8AzUV5un/Bb/8A4JcyS%2BSv7UsOR3bwjrAH5mzxVmT/AILU/wDBMOOLzm/arsCD2Xw9qhP5C1zWCzvJX/zE0/8AwOP%2BZzriPh57Yyl/4Mh/md//AMIP/wAFC/8Ao6D4M/8Ahh9W/wDmoo/4Qf8A4KF/9HQfBn/ww%2Brf/NRXmj/8Fx/%2BCWqMUb9qRMj08G60R%2BYsqq6j/wAF2P8Agl3Yxb7f9o2e7b/nnb%2BDNXB/8ftVH60nnuSL/mJp/wDgcf8AMI8R8Pydo4um32U4t/cm3%2BB6r/wg/wDwUL/6Og%2BDP/hh9W/%2Baij/AIQf/goX/wBHQfBn/wAMPq3/AM1FeC6t/wAHCf8AwTj07P2LxN4t1DHT7J4VkGf%2B/rJWZpv/AAcOfsbeIrw2Hgz4NfGHXZc4Eej%2BErSVifp9tB/SsHxLw%2Bnb6zC/k7/kmejDEwq03OnGcorrGlXkvvjQkvxPo3/hB/8AgoX/ANHQfBn/AMMPq3/zUUf8IP8A8FC/%2BjoPgz/4YfVv/morx1P%2BCwE2saf9v8G/8E1/2oNTVv8AVuPhhiNh/vpM/wDKuZ1z/grl%2B1rI5j8C/wDBHP41Xn91tZsbqxH44sZP51U%2BIcpir87fpCo/ypmVDM8srzcfbxi1/Pzw/wDSqJ9Ef8IP/wAFC/8Ao6D4M/8Ahh9W/wDmoq3%2Byt8RvjT4w1j4oeBPjpr/AIX1bVPAPxCi0Oz1Xwn4audJt7q1l0HR9TVnt7i9vGWRZNRlQsJdpWNDtU5z8t6P/wAFEv8Agrl41mKeEv8Agknd2YZsINd8QtbY%2BpnWEfjxXsH/AATM8UfHTxnL8dPE37SnwzsvB3jW6%2BM0R1nw3p2ox3cNnt8JeHFhCyxu6vugWJzhjguRxjA6MFmuGx9RxpRnte8oTivvklr5HW6uDlU5KVaNR/3VNr/wJ0oR%2BSbflbU%2Bn6KKK9IoKKKKACiiigAooooAKKKKACiiigAooooAKKKKACiiigAooooA574rj4gt8OdYi%2BFfh3RtW8QS2bR6bp/iDXJdNs5XYhT5tzDbXTxAKWIKwyZIAwAdw8P%2BBHw6/bt%2BCX7A3h34B6B4N%2BFFv8RvBfwusfD3h3UZvHGpXmjz6jZ20VpDcT/8SqGYQskZnZFUsGxECQfOH0jRQB5D%2BxL8HviB8EPgu3g/4qeF9GsvEU%2Bs3F/reraX4xn12XxBdzhHn1K7uZtOsCtxLKXHkpD5UUccSRlUVYo/G/i34N8OfDn/AILIfAPxFpGqeIJbvxp8OPiRHqEOq%2BLdRvrWNon8NyqLW2uZ5ILJTtJZbZIlfC7g21cfYVfGP7Z2rtpH/BYz9i3c2I7vw/8AE62kOf71ho5Uf99KtcuMn7OhzecfxlFfqe7w5hvreaey706z/wDAaFaX/tp9nUUUV1HhBRRRQAUUUUAFFFFABRRRQAUUUUAFFFFAHmepfsyfs2/GjR9B8U/GL9nvwP4s1O38P2trBqPiXwnZ388cCqXWJZJ42YIGd2Cg4BdjjJNUv%2BGB/wBhX/oyz4S/%2BG50z/4xXJ/F7/gpB%2Bxf%2Bx9L4c%2BGn7Rfxl/4R3W77wpZ6na2X/CO6jd77V98Syb7W3kQZeGUbSwb5c4wQTyH/D83/gll/wBHRf8Alk65/wDIVeLiMXw7TryjXnSU09eb2d7%2Bd1e/qaLxDxGVL6pHOJ0lT05FiakFHrZRVeKjvsorfbU9b/4YH/YV/wCjLPhL/wCG50z/AOMV6doGgaF4U0Ky8LeFtFtNN0zTbSO107TtPtlhgtYI1CRxRxoAqIqgKqqAAAABgV8rf8Pzf%2BCWX/R0X/lk65/8hV9PeAfHXhX4oeBNF%2BJfgXVPt2ieItIttT0e98h4vtFrcRLLFJskVXTcjqdrKGGcEA8V0YHEZPWnJYOVNtLXk5b28%2BVLS/cUuLqvEn7qeYyxPJrZ151eW%2Bl7Sq1LX2ukr7X6HhPww/YX8V%2BAPHnhTWtT%2BM%2Bm6hoPgf4oeKvF/hrS4fCEkF2F13%2B1nntLi5N66SmKXVWKSpDF%2B7hCMhZjIPI9a/4Iwy694p8e%2BJLz47eHYrjxl4C8f%2BF/7atfheia3cx%2BJpFcXGq6ib4vqj2W0RwoFt08sbdqYDD3aw/b8%2BEer6dYzaT4U8RzX11ovi3UrvSZfsFvLpaeHL1bDUY7uSe7SCBhdukCM0vlsSWLrGruvCeDf%2BCn3gf47TfDjUfgJBZy2Ou/GfUfA3jeC/vrHUpdPNv4N1fxChtrnSr64s5XY2lgd6TzIEmmjYJKp8r0iDrpP2GA/iHVdfHxQwdT%2BOuk/EcxDRP9X9i0jT9N%2BwZ8/wCbf9g8zzsDb5u3y227m7z41/A7UP2gP2edd%2BCXj/xjFb3%2BtWDRp4g0PSzALK6SUTWt1FBLLLloZUhfazsrtGc4DYHzx4t/4KrSv8EPCnjX4RfCnX/Ed7qkHw9k8R%2BKZfD8Fvo2it4ku9OVILmAak1zHcNa3vmqkBuooGmg82ZlJLfSHxh%2BPHh/4SfALx58fbrRtSubHwF4f1jVL6yuNPmtJbgadDLLKsYnRSyt5LBJVDRuCGRmUgkA534C/s//ABQ%2BFOr%2BIvHfjX4taH4h8VeOPFsWreNNRsvB81haSWsGmRWFvZWNu19M1ps%2BzwSmSWW5LM1wNqiVPJ4v9nH9kv8Aan%2BB%2Bi%2BOL/xZ%2B0x8P/FnjHxrdnUbvxnc/CK9gnmvg4EIuYzrsiy2cEAFvDaQm3EagMHLtIz7f7LXxs%2BP3iH4qeJvgN%2B0qPCNz4i0bwV4d8V2upeC9KubK0FrqsmpQGyaO5ubh3lt59LmzOHRZUmjIijIZa5rxl%2B0T%2B1R8Mvjxr/wjvrnwN40lk%2BF/iLxdo%2BleF/Cl/b3vh42k0MemQ37NfTi9F4ZJo0MaWrs9lN5aOquYgDb8DfstftDfDDw74t1fwR8fPAw8beP/Hz%2BJ/Furar8K7ibRyx0u101YbPTotXiltz5Vlbs0kl1Ozu05YYkUR8R48/4JW%2BGfHnwG8Bfsvax4j8F6j4O8LeF/wCwtXv/ABD8MIb7xBNbSHF2umX/ANqSPR1niLQlUt5vLjYCMoVVhc%2BCX7c3jO%2B/Z11Pxl8SvEejeJviVHc6bptl8OtO%2BGmr%2BDb%2B31m/hU2unT2er3Nxc7HkLt9s2rEIIZpcFIZGHnrf8FOPi4nwj%2BD9n4o8Q%2BDvDPjLxx4N1/xJ4s8Rw/DXXPEOl2FtpN5b2kvk6XYXQuljd7pJGuJbnyreOCQyMS6CgD11v2AZIP2hn%2BJuk/EvTLPwjP8AFRPiPd%2BGYfCX/EzfxANKGmsRqf2natq6KJGi%2BzGUszp54ibyxQ%2BHf/BO9/BevePfiRfXnwlfxV4w8Ny6Jax6J8FV0/QVgmn8%2B6l1DThqDyapPcusImdrmMMlvGqLGd7P1LfHP4zWv7Y/w%2B%2BGkXiTwRq3w68f/DrWNZsZ9L0i5/tD7XYNpeJ0u/tbQPbSrqDFYxAWART5pyRXK6t%2B2X8V/ge37TfiT4/QeGNY0T4JeFE8V6DD4W0u4sJ59OayvrsWlzJcXM6SzhbRV85FhTLn92AM0AZmgf8ABIz4C/8ACpdU8IeLrx7TxHqur6nqw1r4ZXGpeDNP027vNNttM2Wmn6VfpstUs7K1j%2BzyzSh9kjMxaZydTUf2EvjR4f0D9nrwb8Hf2jtA07SfgNdw3yDxh4I1HXrzXLtdF1HRpGa5fWoWgia31O4ZIyJTHIkWHMaeUcO0/a3/AGivEP7IPxQ%2BKPgX4y/DLVfH3gTRG1mTT734SeINJttNgSye78mWzvtQiurxJljYQXyNbxSgFlQ7Stdx8dv2gPj74I8E/Bj4o%2BBLjwemleLPF3hvSfHOnavol1PcTR6tdWduDYSx3ca2zR%2BdM5aVJwcIu0ctQBS0H9gGTw7%2B0Na/EzTPiVpkHhCw%2BKWo/EW08M23hHZqba/faXcafcGXU/tRD2rLdTy%2BULZZdxRDOYk8s4Vh/wAE9/i54q%2BHPxa%2BHPx6%2BP3g3xFb/EnxzYeMtNfQ/hdcaemkazZSafLbNLHcavdre2yy6VZs0H7otiUGTDqE6b47ftGfGv4N/tX/AA%2B%2BG1pqOi6n4Z8eeIYNNTRpPhzqtvJZwtbTtJcN4ia7Om%2BeskBZLAwLcSowVMn568g8B/8ABWddW%2BDHxB/ae8ReLvDEmiaP4E1vxP4Q%2BHv/AAheraXfXFpZXIgjlbW7uY2eoLl4Euvslvizlukjd3KZkAPQbD9gH4ueHddk%2BNvg/wDaQ0DT/ixe%2BNdU1/U/ELfDmSTQpI7/AEqx0yezi0oakssSeXpenzhzeOxuYXkfesrR1e1f9gfxfP8ACXwD%2By/oPxp0W1%2BF3gm18MJLZXXgd7jxFfS6LcwXUUi6p9uWGAyy20RYizd13ylHVmVoz4XfHn47fFj4L69regftOfCuz8Q%2BGNcD%2BKtV8Q/BnXtHttA00WP2hkuNM1HVYLoscpKl480MLwMXEZ25PIfE39rL9tG6/Yd8DftTfCu%2B%2BHnh/wASeLrPR9PsfBnirwBqWojV9Z1S/hs7J4ZI9Vs5LS1kM8c5SSKWSKEszn5GoA6zwp%2BwT8Q/CfxTtPGlr%2B0Fpk2k%2BGvF3i7xV4HsZfAzf2haarr320yi/vft2L%2B0ha/n8u3SG3YrFbB5WMAY7vhP9mX9pTwz4n8a/GaT9obwPcfEPxja6JYPfD4WXUeg2tjpjXjRj%2BzhrBnkuXN9NuuDeD5Y7dQm2EBn/Ej4y/tC/C79qn4f/Dy98ReBtc8N/EPxDdWFn4T07w3eQ67pthbaXNcz6vJeG9khkgjuI4IXQ2sSj7dAomMhRJfeaAPJvgl8Az%2Bzd%2Bzfq/w6ufFSa1e3V54g1zVtRt9MFjbyX2pXt1qFwLe2DuLeAS3LrHHvdlQDc8jFnal44/5SF/C//sjPjz/07eEK9S8c/wDIk6x/2Crj/wBFtXlvjj/lIX8L/wDsjPjz/wBO3hCgD2aiiigAoornfiv8V/APwR8BXvxM%2BJuuNp%2Bj2DwRzTRWc1zLJLNMkEEEUECPLPNLNLHFHFGjSSSSIiKzMAQDoqK87sv2rfgJffAu6/aRTx00PhCxknhvr280i7t7m2uYbk2klpJZSxLdJdC5UwfZWiExlxGELkKcqX9tv9n9PAMXxGtbvxhe2UmrzaXNp2mfDDX7vVbK7iQSSRXWmw2LXtoVjKOTPCg2SRtnEiFgD1mvGf2D/wDkiGuf9lm%2BI/8A6mut16j4F8ceEfib4K0j4j/D/wAQ2ur6Fr%2BmQajo2q2MoeG8tZo1kimRh1VkZWB9DXl37B//ACRDXP8Ass3xH/8AU11ugD2aiiigAooooAKKKKACiiigAoorB8d/FP4YfC3T/wC1vib8R9B8O2u0t9p13WIbSPA6ndKyiplKMI80nZeen5kznCnFym0kuraS%2B92RvUV8w%2BN/%2BCxP7APhTVv%2BEZ8OfGObxprBJ8rSPAWh3WrSy467XhjMR/77rG/4ee/E/wAYfJ8Ff%2BCZvx61rd/qrnxH4eh0O2l9Csk8jZX3xXmyzrKlLlVVSfaN5/8ApEZfmeRLiHJYycY11JrpDmm//JIz/M%2Bt6K%2BSP%2BGgv%2BCvXjvnwf8AsA%2BBPBSP/q5fG/xPjv8AjsWSxQEfTqK5n4leM/8Agqb4M07%2B1fjz%2B2N%2BzB8JbORSVuILW7lZV/2f7RkVXb2HBNZzzmlGLkqVRrvycq%2B%2BcoW%2BZrhsyr4%2BuqOCweIrTlsoUZ3fonZv/wABZ9u0V%2BUPiX9p8%2BJdWfw7qP8AwWN%2BLXxN1heX0L4C/B%2BK1ceipLEnlv6A7%2Be9UV%2BA/wC2B8XiJPh78JP2zPEEEvP2r4r/AB6tfDUUQ/vfZPJZ/wDgKtmvNfFEZu1Gg5vylGX/AKRGov8AyY%2B3p8AeKEoKpXyaWFg9VLF4jC4RW72rVVO3pTf6H61syqpZiAAMkntXl3xP/be/Y9%2BDHmR/E79prwRpE8Wd9jP4jt2ueOuIEYyH8Fr86F/4IyftvfFLMPjey8BaTpswxPbeKvib4l1m7x7iCSOFv0r074X/APBBvxV4U8u51j9qfQdKdMGJPB/wf0uC4t/Zb65Mtw31JzS/tfiGvpQwLj5ylb8LxK/1MzGn/vubZdh/8NbEYuX/AIDhcLGN/WrbzPZ7n/gs7%2ByPrlzJZfA3wt8TfinNGxVk%2BHnw6vbv5h2BnWEH6g496o61/wAFHf2stYtDc/DL/gmB43toZOI774l%2BK9P8NRRj%2B84nLHjrtByelWbT/gkb4b1G2S1%2BIv7cn7RHiOBVC/2dcfEk29kF9FhhhXaPYGr%2Bjf8ABFb/AIJyWF2NU174GXXiG%2B/ivvEfizU7t3%2BqtcbD/wB80cnFlf4nGHo4L/22ow/1X4Qp/wC98S1p%2BWGy5QXynisTf58r9DyDxf8Atz/t2W8b6v4s/ac/Y6%2BGsEYymjal4zuNU1DPcP5Mm1sf7Az1ryjW/wDgrL%2B1fNqD%2BHPBv7YXwf8AFF%2BOGt/AHwl8RajcD02%2BZGsLZ/36%2B/fB3/BPP9hXwDKlx4X/AGRvh7DNF/q7ifwrbXEqH1DyozA%2B%2Ba9Y0XQdC8N2CaV4d0W0sLWP/V21lbLFGv0VQAKP7Gzur8eKcfSU5P8AFQS%2BSD%2BzPCrCar%2B08VL%2B/iqGHi/lRoVZW8lJPzPykh/aa/4LefEIfbvhxN8VkjP3Ptn7O%2Bk6dBJ6FGvbosV98Cpo4v8Ag5T8duumzXOq2umSf664dfCukz49mTzJF/AV%2BsFFP/VirL%2BJjaz9JW/zJli%2BBaelHI4tf9PcdmNR/O1egn9yXkfkxc/8Ev8A/grt8V5zd/E74xQX0cv%2Bt0/x78aNYubdR3CxaZDEq/QHFaWgf8ED/jbIC%2Br3nwM0iaRt01xaaHrWsOW7nOoXRB/ICv1VooXB2Tt3qOc3/em3%2Bj/MuGe5LQaeHyHLotdZYRVpf%2BBYmvXb%2BaPzf8Lf8ED/ABXpk4utW/ao8GxngiLTP2edCBi/3ZZjI2ffrXqGgf8ABHzUrO0XT9X/AOCgHxktrdf%2BWHg%2B9stEQfQQW5C/hX2hRXZS4ZyWj8NL/wAmn%2BkkehQ8QOIMH/uVPDUP%2BvOBwNP8Y4Rv8WfI6/8ABGT9mTVFEfxF%2BLPxh8YJ/Gnib4mXcof6%2BUI61/D3/BGH/gmd4bYSWv7Lmn3UmctJqmuajdlz6kTXDD9K%2BoaK6Y5Hk0Xf6vBvzjf/ANK5iq/iX4g4iPLLNK6XaM/Zr7qcaS/A8S0v/gm1%2BwBpEaxWn7G/w5cL0N14Ttpz%2BJkRia3tK/Yl/Yy0FhJon7I/wxs2H8Vr4C06M/msIr0%2BiuqOX4CHw0YL/tyP/wAiePW4t4sxH8XMcRL1r13/AO5rfgc1o3wa%2BD/h3H/CP/Cnw1Ybfu/Y9Ct4sf8AfKCujhggtohDbwpGij5URQAPwFOorpjCEFaKS9El%2BSR41fFYrEy5q1SU3/elKX/pUmFFFFUYBXjP7L//ACW/9o7/ALLNY/8AqFeF69mrxn9l/wD5Lf8AtHf9lmsf/UK8L0AezUUUUAFFFFABRRRQAUUUUAFFFFABRRRQAUUUUAFFFFABRRRQAUUUUAFFFFABXwZ/wUu1T%2Bwv%2BCq37EGq7sZ1Txja5/67/wBhxY/8er7zr86/%2BCx97Lo//BQb9iXX4%2BEs/Huom4bP3Yn1Tw3Gx/8AH68zOJcmWzl25X/5PTPuPDegsTxphaL%2B2q8fvwuL/wAkfopRRRXpnw4UUUUAFFFFABRRRQAUUUUAFFFFABRRRQBleBv%2BRJ0f/sF2/wD6LWtWsoeDNDTKwNfQpkkRW%2BrXMaL7KqyBVHsABS/8IfpP/P3qv/g8u/8A47QBqUVl/wDCH6T/AM/eq/8Ag8u//jtH/CH6T/z96r/4PLv/AOO0AeH%2BIP8Agmn%2Bz54l8R/GbxLqGr%2BJhL8bdOtrPXLdNRh8nRBEpLSaahhIgaaci5mEvmpLMqllK/IX%2BCv%2BCd3w58LeLo/iF4g%2BMXj7xT4gPxOk8d3mseIL3T/Mu9TbwrP4X8tktbKGJLcWE5ZY4kjxMiNnZujb23/hD9J/5%2B9V/wDB5d//AB2j/hD9J/5%2B9V/8Hl3/APHaAPnL/h1J8GLPwvoHgHw58Z/iRpHh3SLHwhDqmg6dqeniDxBN4aa1OmXd4z2LSibbZWyS/Z3gjlSJQyfKuPoHWPh1pHi3wPrvw6%2BIV9c%2BI9J8RQ31tqVrqkcKhrK6Dq9mPIjjBiWNzGpbMhUDe7tljc/4Q/Sf%2BfvVf/B5d/8Ax2j/AIQ/Sf8An71X/wAHl3/8doA8z%2BB37Hul/AuTUtZ0745%2BO/EGv6pDotjdeKPE0%2Bmz3x0jSpJXtNJHl2UcX2YfaLsM5jNyxvJnM/mFZFzvhL%2BxNcfB7x34/wDH%2Bg/tV/Eu%2BuviLqF7f6zHq0Hh%2BU291MvlwSQzrpK3G20iCRW0MsskMaIA0b859d/4Q/Sf%2BfvVf/B5d/8Ax2j/AIQ/Sf8An71X/wAHl3/8doA8j0n/AIJ//AXWD4gvf2jrI/G3UfEs%2Bnvqeo/FzQdI1ABLBLhLOOK1t7GC0hEP2y8KskAcm6lLO27jmvD/APwS0/Z/%2BHPws8MfC74E%2BKvEvw4XwvpetaXba34Jg0q3vLvT9Wmhmv7WcS2MkBWWS2tW81IkmQ20eyRfm3fQP/CH6T/z96r/AODy7/8AjtH/AAh%2Bk/8AP3qv/g8u/wD47QB5FcfsN6HafGX4c/FjwT8e/HfhnT/hd4aPh/wx4G0eLRX0j%2BzXFqJreVrrTZrxhKllaozLcqyiL920ZZi0MX7BfhfU/iN8VfGXxG%2BOvjrxfovxi8PzaH4u8Ca9DoqaSNPaOaGOCFrTTYLtRFBcTQqXuHZkkJkMrhXHsf8Awh%2Bk/wDP3qv/AIPLv/47R/wh%2Bk/8/eq/%2BDy7/wDjtAHid/8AsAaTq/w3%2BIPgvWf2nfibea58S9EtND8SePrp9EfVxpFsk8cVhEp0z7GkW27u8ubZpibqRjJv2srviN%2BwjqHxJ%2BDPgL4M6h%2B2N8VbCPwBq1pqVpr%2BnWnhn7fqlzZ3MdxYtdCXRnt8W7RIqCCGEOo/feaTur2r/hD9J/5%2B9V/8Hl3/APHaP%2BEP0n/n71X/AMHl3/8AHaAPOvGX7KK/Ef4maR44%2BIfx/wDHesaLomuWGtaf4CuDpUWkLqNnGgguWaCwS8crMgufLa5MXnc%2BXtCoOQs/%2BCZ/wHaLV9B8U%2BKfFmveGrzwpr3hvQfCOp3tqlh4Z0zWJo5r%2BCxNvbRT5ZoYQj3Es7wLEqxNGuQfdP8AhD9J/wCfvVf/AAeXf/x2j/hD9J/5%2B9V/8Hl3/wDHaAPn3x9/wTN8KfE3wJrHhPxl%2B1B8UrvU/EvijStX8VeKZH0I3etw6dEyWml3Nu2lGxewViJWhFqDK6/vWdWdX9P1X9m/SvFlx8ONQ%2BJHxK8S%2BJr34a69LrWn3eqCwiOq37WV1ZpNeR2trDE5ijvJWjWJIlEgRyGZAa7P/hD9J/5%2B9V/8Hl3/APHaP%2BEP0n/n71X/AMHl3/8AHaAPLdE/Y5XQP2rtd/a0sf2jviA%2Bo%2BIYbW1vvDF1Dok%2BmR2FvEVjsIHk0w3lvbeYz3DJFcqXmkZ2JyAPZqy/%2BEP0n/n71X/weXf/AMdo/wCEP0n/AJ%2B9V/8AB5d//HaAE8c/8iTrH/YLuP8A0W1eXeOP%2BUhfwv8A%2ByM%2BPP8A07eEK9RPgzQ3ws7X0yZBMVxq1zIjezK0hVh7EEV5d44/5SF/C/8A7Iz48/8ATt4QoA9mooooAK8g/bX%2BG/j74h/CfSL74ZeGW13WPCfj/wAO%2BJ4fDqXcMD6tFp%2Bp29xPbRyTukSzGFJDF5rpGZVjDuikuvr9FAHyf4V%2BBPjvxP8As7fFDw98ZP2fvGdtd%2BO/G95440/QPDmv6MupaXcJfwSadbwzte/Zl1KI2Freks5tBLJs86UBs8L4e%2BG/7fHwJ%2BCfj7WPhn8MviB4g8ZfG74vDVNY1HUtf8MTeIPB2jLomnaY99IhurTS579l0sGGC2Y28JuYd4lW3dJfuqigDzv4W/Cqy8N/sweG/gz8NbXxL8MrXS/CdlpejW4l0%2B71XQYoYUjjjZ5PttpNMioFZz56McnLZ3Vx/wDwTp0m/wBB/ZuvtE1XxPfa3c2fxb%2BIcNxrGpxwJc3zr4z1oGaVbeKKEO5G4iONEyTtVRgD3SvGf2D/APkiGuf9lm%2BI/wD6mut0AezUUUUAFFFRXt7Z6bZy6jqN3FBbwRNJPPNIESNFGWZmPAAAJJPAxRsGw6eeC1ge5uZkjjjQtJJIwCqoGSST0AHevAvi7/wVL/YD%2BCk7ad4s/aZ8PXuoB9i6X4ZlfV7lpOgj2WaybWJ4w233xXjXjDxl4/8A%2BCunjq%2B%2BEHwc1zUPD/7OWhX5tvG3jizZobjx1PG3z6dYP1FoCMSTD7/QZBAb6p%2BD37Ln7OP7P1pHZ/BT4HeFvDPlxhDcaRosMU8gxjLzBfMkOO7MSfWvGjjMbj5N4LlVNac8k3zPryRTV4rbmbSb%2BG6V34EcfmOZyby/kjSWntJqT5n1cIpxvFbc0pJSd%2BVNK78B/wCHkn7QHxa/cfskf8E3vib4kik4g13x40HhjT3H/PVHuCzSoOuAFJxjrSD4Qf8ABXj48HzPid%2B094C%2BDmlSnLaT8NvDjarqBj/uSXN6Qsb/AO3Fke3avruvHf2of27/ANm79kiO3034neMJLvxHqBVdG8FeHbY32s6k7HCLFaxncNx4DOUQnjdnior4RU6Tq47FS5VvZqnH/wAl95%2BnM2%2BzPVynhDPeJMdHB0Z1sTVltTpLkTtu7U1zcqWrcqkYpaykldnlZ/4JT6h4l%2Bf4rf8ABRD9ovxAG/1tnB8QBY2knrmGKH/2atHQv%2BCTP/BNL4PwT%2BO/GPwW0rU5IF83Udf%2BIOuz6grY/jl%2B1ymED/gIFYS%2BOf8Agqr%2B12Qvw68B6L%2Bzp4PnPy654viTV/E08Z6NHYjENsSMgpNh1OCGrR0L/gkF8AvEmrQeLP2rPiV4%2B%2BNWswv5iSePvFEzWMEn/TG0gKRon%2BwxdeTXBHC4SvLmwuC5%2B06t0vVKbnN/KEbn2sfC3gTI5qXEONpKot6VCLxtZeUpup9Wpy7/AL6o11XQpS/8FJ/2HfhLqEnwe/Yy%2BF978R9biwv/AAjXwR8HrNaxdlaS4iVLdY%2BuXVnwB0qUfFL/AILA/HMj/hX/AOzj8OPg3pcvS%2B%2BIHiOTWdR8vs6QWQEaP/sS9OhNfT/gH4bfDz4U%2BHIfB/ww8C6P4d0mD/U6bommxWsCe4SNQuffFbVenHL8dVjatXcV/LSSgl82pS/9J9D1o8TcHZNFU8lyaErbVMXJ15eqo03Qw0fS1S3d9fkc/wDBPf8Aa0%2BKfz/tM/8ABT34iXsEvM2k/DTTLXwzCq94vMhDvIvYlgCRXTfDX/gkf%2BwB8ONRPiC4%2BAdn4q1eRt1zrHjq8m1ma4f%2B863TPFn6IK%2BkqK0hkuWRkpSp88u825v/AMncvwSMcT4mccVqEqFHGPD0nvDDxhhoNdmsPCk2v8U5feZ/hnwl4V8FaUmg%2BDfDOn6TYxf6uy0yyjt4k%2BiIAB%2BVaFFFemkoqyVkfD1KlSrNzqSbk9W22233bbbb9WwooopkBRRRQAUUUUAFFFFABRRRQAUUUUAFFFFABRRRQAUUUUAFFFFABXjP7L//ACW/9o7/ALLNY/8AqFeF69mrxn9l/wD5Lf8AtHf9lmsf/UK8L0AezUUUUAFFFFABRRRQAUUUUAFFFFABRRRQAUUUUAFFFFABRRRQAUUUUAYHxS%2BJvhL4N%2BAtR%2BJfjp9SXStKjR7s6RoV3qdyQzrGojtbOKWeZizKNscbHnOMAmsqL9ob4NS/s/2/7UreOYIvAV14Vh8SQeIbm3liRtMlt1uI5zG6CUFomUiMoJMsF27uK0fi5rXiDw/8NNa1Xwr8PNX8V6iliy2nh7Qbiyiu7xnwm2N764t7dSAxY%2BZKgwpwScKflnwX8Hv2jPGH/BKnwb%2BzBrP7O2u%2BF/HHg34d%2BF4m0vxFrWjvbahqWhy2EhsRPY31yoS5ayKrIwCiOUGTY2UoA%2Bm/gz8c/hp8fvDV14q%2BGWq300On6nJp2qWer6FeaXfafdoiO0FzZ30UNxbSeXJFIFljUtHLG4yrqx%2BE/wDguZ/oHxv%2BAvi/p/wj0Gq6ju/u7fEfg9M/%2BRK%2Br/2Q/BXxLtPFfxY%2BNfxN%2BHF94Nm%2BJHjy21TS/Cmq31ncXtjaWuiaZpivdNYzz2/nSSWUsmIppAImhBbcGVfjP/guT4A8VaFc3njm7%2BLXiHXo2%2BFGvahpOg6rbaclponk%2BLfA25bVra0inYMrksbiWc/INpX5s%2BVnv/ImxD7Qb%2B6z/Q%2B/8Kmv%2BIl5PF7TxFOH/gxyp/8AuQ/Teio7O7hv7OK%2Bt2zHNGskZ9VIyKkr1dz4Fpp2YUUUUCCiiigAooooAKKKKACiiigAooooAKKKKACiiigAooooAKKKKACiiigAooooAKKKKACiiigAooooAKKKKACiiigArxnxx/ykL%2BF//ZGfHn/p28IV7NXjPjj/AJSF/C//ALIz48/9O3hCgD2aiiigAooooAKKKKACvGf2D/8AkiGuf9lm%2BI//AKmut17NXjP7B/8AyRDXP%2ByzfEf/ANTXW6APZqKKju7u1sLWW%2BvrmOGCGNpJppXCpGgGSzE8AADJJoDYyviJ8Q/BXwm8Dar8SviP4kttI0LRLJ7vVNSvH2xwRIMknuT2CjJYkAAkgV8ZWmifHj/grxexaz4xt9a%2BHH7NQlEljoe9rbWviEgOVknKnNrYNwQgOXHIJyrxpYQat/wWA%2BM6a3fw3Fv%2BzJ4B1omwtpFaP/hY2rwPjzWBwTp8LggA8SMOckkQ/clvb29nbx2lpAkUUSBIoo1CqigYAAHAAHavCSlncm27YdbLb2r6tvf2fRJW59W/cspfNpS4im221hFoktPbNbtvf2XRJW9pq2%2BSylm%2BB/A/g/4aeEdO8A%2BAPDdno%2Bi6TarbabpmnwCOG3iUYCqo4H9SSTyaxfjf8evg/wDs3/D%2B7%2BKHxv8AH%2Bn%2BHdDsxh7y/lwZHwSI4kGXlkODhEDMccCvJf2t/wBvew%2BDPi21/Z1/Z/8ABUnxH%2BM2txZ0jwVpsn7rTkIH%2Bl6jMDi1gUENhiGYEfdU7xz3wP8A%2BCdOo6/8QLT9pb9vzx9H8U/iPCfM0rTZIdvh7wvkgiKwtGG1mUgfvpBuJVW2hxvO9XHTlUeGwMVKUdG9oQ8m1u0vsR12u4o/Ycq4Py/L8tpZrxJVeHw01elSgl9YxEVonShK0aVHS31iqlDR%2ByhWa05r/hdP7eP/AAUGP2P9mTw3dfBD4WXPD/Erxdp4bxBrEB/i06xJxbow6TSHJDBkYEFa9l/Zc/YD/Zy/ZPmn8S%2BCPDdzrPi/UMtrXj7xVdG/1rUJG%2B%2Bz3MgygbusYRTgZBPNe1UVeHyynCqq9eTq1F9qWy/wR%2BGPyvLvJmWbcc43E4GWV5TSjgsFLelSb5qltniKz/e131tJxpJ/BRjowooor0z4cKKKKACiiigAooooAKKKKACiiigAooooAKKKKACiiigAooooAKKKKACiiigAooooAKKKKACvGf2X/wDkt/7R3/ZZrH/1CvC9ezV4z%2By//wAlv/aO/wCyzWP/AKhXhegD2aiiigAooooAKKKKACiiigAooooAKKKKACiiigAooooAKKKKACiiigAooooAK%2BEP%2BC0Wi/29pl5Y7M%2BX%2Bzf4%2Bucf9cdc8FzZ/wDHK%2B76%2BPP%2BCm%2Bjf8JB4j1LSgm5pP2S/iy0a%2BrrP4Wdf/HlFcOZw9pllePeE/8A0mR9TwNifqfG%2BV1/5cTh3/5Xpf5n0z8Cda/4SP4IeDfEO/d9v8K6dc7vXfbRtn9a6qvKP2D9Z/4SH9iL4P6yz7nn%2BGOhGU5/jGnwhv8Ax4GvV62wk/aYSnPvGL%2B%2BMX%2Bp5vEGG%2BpcQYzD/wAlatH/AMBq1Y/%2B2hRRRXQeQFFFFABRRRQAUUUUAFFFFABRRRQAUUUUAFFFFABRRRQAUUUUAFFFFABRRRQAUUUUAFFFFABRRRQAUUUUAFFFFABXjPjj/lIX8L/%2ByM%2BPP/Tt4Qr2avGfHH/KQv4X/wDZGfHn/p28IUAezUUUUAFFFeIft/eJPEWhfBPRtI0TxXqWgWniT4l%2BFfD%2Bv65o%2BoSWd1Z6dfa1aW1wIrmJle2eZZPswmRleP7RuRkcKwAPb6K%2BQfCEX7QPjj9jX4r/AAv%2BC/j/AF7VdR8L/FfUtA8Jaze%2BKpP7V1HRbXVLdruwj1S4cyfaxEb/AE2K7lk8xJIo2eXejSV5V8KPHfxS%2BKnxGtf2YviHrfxJ8F/D4/tB61oenJefFK7k1%2BS1tfBlpqiaTPrtlfSzyMuoTajMwivJGUWP2ZpGSGVCAfonXjP7B/8AyRDXP%2ByzfEf/ANTXW6pfsZfF74jeK/2BvAfxe8RaRrPjrXp/CEE6DTpLSO%2B8RIvyQ3atczQW/mXEQScs0kaHzCQQCBSf8E6dWv8AXv2br7W9V8MX2iXN58W/iHNcaPqckD3Ni7eM9aJhla3llhLoTtJjkdMg7WYYJAPdK%2BU/%2BCpnxK8Xa34K8MfsO/BvUjD42%2BOWqtoguIuW0zQ0AfU71gP4VgymO4kfbytfVNxPBawPdXUyRxRoWkkkYBVUDJJJ6ADvXx5/wT9tbr9rT9or4gf8FK/E1tI2kajJJ4Q%2BDsVwhHk6DaSkT3iA9Dc3AY/3l2yLypFeTmspVYwwUHaVW6b7QWs393urzl5Hh51OdeMMvpu0qzabW8aa1qS8tGoL%2B9PyPqf4WfDTwh8GvhtoXwo8A6Ytnovh3SoNP0y3HVYYkCLk/wATHGS3Ukknk14N%2B3t%2B1R8QfCWp6J%2ByB%2BymIr34yfESNk0uRhui8M6bkrPrFzwdioAwjBHzODgNt2N6N%2B2R%2B1H4U/Y%2B%2BAWsfGfxJaNfXUAW08PaJCT52r6nNlba0jAySXfk4BKortg7a4X/AIJ//sneLfhBo%2BsftDftE366x8ZfiUyX/jXVHAI02IgGHSrfkiOCBdqkKcMy9SqJicZOdWpHL8K%2BXRczX2IbJL%2B9K1o9knLor/rnCWV5ZkWUviXNKUZ0qcvZ4ai17tevFJ%2B8uuHw6cJ1uk5ezoJ%2B/Ut1v7IP7Fvwm/Y78GT6V4NjuNW8Say4uPGHjfWXM2p69eHl5ppWJbbuLFYwdq5J5Yszev0UV6VDD0cLRVKlFRitkv6%2B9u7b1bbPkM2zbM89zGpj8wqyq1qjvKUndvt2SSVlGKSjGKUYxjFJIooorY84KKKKACiiigAooooAKKKKACiiigAooooAKKKKACiiigAooooAKKKKACiiigAooooAKKKKACiiigArxn9l/wD5Lf8AtHf9lmsf/UK8L17NXjP7L/8AyW/9o7/ss1j/AOoV4XoA9mooooAKKKKACiiigAooooAKKKKACiiigAooooAKKKKACiiigAooooAKKjvb2z06zl1DULuKC3giaSeeaQKkaKMszMeAAASSelc98MvjN8H/AI1eEP8AhYPwb%2BK3hrxboAmkiOueGddt7%2Bz8yP76edA7JuXIyM5HegDpa%2Baf2vdF/wCEj/aN0fw9s3fb/wBmn4n223133nhRcfrXtfwo%2BO3wQ%2BPGmXetfA74yeFPGdnp919mv7vwp4ittRitptoby5Gt3cI%2B0g7SQcEGvPfibp8Orft7/DfS7gfu7n4JeP4pP91tV8Ig/wA6irD2lKUO6a%2B9NfqdWBxDwmOpYhfYnGX/AIDKMv8A20yP%2BCUes/29/wAE5/hDfb92zwhDb5/64u8WP/HK%2BhK%2BU/8AgiTqE15/wTL%2BG9rdn9/YHV7Odc/daPVrxQP%2B%2BdtfVlcGTT9pk%2BHl3pw/9JX%2BR9Z4l4dYTxGzmito4rEL/wArVH/7cFFFFekfEhRRRQAUUUUAFFFFABRRRQAUUUUAFFFFABRRRQAUUUUAFFFFABRRRQAUUUUAFFFFABRRRQAUUUUAFFFFABRRRQAV4z44/wCUhfwv/wCyM%2BPP/Tt4Qr2avGfHH/KQv4X/APZGfHn/AKdvCFAHs1FFFABWb4x8GeD/AIieFr/wP8QPCmm67omqWzW%2Bp6PrFjHdWt5Cww0csUgKSIR1VgQa0qKAOKt/2a/2c7TwW/w3tfgD4Ki8OyaH/YsmgR%2BFbNbJtN8xpPsRgEflm33u7%2BVjZudjjJJqPU/2YP2ada%2BEtt8AtY/Z48DXfgSzdXs/BVz4Ss5NJgZXLqUs2iMKkOzMCF4JJ6mu5ooAh07TtP0jT4NJ0mxhtbW1hWG2treIJHDGoCqiquAqgAAAcACvH/2D/wDkiGuf9lm%2BI/8A6mut17NXjP7B/wDyRDXP%2ByzfEf8A9TXW6AOd/wCCqfxk1X4M/sNeNbvwrvfxD4ntY/DHhq3hOJZr3UXFqoj/ANtUeSQf9c69S/Zw%2BDukfs7/AAA8HfBLSWj8jwr4btNPeZBgTSRRKJJT7u%2B9z7sa%2BeP2uP8AjIL/AIKQfAf9lyH9/pfgeO7%2BJniyDqFa3JttMJHTIuWfIPZxXS/8FTPjN4u8Efs%2B23wM%2BEU//Ff/ABi1iLwf4SRGIaD7T8t1dnHKpFAXy4%2B40iN2rwJYqFLFYrGz1VJKnFd2vekl5ucoR9RcHZHieL%2BN/qlBpc0o0FJ/DCKTq16ku0aavKT7U35HBfB5W/4KR/tpzftMakpuPg78F9Sm034ZQNzB4g8QLgXOr46PHDgJC3I3BXUgiRa%2B1a5D4BfBbwf%2Bzr8F/DPwP8B2wj0rwxpENjbNsCtMUX55nA/jkctIx7s5NdfXfl2FnhqDlVd6k3zTf959F5RVox8l5s%2Bv4zz/AA2d5pGlgIuGCw0fY4eD3VKLfvy/6eVpOVaq%2Bs6ltqcUiiiivQPkQooooAKKKKACiiigAooooAKKKKACiiigAooooAKKKKACiiigAooooAKKKKACiiigAooooAKKKKACiiigArxn9l//AJLf%2B0d/2Wax/wDUK8L17NXjP7L/APyW/wDaO/7LNY/%2BoV4XoA9mooooAKKKKACiiigAooooAKKKKACiiigAooooAKKKKACiiigAooooA8i/b7%2BH3jT4rfsUfFP4cfDzRpdT1nWfA2o2tlpEDhX1MtA26zUsQoM67oRuIX95yQMmvFPDlxrnxFsv2lvGvgH4A%2BK5NN%2BJPhcWngvwl4q8IapoB8Q39l4f%2Bz3BnWeGGSwSYyWtisk3ktJ9jYxbkRXP2RRQB8cf8Ev/AAL4y8N/Enxz4g1W5%2BI2u6RP8P8AwXpVn4x%2BKvgN/DeqvdWS6qs%2BkRWhtLRZLS0WaCRJ/JZmkv5ka5ufLHlegX%2Bm/Fe0/wCCm3gu88beNPD2oaFcfB7xwfDWnaV4Yns7uwQat4S8xbm5kvZkuycpgpDbhdpyG3Db9D14z44/5SF/C/8A7Iz48/8ATt4QoA8x/wCCMv8AoH7J2t%2BEOn/CPfFTxLp23%2B7tvnfH/kSvrSvkv/gk7/xLbT9oXwg3H9k/tO%2BK44U9IXNs6H8ctX1pXk5FplFFdk190pr9D9A8VNfETMan884z/wDBlHD1P/cjCiiivWPz8KKKKACiiigAooooAKKKKACiiigAooooAKKKKACiiigAooooAKKKKACiiigAooooAKKKKACiiigAooooAKKKKACvGfHH/KQv4X/9kZ8ef%2BnbwhXs1eM%2BOP8AlIX8L/8AsjPjz/07eEKAPZqKKKACiiigAooooAK8Z/YP/wCSIa5/2Wb4j/8Aqa63Xs1fOv7OXjJfhz%2Bxn8RviE0gQaD8QvirqJY9B5Hi7Xpc/wDjtTOcacHJ7JN/dr%2BhFScaVNzlsk2/km/0OM/4J1/8Xz/aX/aB/bWuv3tprPjNPBvg%2BY8r/ZekRiN5Yj/zzmmbef8AajPSq/7P/wDxmX/wUd8a/tQ3X%2Bk%2BC/gpFN4H%2BHjHmKfWJADqt6nbcoK24YEhkZSORWF%2Byp42X9jr/ghTpfxUEot7zTPhtf6zZSscGS%2Bvpp5rXJ9WmuYRn0Ir3X/gnL8D0/Z5/Yl%2BHPw2nsvJ1BfDkN/rgYfO1/dD7TcbyeWYSSsuTzhQOwFfLYCnLErC0Z9vbz85Sk3FfKUm/wDtyJ9d4fxfD3hfis8emIxj%2BrQf8qrR%2BsYua8/ZOlQT6KpLvY9tooor6s%2BUCiiigAooooAKKKKACiiigAooooAKKKKACiiigAooooAKKKKACiiigAooooAKKKKACiiigAooooAKKKKACiiigArxn9l//kt/7R3/AGWax/8AUK8L17NXjP7L/wDyW/8AaO/7LNY/%2BoV4XoA9mooooAKKKKACiiigAooooAKKKKACiiigAooooAKKKKACiiigAooooAKKKKACvGfHH/KQv4X/APZGfHn/AKdvCFezV83fG74iQeD/APgqf%2Bz34SupAB4s%2BFPxI0%2BBD3miuvCt4CPcJbS/maic4043l5fi7fmyKlSFKPNLbRfe0l%2BLRzn/AATp/wCJR%2B03%2B1X4Q6eR8YI9R2/9fdmj5/HZX1pXyX%2Bx3/xJv%2BCm/wC1t4bbhJ5vBWo24/veZpMokP8A30AK%2BtK8zJdMDy9p1F91Sf8Amfofib73FSrf8/MPgp/%2BBYLDf/IhRRRXrH5%2BFFFFABRRRQAUUUUAFFFFABRRRQAUUUUAFFFFABRRRQAUUUUAFFFFABRRRQAUUUUAFFFFABRRRQAUUUUAFFFFABXjPjj/AJSF/C//ALIz48/9O3hCvZq8Z8cf8pC/hf8A9kZ8ef8Ap28IUAezUUUUAFef/tL/ABxufgD8NYvFmi%2BEV8Qa1qviHS9B8N6HJqP2OO91HUL2K0gWWfy5DBCrS%2BZLII5GWKNyqSMFRvQK8%2B/aX%2BB118fvhrF4T0Xxevh/WtK8Q6Xr3hvXJNO%2B2R2eo6fexXcDS2/mRmeFmi8qWMSRs0UjhXjYq6gHn95%2B3JfaB%2ByZ48/aF8WfCMW3iD4b6vf6R4r8KWeume1tr21uFiaUXxt0P2HypIrtrloFaO3ZnaEMjR15hff8FdbCy%2BC1h8VZ/CPw2trW%2B%2BIt94Vj8a6j8YxD4ClFtp3243kPiL%2BzW82N23WaD7Ku67guIc/uwz%2Bgy/sLeONV/Z/8W/B3xF8drCbVfGfiL/hKNZ8R2fg54lfXhqkV8jfZnvXVtNCW1raGyZi7wROHuWMhYY9r%2BwB8Y9K8Tt8a9G/aR8Np8SLr4gX/AIo1O8uvhrLL4ble60S00Voo9KGqLNE621jC4nN6zmSS53ZSYxqAe9fAT4pS/HD4H%2BD/AIzTeDtR8Ov4s8M2OrtoOrri6083MCTeRKOPnTftPA5HQdK%2BR/jB40/4QL/gj98e9d83Z53jL4oaeGzjm88a6zaY/Hz8fjX038H/ANl34cfDP9ljw3%2ByV4n0608Y%2BGtC8L2uiXdv4k0yGaDU4oo1U%2BbbspiCErkRAbEGFAwor4f/AGjvDPhzR/8AglUP2cfBXh%2Bx0nSvFv7Uuv8AhLS9H0u0S3t7eA/ELVpI4IoowFRFW2ACKAAFwBgV5uc1JU8pryjvySS9WuVfjJHkZ/VlRyPEyjv7OSXq1yr8ZI7n9sfwYbn9mH9l7/gnlbR/N4517w3peuWeOX0bSbWG4vjjvtMcLenHNfeIAAwBgDoBXyLp4X46f8Flb25UCXSfgT8K47dVAyLfWtYffn0G6yXGOvFfXVc%2BU04utXqra6px/wANKKj/AOlOX3H6rxZSjk/DeR5FDT2WH9vNf38VLnjfzWHpUF6S7NBRRRXtHwIUUUUAFFFFABRRRQAUUUUAFFFFABRRRQAUUUUAFFFFABRRRQAUUUUAFFFFABRRRQAUUUUAFFFFABRRRQAUUUUAFeM/sv8A/Jb/ANo7/ss1j/6hXhevZq8Z/Zf/AOS3/tHf9lmsf/UK8L0AezUUUUAFFFFABRRRQAUUUUAFFFFABRRRQAUUUUAFFFFABRRRQAUUUUAFFePf8FBz45H7DnxYPw3/ALT/ALY/4QLU/s/9ib/t2z7O/m/ZvL%2Bfz/K8zy9nz79u35sV8%2B/s6eLPhrovh39orQ/%2BCd%2Bt%2BE4/DF9o4l%2BDWm%2BDri2GmXniOHQVa9OmRxnypESRtO87yQUFw02/96ZaAPuOvz7/AOCsnjG7%2BGH/AAUe/Yv%2BKkGVt9K1vxJa6ncA4EFnfXXh6yldv9nE4B%2BtdT/wR%2B8U%2BAyviHwD8O/Dfwvv4oPBPhnVte8cfDLR5IJLjVLkXyT6VrM8s00l7q1sYBLNPK6TN9uzLBASvmeef8FkPCnxk%2BJHiTU7TXvBegaZZ%2BF/gd4w1/wVrOj%2BJp7y9uPsOv8Ag26mluLeSyhSzZY4mACTXAYO2Su0bvNzhT/sutKG8VzL/t1qX/tv4nkZ%2Bqn9i15U/ijHmXrBxn%2BPI18z2r4M/wDEk/4LGfGjTOn9ufCzw5qOP73ku9vn9cV9aV8Sa58QLTwz/wAFD/2fv2trFgnh/wCPfwrfwtfyg5ihudkeqWLf70pk8pcdlNfbdY5POLjWgulST%2BU%2BWcX81I/VuPJRxlLKMypO9OvgcNZ95UVUoTXrGUI/KUX1QUUUV7B8AFFFFABRRRQAUUUUAFFFFABRRRQAUUUUAFFFFABRRRQAUUUUAFFFFABRRRQAUUUUAFFFFABRRRQAUUUUAFFFFABXjPjj/lIX8L/%2ByM%2BPP/Tt4Qr2avGfHH/KQv4X/wDZGfHn/p28IUAezUUUUAFFFFABRRRQAV%2BcXjAjxd4g/Zy%2BEDEML79sz4j%2BIjEe40nxVr05b8PN/Wv0dr8trXxVs/ar0O/Mn/JLtI%2BPnjHOf9V5/i7XLPf7f6vGfavHz2ajgLPrKC%2BXOpP8IM8zNcNUx9OjgqfxV61CmvWdamv0PpH/AIJGI/xJ8C/E79sO9UvJ8X/ipqupaVOw5/si0lNnZxH12eXMPxr64r53/wCCTXhT/hDf%2BCcfwj0jytnneFEvsY/5%2BpZLnP4%2Bdn8a%2BiK1yWDhlNDm3cVJ%2Bsvef4yZ%2BmeJmKp4rxBzP2f8OnWnSgu1Og1Qpr5QoxXrd9Qooor0z4YKKKKACiiigAooooAKKKKACiiigAooooAKKKKACiiigAooooAKKKKACiiigAooooAKKKKACiiigAooooAKKKKACvGf2X/%2BS3/tHf8AZZrH/wBQrwvXs1eM/sv/APJb/wBo7/ss1j/6hXhegD2aiiigAooooAKKKKACiiigAooooAKKKKACiiigAooooAKKKKACiiigAooooAK%2BfP2iPA1h8Tv2v/CPw11Xb9l8Q/s%2BfEfTLncMjy59Q8JRNn8HNfQdeM%2BOP%2BUhfwv/AOyM%2BPP/AE7eEKmUYzi4y2en36EzhGpBwkrppp%2BjVn%2BDPiuxt/FvxY/4ISeEPiNokRHjj4CapHq9gjctaXOg6hLEwJHIxZBmx9K/R74Y/EDQfix8N/D/AMUfC03maZ4k0W11PT3znMM8Syp%2BO1hXyr/wT18OaNpnxI/aq/Y%2B8TWazadY/FW61U6fJ0Gm69aCZIQP7hVHx/vGtj/gkB4j1nSv2bNZ/Zl8YXrTa78F/HOq%2BELx5fvzW8U5ltZsf3DFKEU9CIq%2BXyaUqFaipfbpuD/x0JOP3uH5H1fDc5Z34L06cnerllez7%2ByxF6UvlHE4aD8nV8z6uooor6o%2BWCiiigAooooAKKKKACiiigAooooAKKKKACiiigAooooAKKKKACiiigAooooAKKKKACiiigAooooAKKKKACiiigArxnxx/wApC/hf/wBkZ8ef%2BnbwhXs1eM%2BOP%2BUhfwv/AOyM%2BPP/AE7eEKAPZqKKKACiis3xh4y8IfDzwvf%2BOPH/AIr03Q9F0u2a41PWNYvo7a1s4VGWkllkISNAOrMQBQBpUVzmm/GH4R6z8Mh8a9H%2BKfhy78GHT3vx4tttct5NM%2ByICXuPtSuYvKUK2X3bRtOTxWOn7Uv7Mkvwnf49R/tGeBG8Cxz%2BTJ40XxfZHSVk8zy9hvPN8kN5hCY3Z3HHXigDu6/Gyy8Ved4j/bY8f%2BZ/yJfgnxv4PEmf9WdW8c67OF9s%2BZmv2F8M%2BJvDfjTw5YeMfB3iCx1bSNVsorzS9V0y7Se2vLeRA8c0UqErJG6sGV1JDAggkGvxkfw/cTfsu/tzanYkpc%2BPv2uLjwjbSqOWa38UzylR6/LOwx/tV81xQ5LAxt05n91Kpb8ZI9zgvArNPE3hzCy%2BF46hKX%2BGm3Ub%2BXLf5H62fsq%2BFP8AhBP2X/hv4J8vYdH8B6PZFcdDFZRIf/Qa72o7S1t7G0isrWMJFDGqRoOiqBgD8qkr6GjTVKlGmuiS%2B5JfoefmGLnmGYVsVPepOc36znOb/GTCiiitDjCiiigAooooAKKKKACiiigAooooAKKKKACiiigAooooAKKKKACiiigAooooAKKKKACiiigAooooAKKKKACiiigArxn9l/8A5Lf%2B0d/2Wax/9QrwvXs1eM/sv/8AJb/2jv8Ass1j/wCoV4XoA9mooooAKKKKACiiigAooooAKKKKACiiigAooooAKKKKACiiigAooooAKKKKACvGfHH/ACkL%2BF//AGRnx5/6dvCFezV4z44/5SF/C/8A7Iz48/8ATt4QoA8i8Zai37Kn/BWrTviB4kiEPhL9oLwnbeHl1MHCW/iPTyfs0UvYebAwjj7s7EDhSar%2BO9Yl/YQ/4KSS/F/xLCsXwz/aIj0/R9X1YHbFovie0jaO1ab%2BFY7iIld3GX3M2AhJ9q/bt/Zft/2uf2add%2BFFnefYdfiCan4O1dXKPp2sWx8y1mVxynzDYzDnZI%2BOa88%2BCGv%2BBv8Agqr/AME/bvwH8dNFNvrFxBN4d%2BIGm%2BUFuNG1%2BzIWSVV/5ZyLKsdwg5wHVTnkV8xXw1Wnip0KbtK7rUm9ubapB%2BTv/wCAzv8AZPR8P89wXDHE2Jy3M4uWBx0JxqW%2BJQnKDqOHR1KFWNPE019pKcHpJtfUlFfLn/BOn9o7xrfxa3%2BxR%2B03rEY%2BLfwrkWyu5p5cN4k0kAfZNWh3HdIHjKCQ8kNtZsGTaPqOvdweLp43Dxqw0vunumtHF%2Bad0/v2aOziTh/G8MZzUy/EtS5bOM46wqU5JSp1YPrCpBxlF%2Bbi7SjJIooorqPCCiiigAooooAKKKKACiiigAooooAKKKKACiiigAooooAKKKKACiiigAooooAKKKKACiiigAooooAKKKKACvGfHH/KQv4X/wDZGfHn/p28IV7NXjPjj/lIX8L/APsjPjz/ANO3hCgD2aiiigArxD9v7w34i134J6Nq2ieFNS1%2B08N/Evwrr/iDQ9H06S8urzTbHWrS5uDFbRK0ly8Kx/aRCitJJ9n2oruVU%2B30UAfCXiPwr408YfsM/Gnw/ovwe8axHxr8SbzxV4a0F/CF/bajp%2BjT65bGTUYbaSFSb5Wgu9Wj05x58jPGssOZmQ%2Be2nwn%2BOMGpad8Yj4l%2BMEHhKz/AGjNV1y8%2BID/AAiabxlqsE/g63sLbWZNCOllYmiu0m0xXTS0/wBHVJvIXe92f0vooA8q%2BAWp/tJeNv2RPC%2Bq%2BPBpfhj4mX/hiB759a8OPNb2t2VGHuLGG5hZWZcM8Czp5bsUDfLX53%2BHPh74o0X4E%2BEfAPjG5tLrV/iJ/wAFJfEV/rt1Yaa9nb3sdv4k1OG5nigkllaKMtaBlRpZCq4Bd8bj%2BstfnLpv/FUftM/s0fDgfMh/aI%2BNmuXC9k%2BxeItYaNj9Wcge9eNntONTA2e7lGK/7enCL/C5954ZUorjfD4x/wDMPTxVb/wXg8S7/JtfOx%2BjVFFFeyfBhRRRQAUUUUAFFFFABRRRQAUUUUAFFFFABRRRQAUUUUAFFFFABRRRQAUUUUAFFFFABRRRQAUUUUAFFFFABRRRQAUUUUAFeM/sv/8AJb/2jv8Ass1j/wCoV4Xr2avGf2X/APkt/wC0d/2Wax/9QrwvQB7NRRRQAUUUUAFFFFABRRRQAUUUUAFFFFABRRRQAUUUUAFFFFABRRRQB49/wUHPjkfsOfFg/Df%2B0/7Y/wCEC1P7P/Ym/wC3bPs7%2Bb9m8v5/P8rzPL2fPv27fmxXhv7I3xD%2BE/ga6%2BO3/DAOi%2BEfEPg9oba8%2BEfgvwjrNlZaVr%2Bv2%2Bixvf22mvvW3WNnbTknkjPlxzyTNIRJ5tfadFAHxN/wSPtPHnh34p/tFeF/iL8JfGeh65J4/wBH1TxJq/jC60h5dR1a58OaY9023TtRvFjy/wC9SMMYooJoIkbMbRx%2BpX%2BpfFe7/wCCm3guz8beC/D2n6Fb/B7xwPDWo6V4nnvLu/Q6t4S8xrm2ksoUtCMJgJNcBtxyV2jd9D14z44/5SF/C/8A7Iz48/8ATt4QoA9mr4u/aH8NfFD/AIJ4/tEeIv26/g/4Vn8SfDDxqbeT41eDdNhzd6ZNEpQa7ZqDh8KSZk4z8zMcHfD9o02WKKeJoZo1dHUq6MMhgeoI7iuPG4NYumrS5Zxd4yW6e3zTWkk9Gm12a8/McAsfSXLJwnB80JLeMrNXts002pRekotrTRr5w%2BP37NnwY/4KFfDbwx%2B0V8B/icui%2BMdOthf/AA1%2BK3hpv39qeT5Mo4M0BbckkD8qS4wpLqcb9mz/AIKF3Wn%2BNIv2VP29NLtPh58W7RxBaXFwTHo3i2PgJd6fcsAmX4zCSGDHaozuROf8UfslftM/sOeNtZ%2BL/wDwTn/s3XfBus3x1HxP8BtamFvbmYj97NpFx0tZGA/1TAR8fxBY413vDH7Rf7BX/BTXwhdfs%2BfG7wna2fieGUw6t8MfiFbfYNb0y7C4Y24YrIWAPEsDbgpGduSteF7SrDF8ytRxD3jK/s6tuqf83Zr30tJRmkmfZcO%2BIGXYjL6fDfGNGTpxv7GcGva0W3eTw05%2B5VpSfvTwtSUbO8qbpzvKf1ZRXxtafs%2Bf8FE/2Iozb/sn/Eyw%2BMnw/tTm1%2BHPxJvfs%2BsWEI6QWWqfdcDACicBUXACk8nofAf/AAVz/ZtOvRfDz9pvRfEfwT8XsdsmifEfSpLW3dhjLQ3oUwSRcjEjMgI5AxXpwzihTkoYtOjL%2B98L/wAM17j%2Bbi/I%2BgxHh1muLpyxPD1SOY0Frehd1or/AKe4aVq8GurjCtC%2B1RqzPqiiqHhnxV4Y8a6JB4l8G%2BI7DVtOul3W2oaZeJPBKvqroSrD6Gr9eqmpK6eh8BUp1KU3CaaktGmmmmt000mn5NJ%2BQUUUUyAooooAKKKKACiiigAooooAKKKKACiiigAooooAKKKKACiiigAooooAKKKKACiiigAooooAK8Z8cf8AKQv4X/8AZGfHn/p28IV7NXjPjj/lIX8L/wDsjPjz/wBO3hCgD2aiiigAooooAKKKKACvzf8A2Y7%2B01r/AIKV%2BGNNvpwsPg2y%2BL2uOSCfLN38RNZsgcDnJwAAOT0r9IK/ND/gnL/xVv8AwUR%2BOXiD73/CI65rWh7v7n2r4j6xe7fbOM15Oa%2B88PT/AJqsP/JeaX6I/QOAP3Mc4xf/AD7wGJ%2B%2Bq6FBf%2BnJL5n6Nf8ACYaT/wA%2Bmqf%2BCO7/APjVL/wmGk/8%2Bmq/%2BCO7/wDjVfO3j7/gsj/wTe%2BF/jvWvhp45/aN%2Bw634d1a50zWLL/hENYl%2Bz3VvK0Use%2BO0ZH2ujDcpKnGQSOayf8Ah%2BX/AMEtP%2Bjof/LJ1v8A%2BQqqWeZLCTjLE001/fj/AJmdHwt8TMRRjVpZJi5Rkk01h6rTTSaaahZpppp9U0%2Bp9P8A/CYaT/z6ar/4I7v/AONUf8JhpP8Az6ar/wCCO7/%2BNV87eAf%2BCyP/AATe%2BKHjvRfhp4G/aN%2B3a34i1a20zR7L/hENYi%2B0XVxKsUUe%2BS0VE3O6jcxCjOSQOa779v74wfEz9n39ib4p/HH4N2mmzeJ/CXgfUNV0ddXmZLdZYIWk3vtjk3bVDME24dlCFkDF168LjcHjYuWHqRmlvytO3rY%2BfzzhniThitClnGCq4aU03FVac6bkk7NpTSbSeja66Hpf/CYaT/z6ar/4I7v/AONUf8JhpP8Az6ar/wCCO7/%2BNV896n%2B258bfCvxD8c%2BC/iF8CvAmhaf8Mvh5aeJvHPie7%2BKl0bG3e7i1Rre2tsaOJZ1D6fGJZXSIolwWjjmdBFJzPw2/4KVav8VdU8M6Hq3wn1fwvrcXxol8HeIdIWW8toZEPg/UNfhn26xo9pevC6QxJt%2Bz2kglQMsskKlbjpPDPqr/AITDSf8An01X/wAEd3/8ao/4TDSf%2BfTVf/BHd/8Axqvnn9kr9vn4k/tD6folx45/Zg/4R%2B78WfCbRfiD4T0vw941h1We606%2BYI8E5uILKK3uIS8TFQ8iOj5DhlMddT%2B1X4s%2BKupfFr4X/s8fC34r6h4Ebxtdaxdat4r0bTbG6vYrewshIttAt/b3FurSTTQszPE58qCVV2swkQA9d/4TDSf%2BfTVf/BHd/wDxqj/hMNJ/59NV/wDBHd//ABqvnKD9oT9pH4n/APBMjwh8f/h9aXP/AAnOu6R4dm8Q3fhXQ1vbi3tJb%2B0i1jUNOspFkE8qWZvLm3gKy7mWNdk5xG/A%2BFf2l/iD41/Zl%2BIXjfxn%2B1V8S/BUPws%2BI1/4e07xEfh/pEPiLxh5lpY3Gmwy6beaYyC5kkv0tktoLa3mmdY1KxOzJQB9l/8ACYaT/wA%2Bmq/%2BCO7/APjVH/CYaT/z6ar/AOCO7/8AjVfDn7QP7Vf7dvwIsND%2BIvxdtPFOjXeleBPBV7N4X8FeB4dR8P6/rVzdmLxFZ3%2BotbTNYCFTGtuBcWuS6shu2JhWFP2zv2pNA/aO1jV/EfxHuLDwHP4u8e6Ho%2Bs%2BItO0r/hC520awv54La0ltY/7YS/t3065a8a7ItWFhqKwFmWAAA%2B6P%2BEw0n/n01T/AMEd3/8AGqv2F/aanaJfWM4kikGVYAjvgjB5BByCDyCK%2BS/%2BCaXx3/aX%2BI3jHxP4G/aW1fxct3B4B8K%2BINN0r4g6XolvqfmX39ord3NudFjW3Omu9tEkEc/%2BnRPFcfaEQPDu%2BpfB/wDyCZv%2Bwpff%2BlctAGrRRRQAUUUUAFFFFABRRRQAUUUUAFFFFABRRRQAUUUUAFFFFABRRRQAUUUUAFeM/sv/APJb/wBo7/ss1j/6hXhevZq8Z/Zf/wCS3/tHf9lmsf8A1CvC9AHs1FFFABRRRQAUUUUAFFFFABRRRQAUUUUAFFFFABRRRQAUUUUAFFFFABRRRQAV4z44/wCUhfwv/wCyM%2BPP/Tt4Qr2avGfHH/KQv4X/APZGfHn/AKdvCFAHs1FFFABXlf7SP7E/7Lv7WunLafHf4P6XrF3FHts9aRDb6jaY5HlXURWVADzt3bSRyDXqlFZVqFHE03TqxUovo0mvxMcRhsPi6TpV4KcXumk19zufH8P7Hv8AwUN/ZqUx/sg/tsweLtAtzmz8D/HDTmvfKQf8s11O3xcbQPlVNqqoA571m%2BNP2yPjvpPh6bwP%2B3z/AMEpfE2r6MflvdQ8C29p4t0u4X/ns1scPCnXh9zAflX2lRXmSyn2ceXD1pQX8rtUh6cs72XkpHm0crxGX1Y1ctxVShKLurS50mtrKb5o26ctSNulj8vdCtv%2BCJXjXxLPq/7P/wC1X4q/Z68WSS5vY9F8Rah4aMM392WK9Q2wXoCiELjjIr23wR4Q/wCCkWkWI1D9mD/go58KvjRpUa7ra08c6DGGEf8Ada80qR3lP%2B22OTX1l8QPg98JPixZ/wBn/FP4W%2BHPEtvt2%2BRr%2BiQXiY9MTIwrwfxr/wAEdP8AgnF42vTqrfs1WGjXobdDeeF9UvNMaFvVVtpkQf8AfOK8x5LjKLvRUF5wlUov7lz0/wDyU%2B8h4m%2BKMYKnmNTDZlBaWxVJVJWXRTnGdRadq/pZGGP2vP8Agpb8NP3Xxk/4JoDxBbR/63Wvhp4/tbkP67LOYCb82pR/wWM%2BAXhcbfjt8CvjN8NCnE8njL4a3SRJ6kPbmXcvvjkdqP8Ah0zpvhb5/gz%2B3b%2B0J4QVP9TYW3xEN1Yp6fuJoju/FqP%2BGNv%2BClPhLn4e/wDBVy8vIE%2B5Y%2BLvhTpt4W9N04cP%2BQo/4yKhtzv19jU/FOjL9Sv9ecgxP/Iy4UUX1lhMZOn81Cq60PlovI7LwR/wVb/4J0fEAIdB/a78IQeZ90a3ePpmPr9sWLH41634Q%2BOfwT%2BIQQ%2BAfjD4W1zzPuf2P4htrnd9PLc5r5B8bfskf8FNPEW//hLtI/ZJ%2BJSt/rG8d/Dq7jkmHfPlIwyfyryXxf8A8E7fjvqhf/hM/wDgkZ%2Bz1r2fvnwN49vtD3f7vzJto/tbPKXx0L/9uVI/%2BkyqIX9t%2BFGI/iYfNcK/%2BvWFxMV84Tozf3I/UGivyWH7Fvxp8FjboP8AwSx%2BLvgxE%2B5P8Of2qoJto9Ujl3sPoTQNE/a%2B8Ec6Vo/7fWl7Okb%2BIrDxJGnsqlY8j2o/1kxEP4mGl8ub/wBupIObwrrfw89q0vKvluLj97pSrRX3M/WmivyW/wCGnf2//CP/AB6fHX9q/SETrF4w/ZI029RvrMt1ux7gUD/gp9%2B3J4U/4/v2hIp9vX/hMv2dNUss/wC99j34/Cj/AFuwMf4lKa/8B/ziH9ncD1f4PE%2BBf/XxYyi/n7XBWX3s/WmivyXX/guf%2B034bIXxL8VP2ebhQcBZvB3jWzmb65tGQGtTT/8Ag4M%2BKEGPtfgv4P6z6/2d4x1Gw3fT7XaDH401xlkX2pSXrH/KTHHh/Kqr/cZ9llT0zChH8KsKX4n6qUV%2BZOl/8HDviBiF1f8AZM8Kso6z2Xx60rn6JLCpH4mt60/4OHfhxCobxD%2BzlLB/e/s/4naHdfl%2B%2BXNbx4t4fl/y%2Bt6xkv0Nlwdj6jtRxeCqf4Mwy%2BX/ALtxP0Yor89rT/g43/ZMRhHq3wS%2BIu7%2BIaSuk3uP%2B%2BL4V0Wk/wDBwR%2BxXqYDS/Dr4rWgPefwfE2P%2B/dy1ax4n4fntiY/j/8AImz4A4rteNGEl/dxGDl/6Tjn%2BR9z0V8b2X/Bdj9gm4Gb7UfG9iO5u/A13x/3wrVowf8ABcr/AIJmnH9p/Hq/sCe154I1cf8AoNq1brP8jf8AzEw/8CS/OxK8PuN5v93l9Wf%2BFRn/AOkVZn1vRXy7Yf8ABaP/AIJj6lj7P%2B1Xpy56efoOpRf%2Bh2wrasf%2BCs//AATi1HH2f9rnwouf%2Be8ssX/ocYrWOc5RLbEU/wDwOP8AmD8POP475Tif/BFV/lCR9EUV4dZf8FL/APgn5qGPI/bG%2BHq5/wCe/iaCL/0NhWvZ/t8/sMahgWn7ZfwrYnop%2BIGnA/kZs1tHMcultWh/4HH/AOSOOrwbxjR/iZZiV64ev/8AKT1qivOrP9r/APZL1DH9n/tRfDqfPTyfG1g38pa1LT9of4Aahj7B8c/B0%2Benk%2BJrRv5SVqsVhZbVIv8A7ej/APJHBUyLPaP8TCVY%2BtKqvzpI7GisK0%2BKXwyv8fYfiLoM2enlavC38mrStdf0K%2B/48datJs9PKuVb%2BRrVThLZr71/mcNTC4ql8dOS9YyX5xRbooBBGQaKowCiiigArxnxx/ykL%2BF//ZGfHn/p28IV7NXjPjj/AJSF/C//ALIz48/9O3hCgD2aiiigAooryH9tf4kePvh58J9Isvhl4lbQtY8WeP8Aw74Yh8RJaQzvpMWoanb289zHHOjxNMIXkEXmI8YlaMujqCjAHr1FfIWt/tI/tAeEv2Ivi3fwfEb%2B1vHPw%2B%2BIF34Q0HxXd6ZaJd62zX9rFabII4VtDqLx3sdrGPKS3e8VC0aRsyL478Sf%2BClXxS%2BCH7Mvj/wB8Tvj/F4J%2BJzeOdZ0Xwjqvxebw/Z6v4dsLTQ7DU5Jb4WYGk3t6ReJ9kS0E0bjUbASq5iuwoB%2Bj9fnN/wSE8Pk/Hz9sTx2y5%2B2/tNXmnI57fZvEWosQP8AwIFfZnwU%2BPXh/wAWfsleEv2htQ8SS%2BJrTUPBlhqV9qfhPS5dWe9keBDK0Fvp0cjzN5hb5IUbBBAUY4%2BZf%2BCPtrZ6j8I/jv8AEiytL2KLxX%2B2J4z1C0GpabPZXK2//CQqiLLb3CJLA4KvujkRXRiVZVIIHBi6ftMVh3/LKT/8kkv1PreH8asHkGcRvrVo0qf34qlN/wDptH3PRXzF4/8A%2BCmv/CBeO9b8C/8ADvn9p7Wv7F1e5sP7Y0D4T/abC/8AJlaPz7aX7SPNhfbvR8DcrKcDNZH/AA9h/wCsan7Wn/hm/wD7qrKWdZZGTi6mq/uz/wDlZ%2Bcy4hyaEnGVXVafDU6af8%2Bj60rF%2BI/w88GfFz4fa58KviNoMWq%2BH/EukXOl65pk7MqXVpcRNFNEShDAMjMMqQRnIIPNfPngH/gpr/wnvjvRfAv/AA75/ae0X%2B2tXtrD%2B2Nf%2BE/2awsPOlWPz7mX7SfKhTdvd8HaqscHFezftJ%2BMPid8PPgF4v8AiD8GfDlprPifQdAudS0fRb2F3TUpIEMptQEdCHlVGjRt2Fd1YhgCp68NjMNjIuVGV0t9JL/0qMf1O3B4/B5hFyw8uZLR6SXn9qMfwuY0H7Gv7PC%2BFfFPg7U/CGpavZ%2BNfDdvoPiqXxF4r1PU7rUrCD7T5Mclzd3Mk%2B9Ptc%2BJQ4lG5fn%2BRNud4H/YK/Za%2BHupLrnh/wABalNqQ8XDxRLq2teMdW1K8uNXGkTaMLua4vLqWWdhp88tviRmXaVONyIy%2BG%2BI/wDgo/8AE34keFrnxj%2By42h6rYeI/Hc2kfCiWLwkuqN4g06w0hbrVb2RrnW9KtoY4rvz4A7XC7RZuAkrSDy%2BJ8G/t1fEb4ueI9E%2BPFl9ptdO8efDL9nfVY/Cja/e/YdKn8ReLtdtr%2BSD7NPFucxeSjMcpOtrCsySxL5R6TsPsPwx%2Byd8CPBNjolh4O8J3ulL4c8DWng7RJtO8R6hDNaaLavG8FqsqThztMUeZCxkYAhnYMwOj8b/ANnr4U/tE6Jp%2Bh/FLR9RmGkaib7SL/RPEV9pF9Y3BhlgZ4bywmhuIt0M00ThJAHSRlYFSRXyb8E/2qf2oPjd%2B1J8IPGGp%2BKvCP8AYnjv4W%2BP9b8OfD3Srq909rWSzv8ARoLaDVpTNcJdSx%2BaUa4S2iNtI9wixSZyfbv239W8ST6Z8KPhvL4q1Xw7pHjv4r2Gh%2BM9S8N67cafdQ2Z0%2B/ukghvbdop7fz721s7XzI2jkZbgqpUuKAPQpP2d/hYngMfDDRrHWNF0CLw5YaFZaZ4Z8V6jpUen2NmSbdLT7HcRGzdQdplgKSuiIjOyxoq8X4l/wCCev7Kvivwp4T8Haj4S8SW9t4J1671zw7d6R8R9esL6LVLpZVuL%2Ba8tr2O5u7mQTzBp55JJD50nzfO2eB%2BEWo/tC/FP/gm3430P4T/ABJu5/GlnqXjvw54B8Waxqpa4uLfT9e1TT9MuJLyUOWlNrbQD7W4cu2J237jnzH4b/EbRbDwr8bPCn7Rr/GPwn4C8BeM9CHhnRJvjBqN94qm1S70uLdoa6jpmpTXNzLLcTW80Vml7KxN7CCVVhDGAfV3iD9kv4KeLvEHhjxH4utPE2rSeELewi0ey1Xx/rNzYu9lJ5trcXVpJdtb391HLiUXV1HLP5iI5kLIrDNtv2F/2Wbf4hah8S3%2BGT3N9qdzqV1caff6/f3Okx3OoxyRX9zDpks7WVvPcpLMss0UKSSC4m3MfNk3fIX7T2ift4fBb9kjTfil8R9c8dajeeDfgfrN4knhn4opp0vhvxMkhuLK61l/tMH9uQw24htnG28E0sEpNrN9pDDf8d/tbfFvXP8Ago98EvDvjGy%2BKvg7SrfxvL4ak8L2fgPxBHo3iKS58KaldXN9cXcdqbO8hjvRZxQoZW%2BzCxu7l9sbF4gD60%2BBH7KfwO/Zsm1C8%2BE3hzU4LrU7Kzsru/1zxTqWsXP2O0837LaJNqFxPJFbQ%2BdMY4EZYkM0hVQXYnsfB/8AyCZv%2Bwrff%2BlctalZfg//AJBM3/YVvv8A0rloA1KKKKACiiigAooooAKKKKACiiigAooooAKKKKACiiigAooooAKKKKACiiigArxn9l//AJLf%2B0d/2Wax/wDUK8L17NXjP7L/APyW/wDaO/7LNY/%2BoV4XoA9mooooAKKKKACiiigAooooAKKKKACiiigAooooAKKKKACiiigAooooAKKKKACvGfHH/KQv4X/9kZ8ef%2BnbwhXs1fOH7R%2Br/GvR/wBvD4Tz/A74f%2BFvEWpN8I/Ha3dp4r8YXOiwRwf2p4SJdJbfT71nfdtGwxqMEnfkBSAfR9FeM/8ACcf8FC/%2BjX/gz/4fjVv/AJl6P%2BE4/wCChf8A0a/8Gf8Aw/Grf/MvQB7NRXjP/Ccf8FC/%2BjX/AIM/%2BH41b/5l6P8AhOP%2BChf/AEa/8Gf/AA/Grf8AzL0AezUV846T%2B0d%2B3brHxn1/4HW/7KHwkXVPDvhfSNdvLl/jrqnkSQajc6lbwohHhjcXVtLnLAqAA8eCxLBeo/4Tj/goX/0a/wDBn/w/Grf/ADL0AezUV4z/AMJx/wAFC/8Ao1/4M/8Ah%2BNW/wDmXo/4Tj/goX/0a/8ABn/w/Grf/MvQB7NRXjP/AAnH/BQv/o1/4M/%2BH41b/wCZeuX8A/tHft2/ETxX438IaP8AsofCSG48B%2BKItC1WS5%2BOuqBJ55NK0/Uw8W3wwSU8nUYVJYKd6OMYAZgD6Oorxn/hOP8AgoX/ANGv/Bn/AMPxq3/zL0f8Jx/wUL/6Nf8Agz/4fjVv/mXoA9morxn/AITj/goX/wBGv/Bn/wAPxq3/AMy9H/Ccf8FC/wDo1/4M/wDh%2BNW/%2BZegD2aivnH4RftHft2/GXwpd%2BL/AA5%2Byh8JLa3s/FGt6FJHe/HXVFcz6Xqt1pk7jb4YYbGmtJGQ5yUZSQpyo6j/AITj/goX/wBGv/Bn/wAPxq3/AMy9AHsrKrqVZQQeoI61l6h4F8E6tn%2B1fB2lXOev2jT4nz%2Ba15d/wnH/AAUL/wCjX/gz/wCH41b/AOZej/hOP%2BChf/Rr/wAGf/D8at/8y9JxjLdXJlGMlaSudtf/ALPXwB1XP9p/A7wfc56%2Bf4ZtXz%2BcdY97%2Bxt%2ByFqWf7R/ZV%2BG9xnr5/gbT3z%2BcNYP/Ccf8FC/%2BjX/AIM/%2BH41b/5l65f4I/tHft2/Hj4MeEPjj4V/ZQ%2BElrpfjPwvp%2Bu6bbah8ddUWeGC7to7iNJAnhhlDhZAGCswyDgkc1jLC4WXxU4v/t2P/wAiYSwWDn8VKL9Yxf8A7adhef8ABPv9hC%2Bz9o/Yw%2BFeT1MfgDTkP5rCKy7v/gmZ/wAE%2Bb3Pnfsc/D1c/wDPHw1BH/6Coq5/wnH/AAUL/wCjX/gz/wCH41b/AOZej/hOP%2BChf/Rr/wAGf/D8at/8y9ZPLsulvRh/4BH/AORMJZTlUt8PT/8AAIf/ACBgXX/BKH/gnNeZ839kPwgM/wDPKzdP/QWFZ9z/AMEev%2BCal3/rf2TNAGf%2BeV3dp/6DMK6//hOP%2BChf/Rr/AMGf/D8at/8AMvXL/G79o79u34D/AAY8X/HHxV%2Byh8JLrS/BnhfUNd1K20/466o080FpbSXEiRh/DCqXKxkKGZRkjJA5rN5RlMt8PD/wCP8A8iZPIsjlvhaf/guH/wAiZFz/AMEVv%2BCYd1/rf2VLAZ/55%2BIdUT/0G6FUpv8Aght/wS3mO7/hl8IfWPxnrS/yvK9M/wCE4/4KF/8ARr/wZ/8AD8at/wDMvR/wnH/BQv8A6Nf%2BDP8A4fjVv/mXrN5Hkr3w1P8A8Aj/AJGT4c4ee%2BDpf%2BC4/wCR5RP/AMEJv%2BCYkoxH8Ar6L/rn411b%2Btyao3H/AAQP/wCCZs5yvwe1iP8A3PGGoH/0KU17L/wnH/BQv/o1/wCDP/h%2BNW/%2BZej/AITj/goX/wBGv/Bn/wAPxq3/AMy9Q8gyN74Wn/4CjWGRZNT%2BDDwXorfk0eHzf8G/n/BNeX7nw88RR/7ni26/qxqrN/wb2f8ABOOT/V%2BGPFsf%2B54qk/qpr1L4u/tHft2/BrwpaeL/ABH%2Byh8JLm3vPFGiaFHHZfHXVGcT6pqtrpkDnd4YUbFmu42c5yEViAxwp6j/AITj/goX/wBGv/Bn/wAPxq3/AMy9Q%2BHMgf8AzCw/8BR0Ry7Bw%2BGLXpKovyqo%2BfJf%2BDd7/gnbJ9yx8bJ/ueKP8YjVeT/g3R/4J7P9y78fJ/u%2BJYv625r6L/4Tj/goX/0a/wDBn/w/Grf/ADL0f8Jx/wAFC/8Ao1/4M/8Ah%2BNW/wDmXqXwzw8/%2BYWH3f8ABNo0FD4ZzXpVrr8q6Pm8f8G6H7BsRzZeL/iZb/8AXDxPbj%2Bdqamj/wCDer9j22ObH41/GS2x08jxfajH/knX0V/wnH/BQv8A6Nf%2BDP8A4fjVv/mXrl/H37R37dvw78V%2BCPCGsfsofCSa48eeKJdC0qS2%2BOuqFIJ49K1DUy8u7wwCE8nTplBUMd7oMYJZV/qzw%2BtsND7n/wDJFOnOW9Wr/wCD8R/80nk8H/BA79m60/48f2o/j3b%2Bnk%2BO7Vcf%2BSVXrf8A4IdfCGy/48P21v2j4PTyviPbrj8rKvcv%2BE4/4KF/9Gv/AAZ/8Pxq3/zL0f8ACcf8FC/%2BjX/gz/4fjVv/AJl6tcOZGtqC%2B%2BX/AMmYTwNGp8Uqj/7jV/8A5oPGIv8AgjF4WtP%2BPH/goH%2B03D6bPicg/laipPgH%2Bx8v7J//AAUJ8HIn7SPxR%2BIK698GfGWB8SfFP9pf2f5GreFv%2BPb92nl%2BZ53z9d3lR/3a9j/4Tj/goX/0a/8ABn/w/Grf/MvVDwP4H/as8Y/tWeHPjd8bvhx8PfDOjeGfh74h0OGHwr8Q77Wrq7utSvtEuEZkuNIsUijRNLlBYO7FpUAXGSOjD5RluFqqpSp2kvOX5ObX4E0stwlGqqkVK67zqS/CVWS%2B9M91ooor0juCud%2BLHwn8A/G/wFe/DP4m6G2oaPfvBJNDFezW0scsMyTwTwzwOksE0U0UcscsTrJHJGjoysoI6KigDyy1/Yu/ZytPhTe/BL/hC9Qn8MalbyJf6de%2BKtTuDcTSXr3z3ryy3DStfG6czm%2BLfavMCt5uUXGp4F/Zf%2BCnw5%2BG/iL4UeG/DN6%2BkeLpbmXxTJq/iK/1G%2B1eW4t0tpZbm%2Bu55LqaQwRxQh3lLJHFGilVRQO/ooAo%2BF/DWieC/DOneDvDVl9m03SbCGz0%2B28xn8qCJAkabnJZsKoGSSTjkk14B%2BxD4Y03wt%2Bzx4svbHzCL39obx/qd87DOD/wnmqb24HRUjH4LX0bXyV%2ByV4s/bO0/wCHviiz%2BGPwD%2BGGr6Enxp%2BIv9n6jr3xd1HTbuZf%2BEz1ksZLaLQLlIiG3AATPkAHIJ2hNJtPsXGpUjCUE9JWv52d19z1PqD/AITnwT/0OGl/%2BDCP/wCKpf8AhOfBP/Q4aV/4MI//AIqvLf8AhOP%2BChf/AEa/8Gf/AA/Grf8AzL0f8Jx/wUL/AOjX/gz/AOH41b/5l6ZB6l/wnPgn/ocNK/8ABhH/APFUf8Jz4J/6HDSv/BhH/wDFV5b/AMJx/wAFC/8Ao1/4M/8Ah%2BNW/wDmXo/4Tj/goX/0a/8ABn/w/Grf/MvQBqX3wM/Yo1T4caT8HdT%2BDvwtuPCOgXv2zQvCs/h7TX03TbndI3nQWxTyoZN0sp3ooOZHOfmOdDT/AIcfso6Ta2tlpXgP4e20NlaaTaWUNvpdii28GlzyXGmRIAoCJaTyyy26jAgkkd4wrMSfM/gj%2B0d%2B3b8ePgx4Q%2BOPhX9lD4SWul%2BM/C%2Bn67pttqHx11RZ4YLu2juI0kCeGGUOFkAYKzDIOCRzXUf8Jx/wUL/6Nf8Agz/4fjVv/mXoA1bH4H/sVaX4p1vxzpnwg%2BF1vrfiWC6h8R6xB4f01LrVY7rH2lLmUJvnWXavmByQ%2BBuziug8b6V8APiZ4Iufhl8SNN8HeIPDd5CkV34e1yG0u7GeNGVkR4JQ0bKrKpAK4BUEdBXFf8Jx/wAFC/8Ao1/4M/8Ah%2BNW/wDmXo/4Tj/goX/0a/8ABn/w/Grf/MvQB1Q8E/swjw9b%2BER4R8BjSbTw3P4etdL%2BwWX2eHSJxGs2nJHt2rayCGIPAB5bCJAVO0Y5/Uf2cf2DtX%2BGFj8EdW%2BA/wAI7rwXpmp/2jpvhG48L6W%2Bl2l5hx9pitWjMUcuJZB5iqG/ePz8xzxvxu/aO/bt%2BA/wY8X/ABx8VfsofCS60vwZ4X1DXdSttP8AjrqjTzQWltJcSJGH8MKpcrGQoZlGSMkDmuo/4Tj/AIKF/wDRr/wZ/wDD8at/8y9AGg3wD/YfeDwtav8ABb4UmPwNI8ngmM%2BHNM2%2BH3eRZWaxHl/6ITIquTFtyyhuoBrstWv/AIRa9qml63rt54bvb3Q7t7rRby7kt5JdPneCS3eWB2yYnaGaaIspBKSupOGIPnv/AAnH/BQv/o1/4M/%2BH41b/wCZej/hOP8AgoX/ANGv/Bn/AMPxq3/zL0Aeo/8ACc%2BCf%2Bhw0v8A8GEf/wAVR4MO/QzOoOya%2Bu5YiRjcj3MjK30KkEexry7/AITj/goX/wBGv/Bn/wAPxq3/AMy9cv8AF39o79u34NeFLTxf4j/ZQ%2BElzb3nijRNCjjsvjrqjOJ9U1W10yBzu8MKNizXcbOc5CKxAY4UgH0dRXjP/Ccf8FC/%2BjX/AIM/%2BH41b/5l6P8AhOP%2BChf/AEa/8Gf/AA/Grf8AzL0AezUV4z/wnH/BQv8A6Nf%2BDP8A4fjVv/mXo/4Tj/goX/0a/wDBn/w/Grf/ADL0AezUV84%2BPv2jv27fh34r8EeENY/ZQ%2BEk1x488US6FpUlt8ddUKQTx6VqGpl5d3hgEJ5OnTKCoY73QYwSy9R/wnH/AAUL/wCjX/gz/wCH41b/AOZegD2aivGf%2BE4/4KF/9Gv/AAZ/8Pxq3/zL0f8ACcf8FC/%2BjX/gz/4fjVv/AJl6APZqK8Z/4Tj/AIKF/wDRr/wZ/wDD8at/8y9cvq37R37duj/GfQPgdcfsofCRtU8ReF9X12zuU%2BOuqeRHBp1zptvMjk%2BGNwdm1SAqApBCSZKkKGAPo6ivGf8AhOP%2BChf/AEa/8Gf/AA/Grf8AzL0f8Jx/wUL/AOjX/gz/AOH41b/5l6APZqK8Z/4Tj/goX/0a/wDBn/w/Grf/ADL0f8Jx/wAFC/8Ao1/4M/8Ah%2BNW/wDmXoA9mor5x0n9o79u3WPjPr/wOt/2UPhIuqeHfC%2Bka7eXL/HXVPIkg1G51K3hRCPDG4uraXOWBUAB48FiWC9R/wAJx/wUL/6Nf%2BDP/h%2BNW/8AmXoA9morxn/hOP8AgoX/ANGv/Bn/AMPxq3/zL0f8Jx/wUL/6Nf8Agz/4fjVv/mXoA9morxn/AITj/goX/wBGv/Bn/wAPxq3/AMy9cv4B/aO/bt%2BInivxv4Q0f9lD4SQ3HgPxRFoWqyXPx11QJPPJpWn6mHi2%2BGCSnk6jCpLBTvRxjADMAfR1FeM/8Jx/wUL/AOjX/gz/AOH41b/5l6P%2BE4/4KF/9Gv8AwZ/8Pxq3/wAy9AHs1eM/sv8A/Jb/ANo7/ss1j/6hXhej/hOP%2BChf/Rr/AMGf/D8at/8AMvVv9lb4c/GnwfrHxQ8d/HTQPC%2Bk6p4%2B%2BIUWuWeleE/Etzq1va2sWg6Ppiq9xcWVmzSNJp0rlRFtCyINzHOAD1uiiigAooooAKKKKACiiigAooooAKKKKACiiigAooooAKKKKACiiigAooooAK%2BV/wBp79rT4ufDD4x%2BLNa8A%2BHfB8nhj4P%2BH/D9741OtaRcTarqlvq9/KlzBYXEdxGll5FtZx3GZIpxcyFIyIfL80/VFeM/Gf8AYh%2BHHxu%2BKR%2BJmueOfFWlxaja6Ra%2BL/DWjXVqmneKYNLvZL2xivllt5Jgsc00ufs8sBljkMUxljCoAD2aiiigAooooA%2BY/Dn7SvxMh/b/APFHwf8AiNrHh7wn4bXxBaaJ4Mi1H4Rayl14xgGgQajiDxG12unNLHd3OoAWgheTy7SYBQWaRfpyvK/Fn7LUHj/4yaR8U/Hvxv8AGur6V4e12PWtA8AXB0yLRrHUI7d4I5w0Nkl7Ls8ySRUmupIxI%2B7Z8iBfVKACiiigDxf/AIKC/F344fs/fsj%2BNPj18Ar3wpHrHgnQrvXLqDxhotzfW13aWttLM9uiW11bMkrsiKJC5VAWJR%2BBXn/jz9rT4ueC/jx4t1Pwp4d8IRfDzwh8Y/CPw%2B8ZWc2kXB1vVdV12DRUj1CG7S4WGOOD%2B3NJjMUlvK8iQz4lj2oK9h/ax/Zxsv2tPgRr37PutfFXxT4R0nxPZS2OuX/hBdO%2B13NlLE8U1tuv7S6jRHV%2BWRFkBUbXXnPFwfsA%2BDp/iLZ/EXxV8cfH2usdZ0nXPE2jahLpUVj4n1zTEjSx1a9jtrCJluIhBaYW2aCBjY2xeJjHkgHvdFFFABXi/wC2T8Xfjh8ErXwD4x%2BFl74U/sbUPiZ4c8PeL7HxBotzc3Vza6rrNjpoNnLDdQpbSRrcyyb5EnUlEXZyTXtFeVftXfstv%2B1V4b0LwvP8ffG/ga30LxJYa6jeC4dHZ7u9sbyC8s2lOpafeDbFcW8bhYwgblZN6naADzj9nn9pX4ma3%2B1V4t%2BCPxQ1fw94T06HxTrdv4J8JSfCLWdMudetoXSU39vrVxd/YNQdjJNLLFbQF%2BS7FcMT9OV5LpP7KIf4yaL8ZfiP%2B0B478azeF7u8u/CeheIRpMNho91c28lrJcRLYafbSyv9nmnhXz5JVRZ32gEgj1qgAooooA8P/bu%2BLnx4/Z%2B%2BDWr/HX4UeMfAtjp/hbRbm8vdF8WeGb2/ufEN7lFs9Ms5La9g%2BzzXEpFujeVdM0s8QWFj8ref/BH9r74z658S/BX9reDPCWkfDTxv8T/ABR8NvCvhrTtLmj1fRL/AECHVt889yLhreaCRvD%2BposMdvEY1a2PmSZYD0/9pX9kGD9pLx54I%2BIE37QPjvwhc%2BAbu5vdFsfDEWjT2cl7KgjW8mg1PTrxHnhj8xYZAFMYnlI%2BZsir4D/Ya%2BHvgP4y2/xdh%2BIvi7UoNO13U9e0TwhqVzZf2TpWt6jG8eoapAkVqk/nzie7LK8zwo19cmOKPzOAD2uiiigAr5f/AGufjx%2B0v8FviJp/hTSofAHjXR/HMOtW2i/DmLwffSawlraaHdXcl/cTi9eK6thdRW9tJCLWIH7fCgmMjIkn1BXh037E1xH%2B0f4r/aa0T9qv4l6dq/i3TYdOudLhg8Pz2mn2cMDRw21m1zpMtzbxLK73WxZtrzuXcODtoAZ%2Bwh%2B0H43%2BPfw9vLr4r%2BPtGvvF2nCzbX/Ddl8LtX8I3mgPPbLKILmy1e6nuHBbf5dwAkciodobaTXuleb/AAO/Zu074M%2BJ/EnxD1j4peKfHHirxXFY2%2BseJ/FzWC3L2lmJvstqkWn2trbRxRtc3LjbCGZriQszZGPSKACiiigD45/4KCftx/FT9jDxz/aeuaLoHjHwi%2Bjajrdv4Vl%2BHOp2Utumm6Nfakkn/CRTXT6ZPd/a9NGyxWBLoRzLKBthaRvXv2aPi78c9W%2BKnjf9nr9o658Kah4n8I6ToetR614K0i5sLG5sdUF5GkRgubm5dZYrjTrtS/m4kQxNsjJKit8df2EvBH7TmtXVr8f/AIt%2BNfFHgu5kuJF%2BGV5JpsOixSTWM1kzb7eyjvpAI7iZgkt06B33bfkQL0/7Pn7M2kfAO817xFd/FDxZ448R%2BJDZx6t4q8a3Fm99LbWkRitbUfY7a3hWKIPKwxHvZ55XdnZyaAPSqKKKACviP9qf9sr9rP4N/GrxB8KPB3hvw5411Ow0W413wwE%2BB/iCOTRQNR0y1Qwt9uceJpBY6pced/ZflPC0JWURiYR19uV4fr37Fup%2BJfHp%2BJ2tftc/FGbW9PgvIvBt4U0ADwqt1NDJP9kjGk7J2aOBbfderdMsTOFKu7OQDqv2WPiw/wAZPhHB4svfiZo3iq/h1G6stUvtG8GX3h0W1xFKytazabqFxPdWc8YwrxzOHz821QwFejVw3wD%2BAvh74AeGdT0bSvFOt%2BINR1/XrjW/EniTxHNA17qt/MERp5RbxQwJiOKGJUhijjVIkAUYJPc0AFFFFABRRRQAUUUUAFFFFAFHxR4hsPCXhrUfFeqhza6ZYzXdyIly3lxoXbA7nCmvnP8AYm/aT%2BNfj/xTo/gz42eHvBlmPHXwtsviN4Zh8GaVcWg0yO8uCbvT7szXEou5o3ubZ/tiCATtLMTBHtBf6Wu7S1v7WWxvbdJoZo2jmilUMrqRgqQeCCOMV5D%2BzN%2BxX4C/Zg1V9X0D4g%2BLfEstt4YsfDPh0eLL21mGgaFZvI9vptqbe3hLRqZPmlnM1xII4vMmfy1wAexUUUUAFcL%2B1B48%2BIvws/Zo%2BInxO%2BD/AIUXXvFvhzwLq%2BqeFtDaxmuhqOo29nLLbWxhgZZZhJKiJ5cbB23YUgkGu6rO8W6Jf%2BJfDGoeH9L8V6joVze2kkNvrWkLA11YuykCaIXEUsRdTyBJG6ZHzKwyCAeXfsU/Fqf4ofDO%2BstW%2BIXh/WdT8O6qunXmmaJ8MNT8HPoaC2gkis7jStUuZ7mFwjiRXby0eKWLYmBvf2KvPPgP%2BztpPwOvPEviO5%2BIniTxj4k8X6jDeeIvFPit7MXd0YbdLeCIR2NtbW0UUcaAKscKZLOzFmZmPodABRRRQB8uftUftY/FD9nD4veOLL4laN4S8RfC%2Bw/Z38X%2BPbbQrfRLhNVdtEGlrPbXFzJcvbzRTrfTgILZCoRMu%2BWFdv8Asz/F/wCPmqfFzxl%2Bzr%2B0s/hK88UeGPDHh7xLHqvgrSbmxspLLVn1K3W2MNzc3LmWG40i7BlEgWRHiby4zuWoPjH%2Bwr4d%2BOnx1b4y%2BPPjt45l02bwVqfhG%2B%2BHsMGi/wBiXejaktt9vtJC%2BmtekTtaQOzi6DqUIRkRmQ9J%2Bzv%2By7of7Pt9rXiOf4oeLfG/iHX7Wwsr/wAT%2BNrm0kvTYWKSLZ2Y%2ByW1vH5URnuHBKGR3uZXd3Zs0Aen0UUUAFfInxr/AGl/2tvBmu/tAeBLfwr4M8WXvgLw/wCFPEnw2sdJ%2BH%2Bp386x6jqupQhLy1ivHl1GeBdNjnU2wtyXJCr8qtX13Xhcv7FHiGL46eNvj/oX7aHxW0rVvG%2BkWOmXNjZWfhhrTTbayuLmezS2EuivJ%2B6N5dKDM8pdZyJPMKoVAOr/AGVPi3N8ZfhSPE2o/E7RvFOo2uq3Njq11o/gi/8ADZs7iJvmtZ9M1G4nurSdFK7kmYMQyttVWFek1wnwD%2BAegfAHQtZsdP8AFuueI9V8TeIJdc8T%2BJvEktu17qt/JDDB5sgtoYYIwsFvbwqkUUaKkKALnJPd0AFFFFAHxt%2B0t%2B13%2B0t%2Bzx8ZoPhtrKfDPxrfa3BBN4Rh07wte2kvgu81LxDpnh7SJtTle%2BmF1FO2rzgtEtnI4sbpYwy%2BYYvcf2Vfi/8AEj4jDx/8PvjEdEn8VfDTx43hrWdV8NadNZ2Gp%2BZpenatb3ENvNPPJb5tdUt0eNppcSRyYYgjHC23/BNXwk118Q38Q/tL/E7Wbf4k68dc1i31I6F5lnqUVxDPp9zbXUWlpdKbB7e3FpG80kUSwoGR%2Bc%2BsfAP4C6H8A/D2rabZeL9c8Sat4i16bWvE/ijxK9sb/V76SOKHzphawQQLsggt4ESKKNFjgjULwSQDuqKKKAGXP2n7NJ9j2edsPlebnbuxxnHOM18QfFb9rn9tP4afETXPhtb23gPxnr3hi98NW%2BreOvBHwV1/Vo/DlvqzXj3thLpVnqU93czRw2VjdExTp%2B7uoWlgQGJpPt67hkuLWW3hupIHkjZVniCl4yRgMu4FcjqMgj1Br57%2BDH7AXiD4CfDa4%2BGnw7/bq%2BMUUd1qz6nNrN5ZeE59Qlu5XlkuZ5pn0I/aZJ3l3SSTiR8xpsKAYIB6z8BPiHZfFb4O%2BH/iFYfEDRvFSanp4kfX/D%2BkzWFpdyAlZClrPNNLbFXVkaGSR3jZWVjuUgdfXJfAv4L%2BEv2ffhfp3wp8FXN/cWVhLdXE19qtyJrq%2Bu7q5lurq6mcKoaWa4nmlfaqrukO1VXCjraACqPieHxJc%2BG9Qt/Bup2Nlq8llKul3mp2D3VtBcFCI5JYY5YmmjVsFkWSMsAQHUncL1ZvjHQb/wAUeFr/AMO6X4t1LQbm8tXig1rRxAbqxcjiaIXEUsRdTyBJG6HHzKwyKAPh74b/ALdn7Wvxg%2BKet/BL4Wab8Pk8Z6ba67fSeM/Ffwu1rQ11TTNItdFlSxl0S8vk1DT5Xu/EOxJp5nj8qGS4SF1nQH7G%2BAXxa034%2BfAnwV8ddG02Wzs/GvhLTdetLOZ9zwRXlrHcLGxAGSokAJ9RXi2r/wDBMjwPrWuX3xFu/wBpT4pp8QNWS8tda%2BJNte6RDq1/pl1bWttNphRNNFnDbFLK0YeRbRSrJAsqyhyzH6D8F%2BD/AA18PPB2k%2BAPBmkxafo%2Bh6ZBp%2Bk2EOdltbQxrHFGuecKiqo%2BlAGnRRRQBy/xp1Hxxo3wt1rW/hz4hsdL1awszdQ32oeD73xAiRxkPKBp1jPBc3kjRK6pFDIHLsuFc/I3xb8Jf%2BCiPx%2B8SeNND1PxvceEfAngzUp518QeOLz4GeIprbWL%2BHX7rSES5lW%2BjTwzPJa2lr%2B41RpJYHlWN87AlfbfxM8Ga7498JTeHPDfxS1/wbeSSxvFr/hmKxe7g2sCVVb%2B2uYGDAFSHibgnGDgjxW6/wCCc3hTUPB9x8NtW/aQ%2BJt34Y1zUJr/AMeaBNcaOIvGF3PeNdXE19Kumi4i80ssLR2ctrEIYkjVFG7cAfRNFFFABRRRQAUUUUAFFFFABRRRQAUUUUAFFFFABRRRQAUUUUAFFFFABRRRQAUUUUAFFFFABRRRQAUUUUAFFFFABRRRQAUUUUAFFFFABRRRQAUUUUAFFFFABRRRQAUUUUAFFFFABRRRQAUUUUAFFFFABRRRQAUUUUAFFFFABRRRQAUUUUAFFFFABRRRQAUUUUAFFFFABRRRQAUUUUAFFFFABRRRQAUUUUAFFFFABRRRQAUUUUAFFFFABRRRQAUUUUAFFFFABRRRQAUUUUAFFFFABRRRQAUUUUAFFFFABRRRQAUUUUAFFFFABRRRQAUUUUAFFFFAH//Z\">"
            ]
          },
          "metadata": {
            "tags": []
          }
        }
      ]
    },
    {
      "cell_type": "markdown",
      "metadata": {
        "id": "rtdAd_152hwc",
        "colab_type": "text"
      },
      "source": [
        "# Submit a linear model"
      ]
    },
    {
      "cell_type": "code",
      "metadata": {
        "id": "JuqspUtz2hwe",
        "colab_type": "code",
        "colab": {}
      },
      "source": [
        "## GRADED PART, DO NOT CHANGE!\n",
        "# Testing shapes \n",
        "grader.set_answer(\"9XaAS\", grading_utils.get_tensors_shapes_string([W, b, input_X, input_y, logits, probas, classes]))\n",
        "# Validation loss\n",
        "grader.set_answer(\"vmogZ\", s.run(loss, {input_X: X_val_flat, input_y: y_val_oh}))\n",
        "# Validation accuracy\n",
        "grader.set_answer(\"RMv95\", accuracy_score(y_val, s.run(classes, {input_X: X_val_flat})))"
      ],
      "execution_count": 0,
      "outputs": []
    },
    {
      "cell_type": "code",
      "metadata": {
        "id": "RHsOQi6H2hwj",
        "colab_type": "code",
        "colab": {
          "base_uri": "https://localhost:8080/",
          "height": 34
        },
        "outputId": "284b864a-562f-4da9-f59c-9b4b2390bff6"
      },
      "source": [
        "# you can make submission with answers so far to check yourself at this stage\n",
        "grader.submit(COURSERA_EMAIL, COURSERA_TOKEN)"
      ],
      "execution_count": 18,
      "outputs": [
        {
          "output_type": "stream",
          "text": [
            "Submitted to Coursera platform. See results on assignment page!\n"
          ],
          "name": "stdout"
        }
      ]
    },
    {
      "cell_type": "markdown",
      "metadata": {
        "id": "AgrWfsvs2hwp",
        "colab_type": "text"
      },
      "source": [
        "# MLP with hidden layers"
      ]
    },
    {
      "cell_type": "markdown",
      "metadata": {
        "id": "Jp72_QGh2hwr",
        "colab_type": "text"
      },
      "source": [
        "Previously we've coded a dense layer with matrix multiplication by hand. \n",
        "But this is not convenient, you have to create a lot of variables and your code becomes a mess. \n",
        "In TensorFlow there's an easier way to make a dense layer:\n",
        "```python\n",
        "hidden1 = tf.layers.dense(inputs, 256, activation=tf.nn.sigmoid)\n",
        "```\n",
        "\n",
        "That will create all the necessary variables automatically.\n",
        "Here you can also choose an activation function (remember that we need it for a hidden layer!).\n",
        "\n",
        "Now define the MLP with 2 hidden layers and restart training with the cell above.\n",
        "\n",
        "You're aiming for ~0.97 validation accuracy here."
      ]
    },
    {
      "cell_type": "code",
      "metadata": {
        "id": "R5ZcMbqr2hws",
        "colab_type": "code",
        "colab": {
          "base_uri": "https://localhost:8080/",
          "height": 309
        },
        "outputId": "6d571d8b-4d6d-418c-ab6a-a3589ed99099"
      },
      "source": [
        "hidden1 = tf.layers.dense(input_X, 256, activation = tf.nn.sigmoid)\n",
        "hidden2 = tf.layers.dense(hidden1, 256, activation = tf.nn.sigmoid)\n",
        "logits = tf.layers.dense(hidden2, 10)\n",
        "\n",
        "probas = tf.nn.softmax(logits)\n",
        "classes = tf.argmax(probas, 1)\n",
        "\n",
        "loss = tf.reduce_mean(tf.nn.softmax_cross_entropy_with_logits(logits = logits, labels = input_y)) \n",
        "step = tf.train.AdamOptimizer().minimize(loss)\n",
        "\n",
        "s.run(tf.global_variables_initializer())\n",
        "\n",
        "BATCH_SIZE = 512\n",
        "EPOCHS = 40\n",
        "\n",
        "# for logging the progress right here in Jupyter (for those who don't have TensorBoard)\n",
        "simpleTrainingCurves = matplotlib_utils.SimpleTrainingCurves(\"cross-entropy\", \"accuracy\")\n",
        "\n",
        "for epoch in range(EPOCHS):  # we finish an epoch when we've looked at all training samples\n",
        "    \n",
        "    batch_losses = []\n",
        "    for batch_start in range(0, X_train_flat.shape[0], BATCH_SIZE):  # data is already shuffled\n",
        "        _, batch_loss = s.run([step, loss], {input_X: X_train_flat[batch_start:batch_start+BATCH_SIZE], \n",
        "                                             input_y: y_train_oh[batch_start:batch_start+BATCH_SIZE]})\n",
        "        # collect batch losses, this is almost free as we need a forward pass for backprop anyway\n",
        "        batch_losses.append(batch_loss)\n",
        "\n",
        "    train_loss = np.mean(batch_losses)\n",
        "    val_loss = s.run(loss, {input_X: X_val_flat, input_y: y_val_oh})  # this part is usually small\n",
        "    train_accuracy = accuracy_score(y_train, s.run(classes, {input_X: X_train_flat}))  # this is slow and usually skipped\n",
        "    valid_accuracy = accuracy_score(y_val, s.run(classes, {input_X: X_val_flat}))  \n",
        "    simpleTrainingCurves.add(train_loss, val_loss, train_accuracy, valid_accuracy)\n"
      ],
      "execution_count": 19,
      "outputs": [
        {
          "output_type": "display_data",
          "data": {
            "text/html": [
              "<img src=\"data:image/jpeg;base64,/9j/4AAQSkZJRgABAQEASABIAAD/2wBDAAIBAQEBAQIBAQECAgICAgQDAgICAgUEBAMEBgUGBgYFBgYGBwkIBgcJBwYGCAsICQoKCgoKBggLDAsKDAkKCgr/2wBDAQICAgICAgUDAwUKBwYHCgoKCgoKCgoKCgoKCgoKCgoKCgoKCgoKCgoKCgoKCgoKCgoKCgoKCgoKCgoKCgoKCgr/wAARCAEgA2ADASIAAhEBAxEB/8QAHwAAAQUBAQEBAQEAAAAAAAAAAAECAwQFBgcICQoL/8QAtRAAAgEDAwIEAwUFBAQAAAF9AQIDAAQRBRIhMUEGE1FhByJxFDKBkaEII0KxwRVS0fAkM2JyggkKFhcYGRolJicoKSo0NTY3ODk6Q0RFRkdISUpTVFVWV1hZWmNkZWZnaGlqc3R1dnd4eXqDhIWGh4iJipKTlJWWl5iZmqKjpKWmp6ipqrKztLW2t7i5usLDxMXGx8jJytLT1NXW19jZ2uHi4%2BTl5ufo6erx8vP09fb3%2BPn6/8QAHwEAAwEBAQEBAQEBAQAAAAAAAAECAwQFBgcICQoL/8QAtREAAgECBAQDBAcFBAQAAQJ3AAECAxEEBSExBhJBUQdhcRMiMoEIFEKRobHBCSMzUvAVYnLRChYkNOEl8RcYGRomJygpKjU2Nzg5OkNERUZHSElKU1RVVldYWVpjZGVmZ2hpanN0dXZ3eHl6goOEhYaHiImKkpOUlZaXmJmaoqOkpaanqKmqsrO0tba3uLm6wsPExcbHyMnK0tPU1dbX2Nna4uPk5ebn6Onq8vP09fb3%2BPn6/9oADAMBAAIRAxEAPwD9/KKKKACiiigAooooAKKKKACiiigAooooAKKKKACiiigAooooAKKKKACiiigAooooAKKKKACiiigAooooAKKKKACiiigAooooAKKKKACiiigAooooAKKKKACiiigAooooAKKKKACiiigAooooAKKKKACiiigAooooAKKKKACiiigAooooAKKKKACiiigAooooAKKKKACiiigAooooAKKKKACiiigAooooAKKKKACiiigAooooAKKKKACiiigAooooAKKKKACiiigAooooAKKKKACiiigAooooAKKKKACiiigAooooAKKKKACiiigAooooAKKKKACiiigAooooAKKKKACiiigAooooAKKKKACuN%2BOP7QHwm/Zx8JW/jT4veJ5dPtL7U4dN0u2stLub%2B91K9lDGO1tLO0jluLudlR2EUMbvtR2xhWI7KvFv2u/gP8VPiX4h%2BGfxl%2BBd14fl8X/CrxjPrWmaJ4tu57bTdYhudLvdMubaW4ghmktH8q9aSOdYZtrR7TGyu2ACjpH/AAUr/Y71rxm3w8tvHviCDW7fSodU1bTtR%2BHOvWkmi2EhuAt3qXn2SDTIAbWcNLdmFEKYYqWUGbwn/wAFH/2NfGfg/wAQ%2BOtM%2BLFza6f4Y0e11fVBrnhPVdMuJNPuXMdreWtvd2sU19bzyAxwy2ySpM5CRlmIB86vP2GPjP8AHW0/aRP7Qt74V8My/tB/CPTvBskfgrWLrUzo7RWusWsr%2BbcWtqZ1VNRiZDsXeyygogxuy9Y/Y2/at%2BM%2Btaz8UP2lPh38G9X1e0%2BE6eBtB8E6d4n1QaRrSy6jaXt5fXd2bBJ9PYmyg%2BzxQw3BtnDP50hIwAeyX/7fP7N2k%2BAbH4h6tdeOLSHVPED6Jpeh3Xwj8SR67e3yW5uXjh0dtPGoShYAZTIluUCKzFsA49P8JeOfDfjbwTY/EPRbi5i0rULBbyCTVNPnsZY4iu7MsFykcsDAfeSRVZSCGAIIr41tv2Gf2tJfgpJ4W8feGPCnjS%2Bh%2BIcut%2BC9B1n9ofxXb3fgOxOmxWoi0/xbHp7atcSGUXcreZDGBHeGENsjGfUvB/7Bmq%2BKfgJo3hb9pz46%2BOPEfj5PhtdeFtf8Q6T8Q9at9Muhc2tzbyTPpa3SWN5MiXTBbq4tmmdoopWKuibADc8Mf8FJP2MvF/h7xJ4s0b4tXK6Z4W8GXni6/vr7wlqtpFe6BaruuNU09p7VBqtogK5nsvPQmSMAkyIG4n40f8FdP2YfAf7M/wATf2gfhW%2Bs%2BM7v4b%2BDYfEjeGW8L6xps2r2Nw7R2t3avNYFrixlkRh9vgjmtkVWdnCqSPHfC/8AwSh%2BNC/BPxf8LPFnh3w9J4h/4UL4j8A%2BC/Hmo/tD%2BNvECSXGpWEdp5h0jVUkttGtpDDE8scEl0yeVGqFggz6P%2B1L/wAE5vih%2B0BYeKtE0Pxj4d0q2179le%2B%2BGlrLM87GDVpLiOWGdo1iANqNhBIbzBnhO9AHqkv/AAUU/ZZt/E3hrwJeav41tvEni7TpdQ0HwpefCTxLDq8tnFd/Y5LmSwk08XNvCkxG6SaNEVGWUkRsrmXwN/wUT/Y7%2BJGqarpXhD4tyXB0rQ9Q1lbufw1qVvaapp1iwS8u9NuZrdYdVhhYqHeyedVLqCfmGcXwR8APjz4x/apsf2oPjn4f8HeH5JPg5f8Ag/VNE8J%2BK7vVTBcy6tHcpJDcz6fZl4mgiUsTGjJIdoV1USHwGb9hz9pf4bfs8%2BF/Cnxo1rwIPCP7N3wP8SaB4L1PwrfXcmpeKd2hHTLe4vbeW2ii04JZozSQxS3QknZXDxqgQgH0D4U/4Kl/sL%2BNPBus/ELQ/jLdrouheDj4tutRv/BmsWcdzoIKB9Vs/PtEN/ZxmRBJPbCWOLcPMZc167a/GD4c3vxcuPgVZ%2BIxN4qtPDUGv3emRWsrCHTp55beGd5QnlL5ksE6ohfe3kyEKQjEfFX7I/7P3xC8WfBL4Q/Hb9t/Uvhlovww%2BG/7L9z4fgk07W5wmr6bqmnaWby%2B1X7VBDDpkEVppyq0CS3CZleRplWNVrsP%2BCK3wr8d6P8As76n8evit4tbxFrHjW%2Bg03w54hlgaOS%2B8I6JF/ZWiXBD8/6VDDNqhPd9WcgKCFAB9lUUUUAFFFFABRRRQAUUUUAFFFFABRRRQAUUUUAFFFFABRRRQAUUUUAFFFFABRRRQAUUUUAFFFFABRRRQAUUUUAFFFFABRRRQAV4jpH/AAUY/Y91K716z1P4pXnh5vDnhy58QahJ418I6roMc2k27pHPf2smpWsC31ujyRK0tsZUBljGcuufab2K5ms5YbO6EEzxMsUxj3%2BWxHDbT1wecd6/MTV/%2BCOX7cvxf1bwvrnxu%2BOOhvrfhrwfqFnqHijUPit4m8TjxDrf2zSr611E6XfRQ2Wk20lzpi%2BfYWQCiOTassgVAoB9sv8At/8A7MNr8NG%2BLGseIPFWlaW2uQaNY2eufDLX7DVNTv5kMkMFlptxYpe37SIGdfs8MgZUdgSEYjovAf7VnwP%2BI%2Bv2XhPw54h1SHV7/wAKT%2BJIdI1rwrqWmXaabDd/ZJZZYby3ikgdZ/kMMirL32bea8m%2BJ3wc/bd%2BMTfD342654N%2BFWh/EP4UeOptY8P%2BGbXxxqV/ouuWdxpN3plzHcXz6VDNYzFL2SSN0tbgRmIKfMEjYq/En4Dftwa/8ZfDv7TXgfRvhXaeLL74Yar4L8Y6FqXivUpLDSFuL%2BG6tb%2ByuE04SagYhG6yW8sVoJS4xLFjkA7jSf8Ago3%2ByB4j17wL4W8K/EbVdZ1P4k%2BDdK8W%2BDdO0TwPrN7PeaHqL7LXUZEgtGa1t92PMknEa24ZTN5QYE7Hw1/bc/Zu%2BK/xGufhP4Z8X6tZ6/b6Xc6nDZeJ/BmraIt/Y28iRz3dlLqNrBHfwRvLEHltmkRfMQkgMpPlH7Cn7CXxY/Zh1/4caz488QeGrs%2BDv2UvCPwxv30i5nlZtW0t5muZovMgj3Wrb02MxV22/NGmBXjXw0/4JV/tjeJ/ij4X8TftTfGGz1SLT/AHivwv408TQfF/xJrV54il1exS2/tO10y%2Bhj0/QjlSxtLRSi5UCZxGq0AfUvhP/gov%2ByP410WPxVoPjvXP7DuNV0vT9P8AEt78P9btdK1GXUr2OyspLS%2Bns0tryCW5mijFxBI8IMqFnCsCfS/C3xd%2BHnjX4geKfhd4X8Q/a9c8FyWcfie0S0mC2Ml1B9ogjMrII3doSshRGZkWSMsFEibvmHxx4E%2BIvhX/AIJ7eNPgR/wUM8T/AAq8EeAtB%2BGkWgW3xM8O%2BLbsM06RpbWupPaXVnAmmzLMLeSGCO4umM5REcnaG7X/AIJX/D74seG/2RNK%2BKv7RVglv8TvixfS%2BOviJCtu0X2e/v1jMNpsb5k%2By2MdlZ7TkgWuDQB9G0UUUAFFFFABRRRQAUUUUAFFFFABRRRQAUUUUAFFFFABRRRQAUUUUAFFFFABRRRQAUUUUAFFFFABRRRQAUUUUAFFFFABRRRQAUUUUAFeL/Hrx/8AtF/8NF%2BBfgR8BfGfgrw%2Bmv8AgrxLr2r6n4v8F3etEnTrvQ7eGGGO31Kx8sN/akrMzM%2BfLQALyT7RXhfxF1pbP/gpV8IdFkUYvfgn8Q2Ru%2B6PVvBpx%2BTMfwpNpblwhKo7R7N/dqy9/wAIP/wUL/6Og%2BDP/hh9W/8Amoo/4Qf/AIKF/wDR0HwZ/wDDD6t/81FezUUyDxn/AIQf/goX/wBHQfBn/wAMPq3/AM1FH/CD/wDBQv8A6Og%2BDP8A4YfVv/mor2aigDxn/hB/%2BChf/R0HwZ/8MPq3/wA1FH/CD/8ABQv/AKOg%2BDP/AIYfVv8A5qK9mooA8Z/4Qf8A4KF/9HQfBn/ww%2Brf/NRR/wAIP/wUL/6Og%2BDP/hh9W/8Amor2aigDxn/hB/8AgoX/ANHQfBn/AMMPq3/zUUf8IP8A8FC/%2BjoPgz/4YfVv/mor2aigDxn/AIQf/goX/wBHQfBn/wAMPq3/AM1FH/CD/wDBQv8A6Og%2BDP8A4YfVv/mor2aigDxn/hB/%2BChf/R0HwZ/8MPq3/wA1FH/CD/8ABQv/AKOg%2BDP/AIYfVv8A5qK9mooA8Z/4Qf8A4KF/9HQfBn/ww%2Brf/NRR/wAIP/wUL/6Og%2BDP/hh9W/8Amoq1r/xv/ZE%2BFNppGk/HT4w/Dnw5rmoaLBqBtvF3iGwtLu4jkyPP23Dq7IzpIA3TKMM8EDN/4a//AOCcH/R0XwR/8LbR/wD47XNPGYOnJxnVimujlFP7nJM9rD8N8SYuhGtQwNecJK6lGjWlFrupRoyi1o9U2tNyx/wg/wDwUL/6Og%2BDP/hh9W/%2Baij/AIQf/goX/wBHQfBn/wAMPq3/AM1FV/8Ahr//AIJwf9HRfBH/AMLbR/8A47Xp2gaL8LPFehWXinwtpPh/UtM1K0jutO1HT4IJoLqCRQ8csciAq6MpDKykgggg4NXSxOHrtqnOMrdpJ/k2c%2BOybOcrhGeNwtWkpOydSnUppveyc6cE3bWybdtbW1POf%2BEH/wCChf8A0dB8Gf8Aww%2Brf/NRR/wg/wDwUL/6Og%2BDP/hh9W/%2BaivPPh9/wUa/Yv8AF/gez8YeIfh74n0GfVPHGteFtE0a5%2BD2tz3mrXunXF/HItpFDp7PdEw6fPOyxK5hAMcmyRWUdl8Qv2qP2WvAtl49tLzRItP1jwF4Q1rxDeW3izwJq2k2d3Z6Yv8Apc9vdSac4vbeJmiEktkl0VE0bBH3or7Hmmj/AMIP/wAFC/8Ao6D4M/8Ahh9W/wDmoo/4Qf8A4KF/9HQfBn/ww%2Brf/NRVWw/as/Yw1D4zyfs/Q3lv/wAJRb%2BII9Buo/8AhBr8WEOqvp0epR2Lag1oLRZ3tJUmSMyhnBwoLAqNn41/FX4K/CT9nnXf2h9H8I6N4o07S7BpNNt9DW2kGq3TSiCC1imAKBpLhkh3E7VZiW6GgCh/wg//AAUL/wCjoPgz/wCGH1b/AOaij/hB/wDgoX/0dB8Gf/DD6t/81FO/Zz%2BIln8V7nxn4L%2BK3wN8NeE/F3gHX4tN8Q6ZpOpLqtg6TWNvfQXNvdyWlq8kbRXIU74I2WWGVcMqq7%2BbfAn9rfWfjraWY0n9kPwzYXnjj4Z/8J78Hbe68UqV8QaP50EeL9v7PB0u4C3thI8aLdqq3eA7NGy0Aej/APCD/wDBQv8A6Og%2BDP8A4YfVv/moo/4Qf/goX/0dB8Gf/DD6t/8ANRXmvib9rzWtP/4J3aN%2B3f4W/ZH8J6jcy6Kmr%2BJfCV14tFtHptmqyGdoLwac7XTqyKqIYIg%2B/JaMA11n7XP7S/w8/Zg8Q%2BBfB%2Bj/AAO07xVqvi3xroGlanawvFaroel6lrdho39qSsYZN2y61G2VIMK058zayrFK6AG9/wAIP/wUL/6Og%2BDP/hh9W/8Amoo/4Qf/AIKF/wDR0HwZ/wDDD6t/81FcD4R/bF8JeI/jvp3w21H4A%2BFrDw74l%2BI3iDwH4R1l/EEb6pea7o9reXNytxp32MC1tWTT7wxzi4lZh9nLRILhMHwW/aY8T/HDxH8SPhV4K/Z8%2BD%2Bq%2BNPh4umi4/4R34nvqPh43FzcXMU%2BnXWpR6KJbPULZbV5JLX7JIQs9tll80lADvv%2BEH/4KF/9HQfBn/ww%2Brf/ADUUf8IP/wAFC/8Ao6D4M/8Ahh9W/wDmoryaz/a7%2BJt/%2Bxnr/wC2Iv7IvwptNM8K3nid9bh1H4mXUdrLpejTzwG/tLhNAd7hZ2tZ3jR4Ysx%2BUwZvMwuf8Qf%2BCg2n/C34reBPg14%2B/ZW8H6R4k8TaH4Uu9V8L6l4zii1iW71m7a1ntdDtDp//ABO/7PdGe6k32vlxAOVGcAA9p/4Qf/goX/0dB8Gf/DD6t/8ANRR/wg//AAUL/wCjoPgz/wCGH1b/AOaiuI8W/tC/Eb4d/tJXHwU8Xfsd%2BC9Q0lPAviLxdBqXgzxdNqOq/wBnadJBFbpJp8ukW6Jc3b3CpHClzIN0U%2BGcR5OD%2Byr%2B2Vqv7Y3hDxRf/A/9nj4Q61q3h6HR7iK50n4ote6BML6OaSSyl1KDRmeDUrVYlae0%2BzOEFzbky/vCFAPVf%2BEH/wCChf8A0dB8Gf8Aww%2Brf/NRR/wg/wDwUL/6Og%2BDP/hh9W/%2Baivn%2B3/4KQGbwF8H/E2r/s6/BjwzefF6PxJc6RN43%2BMH9l6ObTTb63t7OW2vm0Vnunv4rmK5hjMETCNudxyB6e/7UPh%2B4/bovf2MrL4Z/CS1k0zTNMvZ5te%2BIaWet6gl1FcSOdP0kabJ9sWEQfMxuIx82TtxyAdj/wAIP/wUL/6Og%2BDP/hh9W/8Amoo/4Qf/AIKF/wDR0HwZ/wDDD6t/81Fcb4Z/aTm179qXxP8Aslp8Dfhbf%2BJNJ8K6lrWnJ4Y%2BIH9otZeRLbJaW%2Bux/wBlxvosl4t3HJDgXW5YbkrvEQL8bY/t3z%2BJf2Wvi58fvht%2BzP8ADHxhffCOa4bUP%2BEV%2BJa3nhvV7e305b%2B4az1ldK3STRKTFJD9l%2BSYbC%2BMsAD2T/hB/wDgoX/0dB8Gf/DD6t/81FUPA/jj9qzwd%2B1Z4c%2BCPxu%2BI/w98TaN4m%2BHviHXIZvCvw8vtFurS602%2B0S3RWe41e%2BSWN01SUlQiMGiQhsZB9DuNK8LX/w0bxjpvhSxsLmXRPttu1vborwOYfMXa6qDkHHPGcVxfjj/AJSF/C//ALIz48/9O3hCgD2aiiigArzb9rL9pXSv2Rvgjq3x68R/C/xX4r0nQYZLnWrTwfDZvc2dnHFJNNduLy5t0MUaRnIVy5JUKjE4r0mvGf8AgoJ8J/jV8fP2P/HnwG%2BAmjeFrvXvG/hu90LzvF/iO50y0sobq2lia58y3srt5HQspEXlqGBP7xcDIB2Hx6%2BOnh/4A%2BDrTxPq/hrWNevdV1u00fw/4c8PRwNfatf3L7YreH7RLDCpwHkZ5ZY40jid2dQpNeT%2BI/8Agpr8IND8D6d4z034U%2BP9Zmk0nXtU8T6DpGmWT3/hSy0S8%2Bw6tNfpJdohNtdbofKtXuJZzG5t0nVS1bHxs%2BGP7S/xm8FeEvFA8HeBdH8beA/GOmeJ9E0keNLy60y/nSG4tryzmu/7MjlgQ291Osc628h3lHaIBSh8avf2A/2rfDPhrUNf%2BHOufD%2Bfxd8QPDXjXSPiBHq%2BrXsdho8mv6xJqcV1YOlo73osfPmg8mVLb7UNjmW2IKkA%2B1NN1LT9Z0631fSb2K5tbuBJra4hcMksbAMrqRwQQQQfevnj4TeKv27/AI66Pr3jvwv8b/hJoGl2/wAQvFWh6XpV/wDB/VL%2B4itdL16/0yFpbhPEUCyyPHZq7MsUa7nICgAV7Nb/AAj8MRfB%2Bz%2BCb3%2BsR6RZ6Hb6UlxpmuXWn3ohhjWNWS6tJIpoXwg%2BeN1PXnmvHv2HPDun%2BFf2Ur3wfplzfy2dp8afHFikmparcXtzLD/wnmrRkS3Fw7zTuyZDSSOzuSSzEkmgDo/%2BEH/4KF/9HQfBn/ww%2Brf/ADUUf8IP/wAFC/8Ao6D4M/8Ahh9W/wDmop%2Bv/tQf8E/fCmu3vhbxT%2B0R8HNN1PTbuS11HTtQ8XaVDPazxsUkikjeUMjqwKsrAEEEEZFVP%2BGv/wDgnB/0dF8Ef/C20f8A%2BO1yvHYFOzqw/wDA4/8AyR70OFeKakFOGX4hppNNUK7TT1TTVBpppppptNNNNpplj/hB/wDgoX/0dB8Gf/DD6t/81FH/AAg//BQv/o6D4M/%2BGH1b/wCain6B%2B1B/wT98V67ZeFvC37RHwc1LU9Su47XTtO0/xbpU091PIwSOKONJSzuzEKqqCSSABk1e/ar%2BJfwq/ZQ/Zv8AGv7SXin4XLq2n%2BCvD1xqt1pukaIJri5WJc7EWONiMnGXI2ouXcqqsw1pV6FdN05qVuzT/Js8/HZXmeVzjDG4epScldKpCdNtbXSnCDavpdJq%2Bl76Gd/wg/8AwUL/AOjoPgz/AOGH1b/5qKP%2BEH/4KF/9HQfBn/ww%2Brf/ADUVQ0n9rP8AY/1zxvL8NdL8Na/L4htvDi69qGi/8Ka11brT7B47t4pbqNtPDWrS/YblYo5gkkzxiONXd0VnaZ%2B05%2BzB4mk8O/8ACK6ZYIdZ8dTeFb2w8S%2BEtR0fUbG%2Bj0a61cwtZXNgJklNrbrMq3C28bwyeYsrMYo5tThLv/CD/wDBQv8A6Og%2BDP8A4YfVv/moo/4Qf/goX/0dB8Gf/DD6t/8ANRVD4Kftf/sL/tBaNN4j%2BG3ibS/7Oi8P6frqX/iLwjd6LBc6XfMy2t7BJqNtAtzbyOpQSxF1D4QkMQKu/tG/ERvhXr/g/wCGnwg%2BAHhrxd4z8bXt4mlaXrWqrpFjBa2dq1xc3M90lndOgH7mJVWFy0lxHnYgd1AHf8IP/wAFC/8Ao6D4M/8Ahh9W/wDmoo/4Qf8A4KF/9HQfBn/ww%2Brf/NRXPa/%2B1J8LYP2LfDX7X/hP4KWV4PF48O2%2BjeHdUMFn5F/rF/aafBBd3IjkW3jiubxFmlVZNqxyFFkO1W4q1/bcXxFfWXws8E/szeArz4lJ4u8QaB4i0a%2B8crbaFp0%2Bj2tvd3OzVBpryTs0F5aOkZtI2%2BabzPKEDmgD1b/hB/8AgoX/ANHQfBn/AMMPq3/zUUf8IP8A8FC/%2BjoPgz/4YfVv/mory7xb%2B2Nq938H/hP%2B0Z8C/wBlrwD4p8E/FyTwtBoI1bxrJp2sifWZolKLaRaRcwSLbQSNcSN9pX5LefAGwFtX4M/tf%2BBPin8c/ib8NdX8BfCTR9I%2BGOqapa6uI/iCt14kENmIyb2XRl01fItnDnEn2lugwG3cAHef8IP/AMFC/wDo6D4M/wDhh9W/%2Baij/hB/%2BChf/R0HwZ/8MPq3/wA1FYH7E37Q3hL9sXwzqXjq0%2BHPwystKSGzm06z8N%2BObfXNVsxOjyfZ9XtYrOOPTLtUERMCzXA3NIu/93lvcPBg2aGYFJ2Q313FECc7US5kVV%2BgUAD2FAHl3/CD/wDBQv8A6Og%2BDP8A4YfVv/moo/4Qf/goX/0dB8Gf/DD6t/8ANRXs1FAHjP8Awg//AAUL/wCjoPgz/wCGH1b/AOaij/hB/wDgoX/0dB8Gf/DD6t/81FezUUAeM/8ACD/8FC/%2BjoPgz/4YfVv/AJqKP%2BEH/wCChf8A0dB8Gf8Aww%2Brf/NRXs1FAHjP/CD/APBQv/o6D4M/%2BGH1b/5qKP8AhB/%2BChf/AEdB8Gf/AAw%2Brf8AzUV7NRQB4z/wg/8AwUL/AOjoPgz/AOGH1b/5qKP%2BEH/4KF/9HQfBn/ww%2Brf/ADUV7NRQB4z/AMIP/wAFC/8Ao6D4M/8Ahh9W/wDmoo/4Qf8A4KF/9HQfBn/ww%2Brf/NRXs1FAHjP/AAg//BQv/o6D4M/%2BGH1b/wCaij/hB/8AgoX/ANHQfBn/AMMPq3/zUV7NRQB4z/wg/wDwUL/6Og%2BDP/hh9W/%2Baij/AIQf/goX/wBHQfBn/wAMPq3/AM1Fesa94n8N%2BFrQ6h4n8Q2OnQDrPf3aQp/305ArzTxX%2B3n%2BxL4HZ4vFP7W/w4tZU%2B/bnxlZvKP%2B2ayFv0rGricPQ/izjH1aX5tHpYDJc5zV2wWFq1f%2BvdOpP/0iEil/wg//AAUL/wCjoPgz/wCGH1b/AOaij/hB/wDgoX/0dB8Gf/DD6t/81FcVrn/BZL/gmd4ekaO//au0eQp1Njpd/dD8DDbsD%2BFY3/D7P9gLUuPBHjTxX4mY/dTQfh/qshb6eZAlcMs8yaLs8TC/%2BJP8rn1NLwt8Sq0eeOTYrl7uhUivvmoL72j07/hB/wDgoX/0dB8Gf/DD6t/81FH/AAg//BQv/o6D4M/%2BGH1b/wCaivMf%2BHtXhzWvk%2BHP7C37R/iUt9yfT/hc6Qf8CklmXaPfFH/DwT9r/WPn8H/8EoPiZOrf6s614hsNOJ%2Bocttqf7byx/DNy/wwqP8AKBr/AMQu43h/Hw8KX/X3EYWn%2BE8Vf70j07/hB/8AgoX/ANHQfBn/AMMPq3/zUUf8IP8A8FC/%2BjoPgz/4YfVv/morzH/hrr/gqPqhxo3/AASUjtUP3ZtU%2BOOkj80WPcKP%2BGgP%2BCvNx80P/BPnwLbg9Fn%2BK8LkfXalH9s4V7QqP/uFU/WKD/iG2eR/iYrBx9cfhP8A22pM9O/4Qf8A4KF/9HQfBn/ww%2Brf/NRVv9lb4jfGnxhrHxQ8CfHTX/C%2Brap4B%2BIUWh2eq%2BE/DVzpNvdWsug6Pqas9vcXt4yyLJqMqFhLtKxodqnOfJv%2BF0/8Firj/U/sUfC%2B3/6%2BPiOz/wDoKV0P/BOvVvjNrmt/HnVP2g/Cej6F4vl%2BM0H9r6VoF%2B1zaQY8I%2BGxF5crAFswiNj6MzDtXRhsfTxVRxjCa63lCUV976%2BR4%2Bd8KYvIsLGvVxOGqJvl5aOIpVpbN3cYaqOmsr2u0up9J0UUV3Hy4UUUUAFFFFABRRRQAUUUUAFFFFABRRRQAUUUUAFFFFABRRRQBy3xt8EWPxG%2BFGu%2BDdS1/XtLgu7El77wzr91pd9HsIkHlXVpJHNCSUClo3VipYZGa8h/Zt8R6N4y/wCCWHwz8c/tA/FrWNOsrz4H%2BH9V8ZeNJfFlxYXqp/ZVtPdXcuopIs8Tth2ecSLJ8zHcCc17d8Qfh18Pvi14Ovvh38VPAmjeJvD%2BqRrHqWheINLivbO7QMHCywzKySAMqsAwPKg9RXHaT%2Bxl%2Bx9oHw%2BufhJoX7KPw1svCl5ZNZ3nhm08C6fHp89s0wmaF7ZYRG0ZlVZChXBdQ2MjNAHK/wDBP7T/AIhR/CTW/Efim48Wp4b17xfc6j8NNK8e6td32t6d4deC3SBLya9d7kvLPHdXaR3DtNDFeRQybWiKL5p8VviV4jv/APgsb8B/Cer/AAp8QaDaQfDX4j2mn63qtzpz2uuKZfDUzParbXcs6KnkDcLmKBjvXaGw236Y%2BFHwT%2BDXwH8OzeD/AIHfCTwx4M0m4vWvLjS/Cmg2%2BnW0twyIjTNHboitIUjjUuRkhFGcAV8u/th6udL/AOCxv7GcBbC33hj4oW7H/tw0ZwPzQVzYyfs6PN5x/GUV%2Bp7nDuH%2Bt5n7L/p3Wf8A4DQrS/8AbT7JooorpPDCiiigAooooAKKKKACiiigAooooAKKKKAPM9S/Zk/Zt%2BNGj6D4p%2BMX7PfgfxZqdv4ftbWDUfEvhOzv544FUusSyTxswQM7sFBwC7HGSapf8MD/ALCv/Rlnwl/8Nzpn/wAYrk/i9/wUg/Yv/Y%2Bl8OfDT9ov4y/8I7rd94Us9TtbL/hHdRu99q%2B%2BJZN9rbyIMvDKNpYN8ucYIJ5D/h%2Bb/wAEsv8Ao6L/AMsnXP8A5CrxcRi%2BHadeUa86Smnrzezvfzur39TReIeIypfVI5xOkqenIsTUgo9bKKrxUd9lFb7anrf/AAwP%2Bwr/ANGWfCX/AMNzpn/xivTtA0DQvCmhWXhbwtotppumabaR2unadp9ssMFrBGoSOKONAFRFUBVVQAAAAMCvlb/h%2Bb/wSy/6Oi/8snXP/kKvp7wD468K/FDwJovxL8C6p9u0TxFpFtqej3vkPF9otbiJZYpNkiq6bkdTtZQwzggHiujA4jJ605LByptpa8nLe3nypaX7ilxdV4k/dTzGWJ5NbOvOry30vaVWpa%2B10lfa/Q8J%2BGH7C/ivwB488Ka1qfxn03UNB8D/ABQ8VeL/AA1pcPhCSC7C67/azz2lxcm9dJTFLqrFJUhi/dwhGQsxkHketf8ABGGXXvFPj3xJefHbw7FceMvAXj/wv/bVr8L0TW7mPxNIri41XUTfF9Uey2iOFAtunljbtTAYe7WH7fnwj1fTrGbSfCniOa%2ButF8W6ld6TL9gt5dLTw5erYajHdyT3aQQMLt0gRml8tiSxdY1d14Twb/wU%2B8D/Hab4caj8BILOWx134z6j4G8bwX99Y6lLp5t/Bur%2BIUNtc6VfXFnK7G0sDvSeZAk00bBJVPlekQddJ%2BwwH8Q6rr4%2BKGDqfx10n4jmIaJ/q/sWkafpv2DPn/Nv%2BweZ52Bt83b5bbdzd58a/gdqH7QH7POu/BLx/4xit7/AFqwaNPEGh6WYBZXSSia1uooJZZctDKkL7WdldoznAbA%2BePFv/BVaV/gh4U8a/CL4U6/4jvdUg%2BHsniPxTL4fgt9G0VvEl3pypBcwDUmuY7hrW981UgN1FA00HmzMpJb6Q%2BMPx48P/CT4BePPj7daNqVzY%2BAvD%2BsapfWVxp81pLcDToZZZVjE6KWVvJYJKoaNwQyMykEgHOfAj9nv4mfC7VPEfjfx18V9B8R%2BJ/HXiyLVfG1/aeDpbGzltIdMisLeysbZr6ZrQL9nglaSWW53M1wNqiVPJ4j9n79hb4m/ACOxuNN/aA0fV7vwN8MW8BfB19R8DSiLQdI82BwdRRNQD6rORZaejyRvZhltOFVpGat/wDZa%2BNnx%2B8Q/FTxN8Bv2lR4RufEWjeCvDviu11LwXpVzZWgtdVk1KA2TR3NzcO8tvPpc2Zw6LKk0ZEUZDLXDfCj9r/9oz4lfELRIro%2BCrDwx8UL3xlpPw42eH7yW90O80a5mitbjUW%2B2qmoRXMVtPO8US2jQkJCJJNxmUAZ/wAMB/tIH/gnNP8AsGP%2B1J4IN7PZyaT/AMJiPhJeCJdHeM5i%2Bxf25n7V5hLC48/y9uF%2Bz5%2Bc637RX/BM7wR%2B1Pp%2BneLfin8Rdd0/4hHUfCM/iXxP4G8T%2BIdD0/VIND1uHVFgXS7fV/LhLbbmOGZnlmtZLrz0dpI1rgrv9tr9rPwX4W8fav498cfCp9G0D4zaf4E0/wCJx8Dahp2jaPELNJdT1TULZ9XmMkEN5J/ZykXNuqzo5kcIM07xR%2B3Z%2B0j4y/YFvf2uPgH45%2BGw1jQta1rwymnap4B1DULPxhrkGtvoul/YGj1a2ezt765WAqH%2B1FVvEw7%2BWTIAep6p%2Bwyvib9re2/aq8R6p4BhvdBurq%2B8LS%2BH/hgllrLXsunT6dHJqupm8kfU44be6uVjhWO3XMiM24xoRb8K/svfHy28S/EH4ueNf2jNAl8f%2BL/ANv4X0PWfC3w%2Bl03TtGW2N9LbXklnNqVzJeTpPfOx3XEa7IwiCMs7tg/Er9sP4q%2BGP2tvhR%2Bzt4O0Xw9qek6l4r/4R34s%2BIpLWdRbanN4b1PV7az09RNiOULp6TzCYyeXBeWoAZpi8fDeB/24v2otV%2BFXxn1bXI9Cm%2BJXhLwd4u1nwB8I5Pgz4g0m%2Bvhpt1dQ2E6T3d6w1y3mC2QdrCNBvvI1DoXQEA9k8U/sV%2BFNU/ZV8Efsd%2BFfEr6T4P8ACc3huC%2Bgey8%2BTVtL0m4tpjYu29doufsqRyyHeWSSUbSX3Dnfj7%2Bwl4p%2BNHxZ13xZpvxus9L8M%2BM/%2BEZ/4TDQ73wkb3UP%2BJJfNeW/9m3/ANrjWwDs3zb4Lja26SLy3YtXFa/%2B2h%2B0FF%2BzrD4t%2BHXjfRPFvi2D4m2OheLG079nLxVHP4XsJrZZpDc%2BG/t76o8qqVlWTfGjRTxsEKje979pf9s34vfCv9kLRP2rfg/8UfBnjCzXRJp7qOy%2BEetz2viG8QEiL7TDqBTwxBujkiludR86K1YkzMvlMrAHp/iX9kCx8b%2BLPjP4r8W/ES/a4%2BLXg218JWlxpcH2W58OaNBZ3MYigl3vvm%2B1X9/deaFTBmiQqfJDtx3hT9hn4v6X4Q%2BJ0mt/tJaPD408f/DHTfA%2BleJfCPw9OlWmg2dhFqCWt2lk1/MZrtW1Kdi/nJHiKBEjRUbfY8X/ALZHj1/25PAv7PXw48O6Nc%2BCbzWL/Q/G3iG8jle4OsJotzqkdpZMkioPIighNw7rIrfbY40KvFLty/hx%2B0l%2B0z4j%2BNnxM/Z31fxX4XuNS8KeEodV07xR/wAKa13S4rW4a6nhaFdNutRabXodkJZbqwmSIuPLBLOoAB3Pxn/Zh8deJPgXp37Nn7P/AI98H%2BDPB0Xg2bwtqNhr/wAP5Nck/sxraO2ijtCL%2B2jgZIVYfvY7hGJQlMIVfL8c/sdeP/G8vgn4d3Hxm0aH4a%2BB9c8N6vYaO3guWXxDPc6LLbz22/V2vvLCSTW0fm7bMSPE8sW8CQmvEL3/AIKSftDj4R6RrEdlpFvfXXxX1fwrdeKIfgz4hv7lrWz0t71Jv%2BEPguxrNvNJIDC0ckhMUcYumXypo8UPE3/BWf4m%2BEPD/g74iePJfh14Ysb34c%2BDPE194VnWfUb/AMXtq9w0eox6HdwXSQlbBFEjERXed48w28ZWZgD6Gl/Zq/aG1341p8dfGX7Q3hSbVvD3hfWtH8AxaR8Np7SKz/tCW1kMupb9UlbURH9jgxHE1mjEuxAJjMfM%2BL/2Hfjn4y%2BDXxp8L6j%2B0f4Vi8a/G3T103Xdft/hpcLo%2Bn2I086efs%2BmjVvNNyYWYm4kvHywjBQpEsdSfA39qf4xeMf2rPF3wa%2BLvifQvDltb%2BIdXsfAnha%2B%2BE2t6fda7aWojKXlvrdzd/YdQIVneSG2hLqoydoUk637OvxT/ay%2BMPwn%2BJGga/4n%2BHdv8Q/CHxCvfDmm65Z%2BEr8aKY4Y7SUSy2Tai08jBJ3UhbmMMVU/ICRQB6T4Z8N%2BPPB37Po8K/E3xZpGu65p3h6e3vdW0LQZdMtLnbG4Rktpbq6eLCBAQZnywZhtBCryPjj/AJSF/C//ALIz48/9O3hCpf2ZPjN4o/aO/YC%2BHv7QvjewsLXWvHnwe0nxFq9rpUTpaw3V7pUVzKkKyO7rGHlYKGdmCgZZjyYvHH/KQv4X/wDZGfHn/p28IUAezUUUUAFFFFABRRRQAV4L%2Bx//AMm9av8A9l78c/8AqwNVr3qvBf2P/wDk3rV/%2By9%2BOf8A1YGq0AdZr/7E37GXivXb3xT4p/ZH%2BGOpanqV3JdajqOoeAdOmnup5GLySySPCWd2YlmZiSSSScmqn/DA/wCwr/0ZZ8Jf/Dc6Z/8AGK878f8A/BZT/gm58L/Het/DTx1%2B0d9h1vw7q9zpmsWX/CIaxL9nureVopY98doyPtdGG5WKnGQSOayP%2BH5v/BLL/o6L/wAsnXP/AJCrwZ43hhTalOje7vf2d79b6b3vc0/4ibiaH7pZ5OPLpb63VVraWt9YVrWtayta1lay9m0D9ib9jLwprtl4p8Lfsj/DHTdT027jutO1HT/AOnQz2s8bB45Y5EhDI6sAyspBBAIORWt%2B018E7L9pP9nTx3%2Bz3qGvy6TD438I6hob6rBAJXs/tVu8ImCEgOULhtpIDbcZGc1414B/4LKf8E3Pih470X4aeBf2jvt2t%2BItXttM0ey/4RDWIvtF1cSrFFHvktFRNzuo3MwUZySBzXuPx1%2BMPhz9n34PeI/jf4y0zUbrRvCulS6nrKaVCkk8VnEN08wV3QMscYeVhnO2NtoZsKfQwNbLa0JPByg0nryctr%2BfKlrbuTLiSpxJ%2B9njXieTS7qyq8t9bXlUqWvvZNX3t1PI/EX7E3xC8f6D8XZfHvx9tYvEnxb%2BHem%2BGb7WvCfhWbTYdNksxqIW5iikvp5GRxfgNEZgcRNiQeYNnDfBH/glNF8IvEUPiaH4k%2BELDb8XB45fQfAXwvj0DSIGHhG88OGztrVLyUwhvtQu2lZ5GZ0ZSPnDp6L8Z/8Agoh8Hfgtpfi7XNU8N6nqFj4K8W2fhvWNRHiDQdKtHv7jTYtRCQ3Gr6lZwybIJ4AwD798wVFfZIU5G1/4KO6T4p8fR3/gm4tLjwFrngz4Sa74R1WLQpJ7y6/4TDxBq2mlZke7hWOMRWdmVYAvA0kzslzhYK7iTq/gb%2BxR4h%2BAUfgS78I/Fyyub/wN8DdK%2BHVvLqHhd2hu/sckDG%2BaNLtWXesLAQhzsLg%2BY23a3WftG/ALxx8VPEHg/wCJnwf%2BJ%2BneEfGfgm9vH0rVNa8NPq9jPa3lq1vc209ql1au4P7mVWWZCslvHnehdG8w8G/8FGj8TP2ivB/gjwh8H/E1l4B8R%2BCvFmv2nizVNCWdvEMOk3GnQxz6XHZXM05jf7VK3lT26TzBoGhQgnPpP7Unxo%2BIHw90bwL4W%2BDiaRD4o%2BJPje38O6FqHifS57iy03NleahPcz2sc1vLNttbC4CxCWImRkBZRmgCn4d/ZY1jwF%2By7a/sreDPFPhfUND0zwPYaFY/8J34JbWI7yePcLu51CBbyCO7juE25gQQ7HMjb3V1RPO7P/gmvF4b/Z5f4L%2BEb34SPeat4ym8SeI5/E3wPh1HRku3gS3iOmaSL%2BKPTjbwQ20UBeS42pB84lZ2c9DpX7XXxTf9gnxr%2B0e/w7stY8ceBf8AhK9MvtE0eG4FnqGp6HqV9pss0MYMk628slkZxEDJKsb7Mu4yeT%2BCP7ZnxH%2BPXg/4maP4K/aa%2BEF1f/DDULK71D4paX4Gvb7wzqOjz6ebpmjtk1lWSWGRJ43kW9mjHkHKh2aOIA9I8K/sUeE/BV78DdE8P%2BK7j/hE/gToFza%2BH9AvLUSzXuoHT49NtdRluNwG%2BKzk1FCvlnzHvy%2B5PL2vW8ZfskeOfjF8b9J8ffHL4o%2BHNU8K%2BF5tbfwz4Z8P%2BB5dOvdmpWc1jJFfX738/wBqjFvcSZWKC2DyiKRuY1WvBZ/%2BCk3x90X4X/CTTfij4i8FeB/GXjP4W3fxA8Y65dfCvXdZsNH0zz4RbRNpljfGe0CxXKtdXc935Fs0BDbvOTZ7J8Wf2mPjF8Mv2tfhz8NtO1vQNb8JfETVorW1sIvh5qlu1pbNYXMzXX/CRtdtpk03m2pZLAQrcSRSAqCFMjAFr9kH9iTXP2aPEkHiHxT8VtN8Rf2J8OdI8CeFYNG8IDR1t9F06SZ4Dd4uZxd3Z83BlQQRLhvLgj8x8%2B2%2BD/8AkEzf9hW%2B/wDSuWtSsvwf/wAgmb/sK33/AKVy0AalFFFABRRWd4p8XeFPA2iTeJvG3ifTtH022XNxqGq3sdvBEPVpJCFX8TSbUVduyLp06laooU4uUnokk22%2BySTbfkk35GjRXy541/4K/wD7Hml%2BIJfBXweu/FPxb1%2BH7%2Bj/AAo8MTau/oCJV2wsCe6yNWWP2sf%2BCmvxaOPgd/wTqs/CdlJ/qNb%2BLPjWKA8/37G2BnTHf5j6V5cs6y7mcacnUfaEZT/GK5f/ACY%2B7peGXGSpRq42hHCQaupYqrSw113Uas1Va7Wou/S59b1DqOo6fpFlLqWrX8NrbQrumuLiUIka%2BrMSAB9a%2BTT%2Bzv8A8FZvi38vxa/bq8GfD6zl/wCPnTfhV4GNy7L/AHUutQYSxH/aAJ4qbTv%2BCN/7LviC%2Bj1z9o7xp8RvjBqUbbxc/ETxzdXEaP8A7EUDRKF9FO4Acc0vr2Y1v4OGa86kow/Bc8vyL/1X4Oy7XM88hN/yYSjVxD/8GVPq1Fet5L8juvip/wAFPP2APgy0kPjj9qzwkZ4siW00W%2BOpzo390x2YlZT7EA1wC/8ABWvw343O39nX9jP45fEON/8AU6rpngVrTTn9M3Fw6lc%2B6V7v8Kv2Uf2ZPgcsf/CofgB4P8OSR4xdaV4et4p2I7tKE3sfcsTXoFHsM6q/HWhD/BByf3zl/wC2h/afhnl%2BmHy3EYp96%2BJjSi/%2B4eFpN/J1vXufJP8Aw0z/AMFW/iH8vw6/4Jz%2BHPCED/6nUfiB8TYJ8j1a3s1EifQnNKPhf/wWc8d/vvE/7Ufwb8B7/wDll4N8FXOqeWPrfsMn9K%2BtaKP7KlP%2BLiKsv%2B3lFfdCK/MX%2BvtDDaZfk%2BCo%2Bboyry/8CxNap/6R8kfJQ/YE/bT8Vf8AJVv%2BCsnxBuw3%2BsXwh4S07Qv%2B%2BTDvxSj/AIJBfCjWvm%2BJ37Vvx%2B8ZM3%2BtHiL4pTsje22KNMD2r60oo/sPLH8cHL/FKcvzn%2Bgf8RR44p/7tiY0P%2BvNDDUfudPDJr5SR8saF/wRZ/4Jt6NeDVL79nk6zefxXWveJ9SvGf6rJcFD/wB816X4T/YF/Yg8Dqn/AAjH7I3w5t3T7tw3g6zllH/bR42f9a9corallOV0P4dCC/7cj/kzzcf4gceZorYvNcTUXZ161vuVSKt5Wt5GNofw6%2BH3hiNYvDXgXRtORPuLY6ZFCF%2BgRRitmiiu6MYxVoqx8rVrVq8%2BarJyfdtt/e23%2BIUUUVRmFFFFABXjP7L/APyW/wDaO/7LNY/%2BoV4Xr2avGf2X/wDkt/7R3/ZZrH/1CvC9AHs1FFFABRRRQAUUUUAFFFFABRRRQAUUUUAFFFFABRRRQAUUUUAFFFFABRRRQAV8J/8ABRnU/wCxP%2BCs/wCxBqm7Gbnxza5/67xaLFj/AMer7sr88v8AgrtqR0X/AIKR/sOaoGwP%2BE51e2Legmv/AA9F/wCzV5uby5MvnLs4/wDpdM%2B18O6H1rjDD0f54119%2BFxf%2BR%2BhtFFFekfFBRRRQAUUUUAFFFFABRRRQAUUUUAFFFFAGV4G/wCRJ0f/ALBdv/6LWtWsoeDNDTKwNfQpkkRW%2BrXMaL7KqyBVHsABS/8ACH6T/wA/eq/%2BDy7/APjtAGpRWX/wh%2Bk/8/eq/wDg8u//AI7R/wAIfpP/AD96r/4PLv8A%2BO0AeH%2BIP%2BCaf7PniXxH8ZvEuoav4mEvxt062s9ct01GHydEESktJpqGEiBppyLmYS%2BaksyqWUr8hf4K/wCCd3w58LeLo/iF4g%2BMXj7xT4gPxOk8d3mseIL3T/Mu9TbwrP4X8tktbKGJLcWE5ZY4kjxMiNnZujb23/hD9J/5%2B9V/8Hl3/wDHaP8AhD9J/wCfvVf/AAeXf/x2gD5y/wCHUnwYs/C%2BgeAfDnxn%2BJGkeHdIsfCEOqaDp2p6eIPEE3hprU6Zd3jPYtKJttlbJL9neCOVIlDJ8q4%2BgdY%2BHWkeLfA%2Bu/Dr4hX1z4j0nxFDfW2pWuqRwqGsroOr2Y8iOMGJY3MalsyFQN7u2WNz/hD9J/5%2B9V/8Hl3/APHaP%2BEP0n/n71X/AMHl3/8AHaAPM/gd%2Bx7pfwLk1LWdO%2BOfjvxBr%2BqQ6LY3XijxNPps98dI0qSV7TSR5dlHF9mH2i7DOYzcsbyZzP5hWRYfhb%2BxD8OPhR8Yf%2BFs6T458VahBZXWt3Xhfwjql1atpXhyfV7sXepS2ax26TlpptxHnzTCFZZI4RFG5SvUv%2BEP0n/n71X/AMHl3/8AHaP%2BEP0n/n71X/weXf8A8doA4Hwh%2By7Z/DP9n62%2BAnwm%2BM3jHww8F/c38njLTxplxq9zeXV7Le3lxL9ssprV5LieeZ5CbfGZWKhDgipp37Fvwo07wN4D%2BHg1fXp9O8C%2BOW8YYub2N31/WXe7uHutRYxfvWa%2BvHvyI/KAuYomGEUxn0n/AIQ/Sf8An71X/wAHl3/8do/4Q/Sf%2BfvVf/B5d/8Ax2gDyj4pf8E7v2Nvi98b/Cv7R/iv9n3wivjfwp4wi8SR%2BJrbwppwvtUvIrC4s4VvLh7dpp44hOkyDerJNaWrhh5QBn0z9j%2B4g%2BIN78WfEX7TXxG13xOPDGo6B4W1nUxoqv4WtL6a2nuPsUVvpsUMkjPZ2Z8y8S5bFso5DSB/UP8AhD9J/wCfvVf/AAeXf/x2j/hD9J/5%2B9V/8Hl3/wDHaAPKvDv7HOoeEtH8QXHhz9qr4lWvi7xXrttqXiL4h%2BVoMmqXq29qLWG08mTSmsIrdIwMLHao24FyxZmLZWvf8E/PCuq/BOD9nPR/2gviRovgu50vUbHxbo2mXmls3ikahcTXGoS3lxPYSXEUtxJc3Jd7OS2I89tmzam32r/hD9J/5%2B9V/wDB5d//AB2j/hD9J/5%2B9V/8Hl3/APHaAPI/EX/BOL9izxB8d/CX7SkP7O3g/TfGXhDXpdYttc0vwnp0VzqF29pJbK93ObczTGPzBKjb1ZZYo33Hbgu0H9i%2B/wBK17U/H2r/ALWPxP1nxjdeHV0PRvGepjQReaDY/aY7mSO1hg0qO0cyyRReY9xBO7CNRkAV61/wh%2Bk/8/eq/wDg8u//AI7R/wAIfpP/AD96r/4PLv8A%2BO0AeHr/AME8PCFpJD4u0T9oP4j6f4%2BHiu98QX3xOtp9JfVr%2B6utPttNmSaGXT30/wAo2dlZQiNLRQgs4mXa4Zm0m/YM8Ap4N8F/CGz%2BK/ja3%2BHngzT9Mth8PEurB9P1p7C4FxDPfTyWbX0rtKsbSqlzHFN5YWSNlaRX9e/4Q/Sf%2BfvVf/B5d/8Ax2j/AIQ/Sf8An71X/wAHl3/8doA8/i/Zag1D46aZ8cvHvxv8a%2BKW8OajfX/g/wAL6wdMj0zQLm6gltnkgFpZQ3EzLbzzwIbmafakz4%2BY7hg/Bn9i3xF8E/D/AI90rQv2zfipqV94/wBYOr3OuatY%2BGDdaVqDqiy3NosOixwbpEjjRknimjAQFERizH17/hD9J/5%2B9V/8Hl3/APHaP%2BEP0n/n71X/AMHl3/8AHaAPOvgT%2BzrYfsmfsk2H7OehfE/xN4r0fwd4SGkaBqHi0WH2yDT7a0WC3ti1jaW0brHHGqh2jMjcl3Y81S8cf8pC/hf/ANkZ8ef%2BnbwhXqJ8GaG%2BFna%2BmTIJiuNWuZEb2ZWkKsPYgivLvHH/ACkL%2BF//AGRnx5/6dvCFAHs1FFFABXn/AO0v8cbn4A/DWLxZovhFfEGtar4h0vQfDehyaj9jjvdR1C9itIFln8uQwQq0vmSyCORlijcqkjBUb0CvPv2l/gddfH74axeE9F8Xr4f1rSvEOl694b1yTTvtkdnqOn3sV3A0tv5kZnhZovKljEkbNFI4V42KuoB59c/t0XWhfsveKfjd4t%2BFMdp4n8HeMT4R1vwlb%2BIhJaR6w%2BpQWEGNQeBMWUhurW4Ny0CtHBKWeIMjR1w3xC/4Kkn4ZeDL0%2BNfA3gPQ/E2gfFWTwJ4xuvEfxUNj4R0K9XRY9Zjln1xtOLKkttPbRIHtEY3UxgIUpuPpPw//ZW%2BI3gj4R%2BMfAOqfEzwf4h1Tx1dalqviK%2B174dyT6fd6rezMZDJYnUcPYLbCG2W0MvmbIdz3LsxNcB4L/4Joa18JdE0XxB8GPin4P8ADnjXTfH974qvJLb4X7PC001zo6aP9ng0W3v4WtY4rKG3WJluy4ZJWdpPPkBAPoD9nn4tSfHr4EeD/jZL4OvvDzeLPDdnqx0TUjmey8%2BFZPKY4GcbuDhSRglVzgea/sf/APJvWr/9l68c/wDqwNVrr/g1%2By18O/hj%2By1oH7KHiyws/GXh7SdAj0vUIPEOkwy22pKPmffasGiWIvkrDgqihVGQorkf%2BCe/gnwf4d/Zj1HwB4b8L2GmaHp/xa%2BIVpp2kabapb21pBH401pY4oo4wFiRAqhQoAXaMYxQB71RWV/wh%2Bk/8/eqf%2BDy7/8AjtL/AMIfpP8Az96r/wCDy7/%2BO0AalVNe0LR/FGh3vhnxFpsV5p%2Bo2klrfWdwm6OeGRSjxsO6spII9DVb/hD9J/5%2B9V/8Hl3/APHaP%2BEP0n/n71X/AMHl3/8AHaAPn7wT/wAEwfhR8NPhH4D%2BGHw8%2BNXxH0rUPh9rep6ppfjldT0%2B51u8lv0miuhdSXNlJBJuim8pXWFJY0hiEbptJNjwN/wTE%2BAfw/8ADXh7wroni3xhJbeGvDXw80Owa71K2eR7bwbqt3qmltI32cbpJZ7yVbhuA6KgjELAu3vP/CH6T/z96r/4PLv/AOO0f8IfpP8Az96r/wCDy7/%2BO0AeIfDb/gnd4F%2BFPxE0v4geEvjr8RFXwv4b13QvAehXF5pslh4Ws9VmtppktENjvlMT2kHkm6e42Kmw7k%2BWvSPjn8A9E%2BO/g3S/Dmr%2BNNd0TVNA1q11jw94s0B7VdR0zUIAyrcxCeCW3YtHJNE6SQvG8c0ilMHjp/8AhD9J/wCfvVf/AAeXf/x2j/hD9J/5%2B9V/8Hl3/wDHaAOL%2BG37Nth8IvhhD8K/h78VfFVhapp2rrcaiTYTXl1qmpXTXlxrUjy2jKb37TLcTABRbF7mTdA4EYTmbn9hXwBrvwV%2BIPwd8d/E/wAZeI5viq23x/4u1S5sY9U1a38iK2Nofs1pFbQW5tYvs/lwwRjZLKwxLI8p9a/4Q/Sf%2BfvVf/B5d/8Ax2j/AIQ/Sf8An71X/wAHl3/8doA82/aL/Y68G/tE31tq8vxF8VeDr6PwzqHhvUL7wbNZRSajot6YTc6fL9qtZwsbNBGVliEc8RDeXKm990epfscaBrfj7w74g1v4x%2BNLrwt4R1Sy1Hwx8NGfTY9E0%2B6tLcQ20ivHZLfSiM/vVjlu3j8zDFSFVV9N/wCEP0n/AJ%2B9V/8AB5d//HaP%2BEP0n/n71X/weXf/AMdoA1KyvB//ACCZv%2Bwpff8ApXLXz7%2B0D/wUE/ZC%2BA3iP/hWtn4u8R%2BO/HMjmK18BfDu%2BvNW1OSUf8s2SKXZCw4ysjK2DkKa43T9H/4Km/tX2sdmkui/s0eBZB8lvb7Na8VXMR5%2BZziC1LDnIxKjE53V5dXNsNGo6VBOrNbqGtv8UtIx%2Bcr%2BR91gPD7O6uDhjszlDA4aSvGpiW4c670qSUq9bydOlyv/AJ%2BLc%2BlPjX%2B0d8Bv2cfD/wDwk/x0%2BLeheFrNgTC2r6gkclxjqIo875m/2UVj7V87t/wU7%2BIPx2c6d%2BwH%2Bxp4z%2BI0Mh2xeNPEaDw/4fx/z0Se6AefHUoFRsYx1rsvgn/wS0/ZG%2BEHiH/hYfiLwlffETxnIQ9140%2BJl%2B2s38sg6OPOHlRsDnDIisM9TX0UiJGgjjQKqjCqBgAelR7POMV8c1Rj2j78vnKS5V/27F%2Bp1PG%2BHOQ6YXDVMxqr7ddvD0L%2BVClJ1pr/AK%2B16d%2BsVsfIqfsvf8FM/wBoBhfftHftv2Pw406Tk%2BFPgno/lSKD0zqV1mZWA4IUMpPI6CtLwz/wRw/YrttZh8U/FnSvFnxQ1mBtyar8S/GF3qbs3ctGGSF89wyEV9U0VUcly5vmqxdR95tz/BvlXyijKp4ncZQg6WX144Km1bkwtOnh1btzU4%2B1l581eTfUx/A/w%2B8BfDLQIvCvw38E6R4f0uH/AFOnaJpsVrAn0jiVVH5VsUVkeKfiB4C8DQfafG3jfSNHjxnzNV1KK3XHrmRhXpfu6UOiS9El%2BSPg8RiJ1ZyrV5tyerlJttvu5Sbbfm235mvRXjXiT/gol%2Bwd4TuTZ65%2B2F8OEmBw0UHi%2B0nZT6MI3bafrXO6v/wVj/4Jx6Jatd3v7XfhJ0TqLO5kuG/BYkZj%2BArknmeWw%2BKvBf8Ab8f/AJI8qec5RTvz4mmrf34f/JH0PRXyW/8AwWv/AGD9SkZPh/4i8Y%2BLgpwZPDXw%2B1OZc%2BmZIUzTW/4K2eH9dH2b4YfsM/tE%2BJrl/wDVC1%2BGbwQfV5ZZQEX3waw/tzKH8NaL9Ly/9JjI5v8AWTIX8OIjL/DeX/pMZH1tRXySv7Z//BSnxEft/gf/AIJJagLA/wCrk8RfF/StPuH%2BsDIWT8TS/wDDVn/BVyX5U/4JQabEf70nx10ph%2BkVH9s4R7RqP/uFU/8AkQ/t/AvaFV%2BlGr/8gj61or5K/wCGmf8AgrSP3n/DsXw2R/zzHxosd35%2BXig/tK/8FbtW/wBC07/gmf4X0mX/AJ/dV%2BMtlcQ/98Qxh6P7Yw38lT/wVU/yD%2B38J/z7q/8Agmr/APIn1rRXyUPF3/Bbi7/0yD4Rfs62kbdLO617V5Jl%2BroNh/CkOq/8Fv8AxAfsNt4V/Zt8PL/y0vrq%2B1q7bH%2BwicZ/3uKP7Wj0oVf/AAW//kg/tyPTDV//AAU/1mvxsfW1FfJQ%2BBX/AAWF1YfadR/bv%2BHOku/3rbSvhgtxHH7K0zhj%2BNH/AAzR/wAFa2%2BZv%2BCmvhlT/dX4MWJA/OSj%2B0sR0wtT/wAkX/uQP7XxT2wVb7qa/OqfWtFfJR%2BBP/BYTw9/pGjft4/DrxE/X7Pr/wAL1tI/putXLYoF5/wXF0H5J9G/Zl16NfuvbXGu2szj3D/ID9KP7UnH48NVX/bql/6TNh/bNSP8TCVl6QjL/wBJqM%2BtaK%2BST%2B0X/wAFcPBJ8zxf/wAE8PBvi%2BEf6x/BfxTgs2UdyEvUJY%2Bw60o/4KNftMWQ8rXP%2BCVPxjjmXiVbCSzukB/2XVwGHvR/bODXxqcfWnUX5RkvxD/WDL4/xI1IP%2B9Sqr8oSX4n1rXjP7L/APyW/wDaO/7LNY/%2BoV4XrzD/AIeM/tMal8nhn/glT8YpX9NVls7Jc/V3P510X/BOvx34%2B%2BJmt/Hnxv8AE/4R3ngTXL74zQfbfCt/qUV3NYhPCPhuOPdLF8jb41STjoJAp5Brow2YYXFzcKTbe%2BsZpffKMV8tzqwma4LHVHCi5NpX1hOK%2B%2BUIr5XufSdFFFdp6IUUUUAFFFFABRRRQAUUUUAFFFFABRRRQAUUUUAFFFFABRRRQBy3xt8EWPxG%2BFGu%2BDdS1/XtLgu7El77wzr91pd9HsIkHlXVpJHNCSUClo3VipYZGa%2BZn%2BL3xP03/gij8P8A4rp8RdWh8Q6t8I/Bf9veM5r5pL%2B1ivo9Oh1HVGuJCW86OCe4uDMxJDJvJ4Jr6p%2BIPw6%2BH3xa8HX3w7%2BKngTRvE3h/VI1j1LQvEGlxXtndoGDhZYZlZJAGVWAYHlQeornvAX7Lv7M3wr8Ly%2BB/hh%2Bzr4E8N6LPps2nz6PoPhGys7WS0mYtNbtFFEqGJ2JLIRtYkkg0AeffsUXGraH41%2BNXwbg8Y69r3hvwJ8TLfTfC154l8Q3WrXltDN4f0i/ns3vbySW4uRHc3c7BpZHZBMIs4jVR8f/APBY/wAaeJNS/bX/AGeLrV/hH4h0Kz8Fa/e3un%2BINVudOe01gf274WQyWq213LOgTcM/aIoD842hvmx%2Bjvw1%2BFfww%2BDHhC3%2BH3we%2BHGg%2BE9AtHdrTQ/DWjwWFnCzsXcpDAqopZiWJA5JJPNfAf8AwXq/0HUvA3izp/YPgbXNQ3f3dvirwQmf/IleTnv/ACJq77Rb%2B5xf6H6B4U6%2BJOVQ/nrRh/4MjVp/%2B5D9GqKKK9Y/PwooooAKKKKACiiigAooooAKKKKACiiigAooooAKKKKACiiigAooooAKKKKACiiigAooooAKKKKACiiigAooooAKKKKACvGfHH/KQv4X/wDZGfHn/p28IV7NXjPjj/lIX8L/APsjPjz/ANO3hCgD2aiiigAooooAKKKKACvGf2D/APkiGuf9lm%2BI/wD6mut17NXjP7B//JENc/7LN8R//U11ugD2aiiigAooooAKKKKACiiigAorL8aeNfCHw58LX3jjx94nsNG0fTLcz6hqmp3SwwW8Y6s7uQFFfHGt/tI/tL/8FFLi60L9j/V7v4W/Bi0d11744axbGC%2B1eJCRImkQybTGnBBunwV5IKMmxuHGZhRwbULOU5bRXxPz7KK6yk1Fd29D6nh3hLMOIKdTFOcaGEpW9riKrcaVO%2BqjdJyqVJJe5RpqdSXaMbzj7X%2B1J/wUE/Z7/ZXv4PBOv6re%2BJfHOo4TRfh34PtTf6zfSMMoPIT/AFSnqGkKggHbuIxXkUX7Pn7dX7e8g1j9r3xxc/B34bzndB8J/AeqZ1bUIjyF1PUVHygjhoYhgg4Koy5rj/hN%2B0B/wTY/Ym127%2BGf7F3w%2B8R/Gr4mXpP9u6j4IsG17Vb52b5pbzU2xEqFgSwjfYpBJQda9EP7Q/8AwVs%2BK%2BU%2BFf7CHgv4fW8nFvqnxQ8fC7JB/ia209RJHj%2B6STXgSxdPHSaxM3Nf8%2B6KlKPpOcUuZ91zRj3TNp%2BJHBvCsnR4RpSr4iOjxc6Xtaif/TiklOhh/Kc51q60fNSe3vH7P37Kn7O37LHhv/hFvgD8I9G8NW7IFuJrK2zc3WOhmuHLSzH3dmrr/FXjHwj4F0eTxD428U6bo9hEMy32q30dvCn1eQhR%2BdfK/wDwxf8A8FDvjCfN/aL/AOCk%2Bo6BZy/63w/8HvDMOleV67L%2BTdOf%2BBLxjNaXhb/gjZ%2Bw1p%2Brx%2BKPiZ4S8RfEnWozn%2B2PiP4su9Tlf13IXWFs98xmvTpVscqap4XCqEVtzyjFL/t2Ck/xR8Bj8/4ozzFzxValKdSbvKpiKt5N93Z1Zv5yXbQufED/AIK//sH%2BDdaPhPwp8Vrnx7rpz5OifDjRp9Zmmx/ckgUwnnH/AC071hr%2B3l%2B298UiD%2Bzr/wAEufGa2cnKar8UfEVp4dMa9mNq%2B%2BRvorZr6Z%2BH3wq%2BGHwl0YeHfhX8OdC8NaeAMWWgaTDZxcdPkiVRW/Wn1XNa38XEKPlTgl/5NPmf4I4/qWdV/wCNilBdqcEv/JqjnL/yVHyQ0X/BbL4ijyXuvgF8ObOXgzQpqWrahB7gNi3bHvSL/wAE4v2lPiI3239on/gqV8YNQuDyYfhw1r4Wt1P93ZAkm9R05wT1r64op/2Php/xpzqf4pyt90XBD/sDCVP94qVKv%2BKpO33QdNfmfJR/4I6fAXU/k8c/tCfHPxPGf9bDr/xTupFk9m8tU/pWt4W/4Iz/APBNXwpP9sh/ZisNQuC26S41zWb%2B/aRvVhPO6/pivp%2BinHJMoi7%2Bwi35rm/9Kcio8O5DGXN9Wg35x5v/AEpyPLvDX7EP7Gfg%2B2%2By%2BGf2T/hxZLj5mh8FWIZv95vK3N%2BJNdHpP7P3wG0C5W90L4JeEbKZPuS2nhq1jZfoVjBFddRXbDC4Wn8NOK9IxX/tp6EMFgqSXJSirdoxX5RQkcccMaxRRqqqMKqjAA9BS0UVudIUUUUAFFFFABRRRQAUUUUAFFFFABRRRQAV4z%2By/wD8lv8A2jv%2ByzWP/qFeF69mrxn9l/8A5Lf%2B0d/2Wax/9QrwvQB7NRRRQAUUUUAFFFFABRRRQAUUUUAFFFFABRRRQAUUUUAFFFFABRRRQAUUUUAFfnx/wXY0f%2B3PCc1ltzs%2BA/i64x/1y8UeBZf/AGSv0Hr4i/4K7aP/AG4dRstm7Z%2By78S7jH/XLUvCEuf/AByvOzeHtMpxEe8J/wDpMj7Lw6xP1TxByev/AC4rDv8A8rUv8z7J8E6x/wAJD4M0jX9277dpdvcZ9d8at/WtSuC/ZW1f/hIf2YPhvr%2B/d9u8BaPcbvXfZQtn9a72uyhP2lCE%2B6T%2B9J/qfN5phvqeaYjD/wAlSpH/AMBnOP8A7aFFFFanCFFFFABRRRQAUUUUAFFFFABRRRQAUUUUAFFFFABRRRQAUUUUAFFFFABRRRQAUUUUAFFFFABRRRQAUUUUAFFFFABXjPjj/lIX8L/%2ByM%2BPP/Tt4Qr2avGfHH/KQv4X/wDZGfHn/p28IUAezUUUUAFeYftbfGTxl8GPhhYX3w1s9Ml8S%2BJPGGi%2BGtAk1uCSWytbjUL%2BG2N1PHFJG8scMckk3lLJGZTEIw8e/evp9cb8ePgl4a/aB%2BHUvw78Taxqel7dSsdT0vWtEmjjvdL1Cyuoru0u4Gljkj3xzwxttkR43AKOjozKQDxO/wD2x/jP4Z/ZD%2BInxI13w94evfHPw38bzeFtbvrDTbpNGAW%2Btov7Za286SdLWGyu476eATMyCGaMTHAlrzCP/gq3ruoeEx4K8K%2BPPBfiHxO/xln8DWfxB8KeBdW1jRdRgi8Ow%2BIG1Cy0ewupry9PlXCWnkw3TAyJLP5vlIVr6X%2BHP7LA%2BFPw91bwN4L%2BPXjiC61yS8vdS8TSrpMuoTatdXT3E%2BqkvYGHzyXEYi8r7KkUUaJAoWsE/sGeCIvC9pHp/wAYPG9r40tPG83i5vilHJpj65cavNYNpss8iyWLWLK2nsLQQ/ZBEkUUWxFaNHUA7b4f/HHwHdfs66P8evG3xm8J3GhS6BDf6l43t/8AiVaRIpUb7gLdTSG0jLZ/dyys0Z%2BRmLA1xP8AwTp8T%2BGvGv7N194w8G%2BIbHV9I1T4t/EO70zVNMu0uLa7gk8Z600csUqErIjKQwZSQQQQa9K%2BCPwe8I/AH4VaL8IPArXj6bolsY4rjUbjzrm5kd2klnmfADSySu8jkAAs5wFGAOD/AGD/APkiGuf9lm%2BI/wD6mut0AezUUUUAFFFFABRRR060AFeEfth/t6fDr9lVrDwFpGhXfjX4leIFI8L/AA70GQG8u%2BD%2B%2BnbBFrbLhi0zjGFYgNtbHk37RP8AwUg%2BIPxZ%2BJF3%2ByJ/wTD8NWvjjx6oEXiLx7KQ3h/wijEgyyTYKTyqAxCjcm4BQJnDQ1x3wY/4IL%2BB5PEWpfEv9sn9ovxd8SvEXiF/N8R29nfSadZX5JUmOd0Y3FwgKrtHmRqABhBwB85jMzxuLboZVDnadpVG0oR7pN35pLyTUet3odeS5xw/h8TKtisNPGcnw04SVKlKfarXd5Rgn8caEKlWWsFOm25R8S8QfEPx9%2B2J8W47X4oaPL%2B0Z45064E2m/B74f3ht/h74Oc52yarqJPl38y98M6Eh4/MYEKPqPw7/wAE1/i3%2B0WLLWf%2BCjfxx/t7SrQRnTvg58PDJpXhbTlTGyKTYVmu9mBtLFSuMAsvFfVPwt%2BEnwx%2BCPg21%2BHnwi8B6V4c0SzGLfTdIs1hiB7sQo%2BZzjJdssx5JJroqMHw9TinLFy9pKWrWvK/8V/enbpzNRXSmkZcQZnnvGc6bz2spUad1Sw1GPssJRT6QoxfvN6c06spzm1ebk9ud%2BGHwi%2BFnwU8LxeCfhD8O9G8M6TD9zT9E06O2iJxjcQgG5j3Y5J7k10VFFfQwhCnFRirJdFovuRzQpwpQUIJJLZJJJeiVkFFFFUWFFFFABRRRQAUUUUAFFFFABRRRQAUUUUAFFFFABRRRQAUUUUAFFFFABRRRQAV4z%2By/wD8lv8A2jv%2ByzWP/qFeF69mrxn9l/8A5Lf%2B0d/2Wax/9QrwvQB7NRRRQAUUUUAFFFFABRRRQAUUUUAFFFFABRRRQAUUUUAFFFFABRRRQB5F%2B318QvGnwo/Yo%2BKfxI%2BHmsyaZrOi%2BBtRurLV4Ywz6aVgbdeKGBUmBd0w3ArmPkEZFeReDvGV98CPDX7UXgzQvjP4sufCfw18NwatoXifXNYuvE%2Bo6Fcy6A13dRJNezSTXflhILxIJJG5vdqlY2jVfrW9srPUrOXTtRtIri3uImjngmjDpIjDDKyngggkEHgg1yPgD9nL9nr4UaRZ6B8LfgR4M8NWGntdNYWWgeF7SzhtjchRcGNIY1VDKEQSYA3hF3ZwKAPmv/gmBqXxr0L4l%2BOvhV8b9evzf2/w/wDBfiC10ZvihqHjK0jW%2BXVY5L9NS1ELPDNcyWbB7FFNtCtrFJDJL9okK0f25td8SfEH42%2BJvAGrfCHxDolpa/spfFW207XtVudOe01rzJvDIL2q213LOgQgZ%2B0RQH512hucfVXwn%2BBHwP8AgLpV3oXwM%2BDXhTwXY39z9pvrPwn4dttOiuJtoXzJEt0QO%2B0AbiCcACvIP2ndH/4SH9qzwzoGzd9u/Z1%2BJVvt9d994TXH61hioe0wtSHeMl98Wv1PUyPEfU88wmI/kq0pf%2BA1acv/AG06T/gnTrH9ufsEfBq%2B3bivw00WAn3is4oj/wCgV7NXzf8A8Eh9Y/tz/gm18Jb3fu2eHHt8/wDXK5mix/45X0hXPlU/aZXQl3hD/wBJiexx7h/qnHWa0P5cViF/5Xq/5hRRRXefJhRRRQAUUUUAFFFFABRRRQAUUUUAFFFFABRRRQAUUUUAFFFFABRRRQAUUUUAFFFFABRRRQAUUUUAFFFFABRRRQAV4z44/wCUhfwv/wCyM%2BPP/Tt4Qr2avGfHH/KQv4X/APZGfHn/AKdvCFAHs1FFFABRRRQAUUUUAFeM/sH/APJENc/7LN8R/wD1Ndbr2avGf2D/APkiGuf9lm%2BI/wD6mut0AezUUUUAFFFeLftm/tq%2BB/2RPClhAdFufFHjnxNP9j8CeAdH%2Ba%2B1u8PAAUAmOFSRvlIwo4AZiFOOIxFHC0XVqytFdf63b2SV23okc%2BKxWHwWHlWry5Yx3f6d229Ekm22kk2zX/a0/a%2B%2BDv7G3w1PxC%2BK2pzST3c32bw/4e02PzdQ1u8OAttbQ5y7EkZPCrkEkZGfz18K/E3/AIKE/wDBa/4i6h4E0rWm%2BFHwM067a28VXHhq682S9X%2BKy%2B2AD7ZOykhlj226KwLq52q/P/C39mz45/8ABTz9pvVdY%2BKnxC/tSLTZTZ/Evx5oz503RITy3hbw8eVZirFbm8G7IZgGZGZrz9YPhp8NPAXwd8CaX8Mvhh4Vs9F0HRrVbfTdMsYtscKD9WYklmY5ZmJYkkk18nSWP4mrOc26eFTtyp2lUtum1ry90nb7N2%2BZr6uvw5h8kyyNbiGm3jK0VKng23GNCnJXjVxnK1KVeompU8HzRhSg4zxPPOUaCwf2dv2bPgv%2Byn8MrP4R/ArwPa6Ho1qd8iwjdNdzEANPPKfmmlbAy7EnACjCqoHdUUV9fSpU6NNU6cUorRJaJLyR82kkkkrJdFZJeSSSSS6JJJdEFFFFWMKKKKACiiigAooooAKKKKACiiigAooooAKKKKACiiigAooooAKKKKACiiigAooooAKKKKACvGf2X/8Akt/7R3/ZZrH/ANQrwvXs1eM/sv8A/Jb/ANo7/ss1j/6hXhegD2aiiigAooooAKKKKACiiigAooooAKKKKACiiigAooooAKKKKACiiigAooooAK8W%2BIEEV1/wUD%2BGVtOm5JPgt49V1PcHVfCAIr2mvGfHH/KQv4X/APZGfHn/AKdvCFA02ndHmn/BEOeVf%2BCa3gPRLliZtJvtbspSfVNXvCB%2BTCvrGvkv/gjX/oP7MXijwn0/sH4veJ9P2/3dt6Xx/wCRK%2BtK8rIv%2BRNh12gl911%2Bh994rJf8RLzia%2B3iKk//AAY41P8A3IFFFFeqfABRRRQAUUUUAFFFFABRRRQAUUUUAFFFFABRRRQAUUUUAFFFFABRRRQAUUUUAFFFFABRRRQAUUUUAFFFFABRRRQAV4z44/5SF/C//sjPjz/07eEK9mrxnxx/ykL%2BF/8A2Rnx5/6dvCFAHs1FFFABXkP7a/xI8ffDz4T6RZfDLxK2hax4s8f%2BHfDEPiJLSGd9Ji1DU7e3nuY450eJphC8gi8xHjErRl0dQUb16ud%2BLHwn8A/G/wABXvwz%2BJuhtqGj37wSTQxXs1tLHLDMk8E8M8DpLBNFNFHLHLE6yRyRo6MrKCAD50sPjL%2B1RP8Ash/FCw8G%2BINR8VeO/h98Rrvwzb%2BKLXQbWXUr7S4r61aa/js4Ykt57%2BDTrmXESRCOa5tQBCBJ5VeLeNP%2BCouvfDf4CfEj4e638f5fDviqz%2BJN74U%2BH/xG%2BMWjWPh6%2B%2BwR%2BHNM1ufUbqyuLe0gF1ENQa3t7drZDNI1kZIdrzEfZ/hb9lH4L%2BCPh7dfC/whZ%2BJNN0i9tJ4boWfjzWI7qV57qS6nuzdC7%2B0fbZJ5ZJHvfM%2B0uW%2BaUgADT8Bfs9/CT4a/DK/%2BEPhLw3OmiasbttYF/rF3eXeoyXIInmuby4le5uJnBwZZJGkwFG7CjABzX7Of7Qmj%2BOf2LfA37R%2Bt%2BKJfFEWp%2BBNN1LVdU8KaVJqsl7ctbx/aDDbabFI8r%2Bd5gMcMZKkMAo2kDE/4J0%2BIbDxb%2BzdfeKdKt76K21H4t/EO5t4tT0ueyuUR/GetMBLb3CJNA4B5jkRXU5DKCCK9i8GeEPDvw98H6T4B8Iad9j0nQ9Mg0/S7Tznk8i2hjWONNzks2EVRliScZJJ5ryv9g/8A5Ihrn/ZZviP/AOprrdAHs1FFRXt7Z6bZzajqN3Fb29vE0k880gVI0UZZmY8AAAkk9MUbA2kjyr9tX9q3w5%2Bx58B9Q%2BKmp6c2qaxPMmneEfDkGTNrWrT5W3tY1X5jlvmbAJCIxAJAB/Pvwf8ABP41/tGftBax8JrT4hyaz8X9eskH7QPxdtlDWnw90qUHPhfRsEolyyl4pGU5%2B%2BM/60rW%2BPn7RPxJ/bS/aM0f4p/B63kuLzUtUu/Cn7MWkTKQkbKdmq%2BNJ1I%2BWOFVZYGI4ZAwXdbvu/Rz9kv9lv4c/sf/AAV0z4OfDq3MggHn6zrFwM3OsX7gefeTsSS0jsO5O1QqjhQK%2BL9/iXMWk7UKfXv6f3prZ7xp6q0qia%2Bp4Uw2EybAUuNMxpqpVm5LLaM0nC8G4zzCrB6SjCd6eEhJOM6kJVXeFP3%2Bh%2BCnwV%2BGv7PHwv0j4O/CLwxBpGgaJaiCytIRye7SO3V5HYlmc8szEnrXVUUV9jCEKUFCCsloktkkfO4rFYnHYqeJxM3OpNuUpSbcpSk2223dttttthRRRVmAUUUUAFFFFABRRRQAUUUUAFFFFABRRRQAUUUUAFFFFABRRRQAUUUUAFFFFABRRRQAUUUUAFFFFABXjP7L/wDyW/8AaO/7LNY/%2BoV4Xr2avGf2X/8Akt/7R3/ZZrH/ANQrwvQB7NRRRQAUUUUAFFFFABRRRQAUUUUAFFFFABRRRQAUUUUAFFFFABRRRQB49/wUHPjkfsOfFg/Df%2B0/7Y/4QLU/s/8AYm/7ds%2Bzv5v2by/n8/yvM8vZ8%2B/bt%2BbFfPv7Oniz4a6L4d/aK0P/AIJ3634Tj8MX2jiX4Nab4OuLYaZeeI4dBVr06ZHGfKkRJG07zvJBQXDTb/3plr7jooA%2BJP8Agj94p8BlfEPgH4d%2BG/hffxQeCfDOra944%2BGWjyQSXGqXIvkn0rWZ5ZppL3VrYwCWaeV0mb7dmWCAlfM9Uv8AUvivd/8ABTbwXZ%2BNvBfh7T9Ct/g944HhrUdK8Tz3l3fodW8JeY1zbSWUKWhGEwEmuA245K7Ru%2Bh68Z8cf8pC/hf/ANkZ8ef%2BnbwhQB5j/wAEn/8AiWx/tE%2BE24/sz9p7xUIV9IX%2BzOn8zX1pXyX/AME5/wDiVftL/tVeFOnk/GJdQ2/9fVmj5/HbX1pXk5HplkI9nNfdUqH6B4o%2B9xxiav8Az8hh5/8AgeEwj/zCiiivWPz8KKKKACiiigAooooAKKKKACiiigAooooAKKKKACiiigAooooAKKKKACiiigAooooAKKKKACiiigAooooAKKKKACvGfHH/ACkL%2BF//AGRnx5/6dvCFezV4z44/5SF/C/8A7Iz48/8ATt4QoA9mooooAKKKKACiiigArxn9g/8A5Ihrn/ZZviP/AOprrdezV4z%2Bwf8A8kQ1z/ss3xH/APU11ugD2aviD/grb%2B0jDqVon7EnhLxhJo8WsaFNr/xh8S2ZDP4e8Iwf69R/08XbYgjT%2BIuEIxKpr6m/aW%2BPngz9l74EeJ/j34/mA03w1pT3TQhwrXMvCw26E/xySska%2B7ivzU%2BCXwA8c/tX/Hux%2BCfxeLXmv%2BMLuy%2BJX7Tt7sIW0tOH0PwoM8ogQpI8R5AIwT5Ar5niLGVOSOBoazqaP0bsl5czum%2BkI1H2O3I8ip8XcQQymvN08LCEq%2BMqR3p4Sm1zqL/5%2BV5cuHpLrOrfo7fTP/BKX9me5h0aX9tb4l%2BDotG1nxfolvpvw88McsnhLwjEB9iso8/8tJVCzSv1csGIDNID9l02GGK3iW3t4lSNFCoiLgKBwAAOgp1e1gMFTy/CRow1tu%2B7e7fq/uVktEj0eJc%2Bq8R5vPFuCp00owpU4/BRo01yUqUF0jTgku8nzzd5TkwooorsPBCiiigAooooAKKKKACiiigAooooAKKKKACiiigAooooAKKKKACiiigAooooAKKKKACiiigAooooAKKKKACvGf2X/wDkt/7R3/ZZrH/1CvC9ezV4z%2By//wAlv/aO/wCyzWP/AKhXhegD2aiiigAooooAKKKKACiiigAooooAKKKKACiiigAooooAKKKKACiiigAooooAK8N%2BIuvaZp//AAUh%2BEWiXlyI7jUPgx8QfsasQPMaPVPB7Mo9Tty2PRW9K9yr4H/4Kk/EvUfgh/wUj/Y7%2BMcTOum6bN4t07xBKD8kNhqM/h6xklk/2UadG%2BoWubGYlYTDus9la/o5RT%2B69/kcePxccDhJV5bRtf0copv5KV/keifsZf8AEp/4KWftdeGSNqm/8GahCP73naRIXI/EAV9aV8l/Aj/iTf8ABYH486b0/tr4d%2BF9Qx/e8lHgz%2BuK%2BtK4sm0ws49qlVf%2BVJP9T9M8Sffz3DVv58HgZf8AlpTi/wAabCiiivWPz8KKKKACiiigAooooAKKKKACiiigAooooAKKKKACiiigAooooAKKKKACiiigAooooAKKKKACiiigAooooAKKKKACvGfHH/KQv4X/APZGfHn/AKdvCFezV4z44/5SF/C//sjPjz/07eEKAPZqKKKACvEP2/vEniLQvgno2kaJ4r1LQLTxJ8S/Cvh/X9c0fUJLO6s9OvtatLa4EVzEyvbPMsn2YTIyvH9o3IyOFYe31m%2BMfBng/wCInha/8D/EDwppuu6Jqls1vqej6xYx3VreQsMNHLFICkiEdVYEGgD5T8IRftA%2BOP2Nfiv8L/gv4/17VdR8L/FfUtA8Jaze%2BKpP7V1HRbXVLdruwj1S4cyfaxEb/TYruWTzEkijZ5d6NJXA%2BAviTpl98E/ippnx%2BX4x6Zpfg343N4c%2BE/g3TPjDqL%2BKdZuZtC0udNIbU9O1FpL%2BcX91fja95NDbrGwmkCWbtH9j2/7Nf7Odp4Lf4b2vwB8FReHZND/sWTQI/Ctmtk2m%2BY0n2IwCPyzb73d/Kxs3Oxxkk1m%2BIf2Of2RfF3gHRPhT4r/ZX%2BHGp%2BF/DM7zeG/Deo%2BB7Cew0qRwwd7a3eExwMwdwSiqSHbPU0AJ8H0%2BN/wr/ZR8J23xgsb/AMe/EPQ/BWnQ%2BKYtAntFuNZ1WO3jW5aGS6ktoCWlDtud4lbrhcha5P8A4J06tf69%2Bzdfa3qvhi%2B0S5vPi38Q5rjR9Tkge5sXbxnrRMMrW8ssJdCdpMcjpkHazDBPsnhTwn4V8B%2BGrHwX4H8M6fo2j6XapbaZpOk2SW9taQIMJFFFGAkaKAAFUAAdBXiv7I/iqw8CfsueNPG%2BqnFro3xS%2BJ99cknH7uHxjrsjfoppSkoxbeyJlKMIuT2Wp87/APBR/wCNeg/Fv4/z/DDVtt38Nf2d9D/4T/4rxFv3OqawIydH0Vj0JeQq7Icqwcg4ZBXuX/BLz4D658Kv2a7f4ofEx3uviF8Vbo%2BLvHepXCYle6ux5kUGP4EhiZUEfRWMmAM4r4l%2BEfga7%2BN3wH%2BBf7NutyPfeKf2lfiDefEv416g/LXOjWdy84jf%2B5FKEgWMcqHRsD5sV%2BtKIkahEUKqjAAGABXyeSQePzCpj6m9lbyc1dL/ALcp8kX/AHpzPq8ujPI/DGhUl7uJzmp9Zqd1haDdLCUn15ZVPa1mtpSipa2ixaKKK%2BtPlgooooAKKKKACiiigAooooAKKKKACiiigAooooAKKKKACiiigAooooAKKKKACiiigAooooAKKKKACiiigAooooAK8Z/Zf/5Lf%2B0d/wBlmsf/AFCvC9ezV4z%2By/8A8lv/AGjv%2ByzWP/qFeF6APZqKKKACiiigAooooAKKKKACiiigAooooAKKKKACiiigAooooAKKKKAPHv8AgoOfHI/Yc%2BLB%2BG/9p/2x/wAIFqf2f%2BxN/wBu2fZ3837N5fz%2Bf5XmeXs%2Bfft2/NivDf2RviH8J/A118dv%2BGAdF8I%2BIfB7Q2158I/BfhHWbKy0rX9ft9Fje/ttNfetusbO2nJPJGfLjnkmaQiTza%2B06KAPib/gkfaePPDvxT/aK8L/ABF%2BEvjPQ9ck8f6PqniTV/GF1pDy6jq1z4c0x7ptunajeLHl/wB6kYYxRQTQRI2Y2jjwP%2BCm3wm%2BLf7RvxQ1b4V%2BKPAegWdlF%2Bz149v/AAHqGj%2BJ7i8vtQubTV/CF3H59u9lCtm/mQRIojmuNwkbJXHzffFeMeOlV/8AgoT8MEdQQfgx48BBHX/ibeEKwxNCGKw06M9pJp/NNfqc2Mw1PG4Sph6nwzi4v0aa/X8D5d%2BB3x88n9sT4G/tleKZEfw7%2B0P8G7TwjdakvCWHie2l88wyHpiWQPCg6lwegU1%2BhNfm/wDBX9maT4v/ALJ/x/8A%2BCb9jdGy8S/Bz4oXeo/DG5WTZJpyTMdR0iVW/wCWe9jOhYdElbFfX37Bv7TaftafsweHPizqFv8AZdeWJtN8X6aybHsdXtj5V1EydUy43qp5CSJmvn8gxFSL9lV3qLnX%2BJPkqx%2BU4qS8pn3dWvPi3w3yvPv%2BX%2BEjHBYldnT9p9XqeSnFVaUn/wA/KUesrHsVFFFfTnxoUUUUAFFFFABRRRQAUUUUAFFFFABRRRQAUUUUAFFFFABRRRQAUUUUAFFFFABRRRQAUUUUAFFFFABRRRQAUUUUAFeM%2BOP%2BUhfwv/7Iz48/9O3hCvZq8Z8cf8pC/hf/ANkZ8ef%2BnbwhQB7NRRRQAUUUUAFFFFABXw58W/iD/wAKx/4JB/HnxOJ/KaXxn8UNNjfOCHvfG2s2a4PrmcY96%2B46/ML9vTxxZ%2BG/%2BCYr%2BD79s2/iv9q/xdYX0XXdbReONfvZWI/ugWoJPbivLzut9XyfEVL2tCX3tWX/AKUedm8a9TLKtKgr1Jrkiu86jjTivnKpFfM9F/4I/fDt/G/xD8XftGahb7tN8F%2BGtJ%2BFHgN2GQLTSraL%2B0JkP8STXmHDDvvHPNffFfN//BInwMPh/wD8E4PhRpLQbJL3w62qSsRy5vJ5bvcT3JEw59MV9IVnkND2GUUr7ySk/WVn%2BC5V6JH6R4i1aC4vxOBw38DB8uEpLtSwsVh4fOTpzqS/vVJerKKKK9g%2BICiiigAooooAKKKKACiiigAooooAKKKKACiiigAooooAKKKKACiiigAooooAKKKKACiiigAooooAKKKKACiiigArxn9l/wD5Lf8AtHf9lmsf/UK8L17NXjP7L/8AyW/9o7/ss1j/AOoV4XoA9mooooAKKKKACiiigAooooAKKKKACiiigAooooAKKKKACiiigAooooAKKKKACvGfHH/KQv4X/wDZGfHn/p28IV7NXjPjj/lIX8L/APsjPjz/ANO3hCgDx79rHQ/it%2BxN%2B1Bf/wDBRn4YeE5fFPgnX9Cs9K%2BNHhfT4Sb%2B1trUkQ6xbYOJTDGQroeiKTkBmeLj1%2BKLfsXfFDXf27/ghpo8d/s1/GaW31rxfP4XDS3PhTU9pjm1RYMZeCU8zjh0dSGCmNVf72kjjmjaKVAysCGVhkEHqCK%2BNPF/7H37Sv7F/jHX/il/wTwi0XX/AAV4humvfFXwD8ROILSWZhiWXSrg/LavIOsTAR/7wEca/MZjgK%2BGqe2oX5eZz91XlCbWslH7cJrScN/tR10N%2BG%2BIMRwPmGInLDfW8vxaccTh7tSs5KfPSa95SjOKqRaUpQqJyUZwnVpy%2Bs/h98QvA/xX8F6d8Rfht4psta0PV7ZbjTdU0%2BcSRTxnuCO4OQQeQQQQCCK2a/Lv4J/Ef/hBviTq2of8E5/HEHw%2B8V3OoGfxp%2ByL8YU/s6Ke9IHmHSZXKiGRwMqsZ2EbSwRFWMfW/wCzv/wUx%2BBfxg8U/wDCnPipZ33wr%2BJ1u6xX3w/8dgWtw8h6G1mcLHdoxzsKEMwG7YAQT1YDPcNiUoVmoyeid/ck/wC7J2s/7k%2BWa2s7XPsK/CeGzfATzjhLEfX8FHWSiv8AaMOuscTQXvx5dnVhGdF2venflX0bRRRXunxAUUUUAFFFFABRRRQAUUUUAFFFFABRRRQAUUUUAFFFFABRRRQAUUUUAFFFFABRRRQAUUUUAFFFFABRRRQAV4z44/5SF/C//sjPjz/07eEK9mrxnxx/ykL%2BF/8A2Rnx5/6dvCFAHs1FFFABXz9/wUuOmD9mu1/4TTy/%2BEK/4WF4X/4WR9o/49/%2BEe/tm0%2B2/as8fY/L/wCPnd%2B7%2Bzef5n7vfX0DRQB8F%2BCLT4X%2BPv2Avi18L/h/8ZfBXhbwJH471LVvATatrUdroh8Iw6xFI8TsjfudDup4NQsxNGDCLWY%2BUGjCKfJvh1L8MLvS9M1X9p3QPhbpP7MN5%2B0NrEmi6bpd7Hc%2BAILYeD7VLYRz3EEFvPp51dNXZJXhjge/ZWjXcbcn9TaKAPBv2Ibv4xWX/BPb4eXlroI1TxOngq2Oj6f4z1a4sGnt8f6Gt5cfZ7ieKT7N5O9mhkk353ru3V%2BZP/BRL4ieIn/Zz8DeC/GelWFlfReO/jVrPifT9M1J7u2tLiTxRqthAIpnhhaZBcXTqsjRRlhg7FJ2j9r6/C/49O3xm/axvvhYv761/wCFqap4Ie3xkC71P4o65qBb2JhtQPoK%2BX4wnJZJKnHecoxXzd/0R7nCOFpY/jzI8JVV4TxuGlL/AAUZvE1P/JMKz9ov2f8AwR/wrL4D%2BCfhv5Pl/wDCP%2BEdN03ZjG3yLWOLH/jtddRRX0tOEaVOMI7JJfckv0PLxmKq43F1MTVd5VJSk/WUpSf4yYUUUVZzhRRRQAUUUUAFFFFABRRRQAUUUUAFFFFABRRRQAUUUUAFFFFABRRRQAUUUUAFFFFABRRRQAUUUUAFFFFABRRRQAV4z%2By//wAlv/aO/wCyzWP/AKhXhevZq8Z/Zf8A%2BS3/ALR3/ZZrH/1CvC9AHs1FFFABRRRQAUUUUAFFFFABRRRQAUUUUAFFFFABRRRQAUUUUAFFFFAHj3/BQc%2BOR%2Bw58WD8N/7T/tj/AIQLU/s/9ib/ALds%2Bzv5v2by/n8/yvM8vZ8%2B/bt%2BbFeJfsc%2BL/2NdA1X446R8H/FfgWw%2BAt4ltNolvoWoW0OhTPDosba9JYiJhGYI4WszcND8iTNOXIlMtfZ1FAHx3/wSb8R/s2/EuT4k/Gr9k%2B/8CaJ4H8TX2mHw/8ADbwJfWe3R7SGGZI9UvrO0bZp97qGWcwMqyCG1txKBMsyJ3t/qXxXu/8Agpt4Ls/G3gvw9p%2BhW/we8cDw1qOleJ57y7v0OreEvMa5tpLKFLQjCYCTXAbccldo3fQ9eM%2BOP%2BUhfwv/AOyM%2BPP/AE7eEKAPZqKKKAPNf2i/2Pf2af2sdCGhfH74Q6T4g8uMpaahNCYr20HX9zcxlZYuecKwB7g18kfHz/gkx8fT4Tbwd8LfjTofxV8H2wb%2Bzvh/8erB7uawU9VstZttt5bHHyoqlFGBuJGa/QGivLxuT5fj7upC0no2tG/W2kl5SUkc1PDfVcxhmODqTw%2BJg7xrUZypVU1tacHFv0lzLpa2h%2BP9p%2B0D/wAFJP8AgnD/AKDqnhDx1o/haxb5/D3xHsn8VeHbeIdRb65p4%2B0W4x/q4GjKoPvsxBNfRH7PP/BwT%2Byl8Q4oNJ%2BPnh/Uvh9qRVPPv4nGraTluF/0m1BkjJP8MkS7c8t1NffBAIwRXiPxs/4JvfsM/tCyTXnxR/Zm8MXN7OS02q6bZnT7x2/vNPamORj/ALzGvHjk2eZc/wDYMUpR/kqK6%2BTTuvlb0PrqvGGaZjG2e4Whjpf8/bfVMV6yrYaDoVn3dbCczespvW/pfwy%2BMHwp%2BNPh1PFvwh%2BJGh%2BJtNcDF7oWqRXUak/wsY2O1v8AZOCMciujr89PFX/BvP8ABjQPELeN/wBlj9p74i/DTW1Ja3ure9W6W3PX5GjME4GfWYn3rX0X4Nf8F3P2b4Wj8D/tE/Db4zaTapi307xraS2t/IP%2BuirGSx9ZLlufauynmmbUNMZg5f4qbVRfdeM/wZ89i8ZlF%2BajTr0/KcKdVL/uJQnr6yox03V9D70or4nH/BTb9sj4QTR2X7Vv/BKv4i2MMFvvv9c%2BG97F4gt%2BBkvsiASJfZpyR3NaHgb/AILy/wDBOLxVKLHxN8Sdd8IXu7ZJY%2BKPCl2kkT55V2t0mRT9Wx71vHiDKOblqVVB9pqUH/5PFfmzyp5tl9ODnUnyRXWUZwWu13KEYq/ZyT8j7Iorx7wP/wAFBv2GviOEXwh%2B1t8PriWT/V2s3iq2t52/7ZSur/pXquh%2BIvD/AImsxqPhvXbPULdvuz2N0kqH/gSkivTo4nDYhXpTjL0af5NnTQxeExSvRqRn/hlF/k2XKKKK2OgKKKKACiiigAooooAKKKKACiiigAooooAKKKKACiiigAooooAKKKKACiiigArxnxx/ykL%2BF/8A2Rnx5/6dvCFezV4z44/5SF/C/wD7Iz48/wDTt4QoA9mooooAKKKKACiiigAr8T/2SvBz%2BM/%2BCpWoWzoZI9b/AG0PHd22eQn/AAjs%2BoXKn2%2BbUfzr9sK/Ln/gnj8O1/4eo63F8jrpWsfFrxdMyHIjub7x7qOlqp9HMFqh%2BlfPcQUHiFho/wDT2H9fcmfZcA4ZviSeYvbB4XHVvSX1SpQg/wDwPEo/UaiiivoT40KKKKACiiigAooooAKKKKACiiigAooooAKKKKACiiigAooooAKKKKACiiigAooooAKKKKACiiigAooooAKKKKACiiigArxn9l//AJLf%2B0d/2Wax/wDUK8L17NXjP7L/APyW/wDaO/7LNY/%2BoV4XoA9mooooAKKKKACiiigAooooAKKKKACiiigAooooAKKKKACiiigAooooAKKKKACvGfHH/KQv4X/9kZ8ef%2BnbwhXs1eM%2BOP8AlIX8L/8AsjPjz/07eEKAPZqKKKACiiigAooooAKKKKACuT%2BJ3wF%2BB/xqs/sHxg%2BD3hjxRFt2quv6Fb3e0f7JlRip9CMEV1lFROnTqx5ZpNdmk19zTN8PicThKqq0JyhJdYycX98XF/ifHnxU/wCCEf8AwTd%2BJpluLD4RX/hW6lzuuvCuvTw4P%2BzFMZYV/CMCvAPGH/Btf4d0jVBr3wG/az1jSpYM%2BRa69oayFx2DXFnNbsPqENfqFRXh4jhfh/FO88PFPvG8X/5K1%2BR6kc/xk/8AeqVDEL/p/hsNW/8AJqlDn%2BftL9n1PyauP%2BCYX/BX34O3RuPAX7Rur63YRD/R9P8ABXxp1PS3cDpvj1GKWLPsGxUJ8Tf8FlfhFx4t1f8AaK0dYvvHSvBmgePQAPdHhLD3r9a6K4/9U8PT/wB3xFWH/b7a/Fp/idKzHgzEK2M4fw3rQq4zCS%2BXscVUpp/9wvl0PyYtv%2BCnX7V/gadLPx9%2B3RpGh3BO1bf4sfs7alpTFvRjp6yqp/HFejeCv%2BCmP7ZfiHYuhftP/sUeIVbHlQyeLdW0i7k9tl4UGfYCv0euba2vIHtbu3SWKRdrxyIGVh6EHrXnPjX9jb9kj4j728efsw%2BANWkf70994Qs5JR7hzHuB9waP7Fzml/Dxbfq5r8nNfgP6h4VYnelmWGf/AE6xtKvFf9u4nDRl982/M%2BfvDH7Wn/BUrW7f7VoH7Hnwm8aRAZMvhH4xW6qw9QZQ2PxrVH7aP/BSfSv%2BRn/4JEaoAOsmkfGTSLvd7hVQH8K1vE//AARn/wCCbHii4%2B3P%2BzNZabcqd0VzoWt39i0beqiCdV/Ssr/h0D8JdD5%2BFf7VHx98E7f9Unhr4pTpGvttmSTI9s0fVeI6f22/SpD/ANvor8w/1T4Ar/7vxHjaPlWwVKol/wBvUajb/wDAV6Cf8PFv2ndN/wCRl/4JUfF%2BLH3v7LubK9/LY4zR/wAPUPEth/yMH/BMv9p%2BHH3jYfDZLoD8VuBS/wDDvv8Aa/8ADX/JM/8Agq/8TLTb/q/%2BEp8P2GtY%2BvmhN1H/AAoL/gr54X/5AX7f/gHxTt6f8JN8K4rHf9fsbnH4Ue0z6Hxe1/8AAKE/ynF/gH/EPsJV/wB04uwz8quHrUn8%2BbDyiv8AwIT/AIe8fD%2B2/wCQ3%2BxZ%2B0lpnr9v%2BEkq4/75mNH/AA%2BS/Zrg/wCQt8H/AIyWHr9s%2BGF4uPyzS/a/%2BC33hr/X6T%2BzX4mhXp9mn1uzuH%2Bu/MY/Cj/hob/grp4d/wCQx/wTt8FeItvX/hH/AIt29pv%2Bn2qM4/Gj67mUfinUXrhr/wDpFSQf8Qv4qn/u2e5fV9K%2BHj/6cdET/h9T%2BxPF/wAhIeP7P1%2B1fDnUhj8ojR/w%2B7/4J3Rf8f8A8TvENr6/aPAOrDH5WxpT%2B3f%2B3Von/I7f8ElPGsGPv/2F4%2B0zU8fTywuaP%2BHo/jXR%2BPGX/BMr9pO1x99tJ8Bx36r%2BKTrx70f2piF8WJS/xYeog/4hN4py/gVcNV/wVMJP/wBJx8QH/Bcr/gmAhxd/tHz259JvA%2BtD%2BVmanh/4Le/8Eup/uftTQD/f8J6wv87MVAf%2BCwvwNsRjxd%2Bzj8dtAH8f9s/Cu5Tb9djNUE3/AAWh/wCCcUX/ACOXjLXNG/vf218OtUXb9dts1H9ryW%2BOor1hKP5zQf8AEIvGx/w8DKf%2BDDup/wCmsTU/A2Iv%2BC03/BMWb7n7VenD/f0DU1/nbVZi/wCCyP8AwTOm%2B5%2B1hoo/3tMvl/nBWRYf8Fbf%2BCTev48v9oPw183/AD%2B%2BFr6H/wBG2q1tWH/BQL/glVruPL/aB%2BF3P/P4YIf/AEai1rHM6s/hxuHf9f8AX04q/hn4y4X%2BLltWPrgsUvyuSR/8FgP%2BCa0v3f2tPDw/3ra6H84amj/4K4/8E3ZPu/tceGB/veeP5x1fsf2ov%2BCX2uYFt8e/gZIW6JL4i0hWP4M4Na9l8Qf%2BCeWt4/s7xv8ABi8z08nUtJkz%2BTGt44rHz%2BHE0H9//wAtPIrcKeJWG/i4Vx9cLil%2BcUc/H/wVj/4Jxyfd/a78JD/euZB/NKnT/gqp/wAE6pPu/tf%2BCx/vakR/Na6%2Bz0L9irW8Gw0b4XXeenk2%2BmyZ/IGtK1%2BBX7Lesc2Xwc8AXWehi8PWL5/JDW8XnEvhqUX8p/pNnl1cBxfh/wCKqcfWlWj%2BbRwa/wDBUj/gng4yP2wfA346yopT/wAFRf8AgniBk/theBfw1pK9Bb9mD9ml%2BX/Z48DH6%2BErP/41SD9l39mYHcP2dfAgPqPCNl/8aq%2BXPf5qX/gNT/5I5%2BTiT%2Bej/wCA1f8A5I84n/4Krf8ABOm3BMn7X3gw4/uagW/kprOu/wDgr9/wTXsgTN%2B1r4dbH/PGC6k/9BhNevwfs4fs8WxDW3wG8FxkdCnhe0GPyjrRs/g/8JdPINh8LvDsGOnk6JAuPySjkzx/bpL/ALdn/wDJB7PiR/8ALyiv%2B3Kj/wDb0fPN5/wWx/4Jf2JxN%2B1TZtj/AJ4%2BGtVk/wDQLU1j/BT9ub9lv9tD/goX4M/4Zq%2BJp8SDw18GfGf9st/Yl7ZiD7Rq3hXycfaoY9%2B7yJfu5xt5xkZ%2Bs7Pw54e08AWGg2UAHTybVFx%2BQrybxuAP%2BChXwvAGB/wpnx5/6dvCFa0KeaKqnWqQceqUJJ/e5v8AI3w1LOo1k8RWpuHVRpyT%2BTdR218mezUUUV6B6gV8/f8ABS46YP2a7X/hNPL/AOEK/wCFheF/%2BFkfaP8Aj3/4R7%2B2bT7b9qzx9j8v/j53fu/s3n%2BZ%2B7319A0UAfnfqPij4cv/AMEzPjR4I%2BGPifT4fBU3ji/f4d2%2Bj3EbWdj4Un1uC3N/5CZL6BHc/b3cRgQvYRSpEwjKEeMSaT8K7j4e2XgnUviX8ErLwBF%2B0Nrs1h471zwbFN8Hr1f%2BEStGSO10dr5IYh580scaC/ZBf2moTCR5H%2BzD9d6KAPCf2JNQ%2BIVv/wAE6PhXd%2BEvCE114ig%2BGGjx2WleOvEM9u9xKlpEgN1eC0klXeBv3m23fMMxqcgfKP8AwRUh8XeNP2yv2ofH/j7RLGw1Pw9461XQXttN1B7y2hln8Ta5e3MUM7wwtKiyMAHaKMsCCUXOB%2BklfFP/AARk8HPpjftO%2BPLqHbNrf7W3j2GNsffgttXmRD/328o/CvOxtN1cVhl0U3L7oSt%2BLPs%2BGMbDA5HnUn8VTDwpL/t/FUOb/wAlptPyZ9rUUUV6J8YFFFFABRRRQAUUUUAFFFFABRRRQAUUUUAFFFFABRRRQAUUUUAFFFFABRRRQAUUUUAFFFFABRRRQAUUUUAFFFFABRRRQAV4z%2By//wAlv/aO/wCyzWP/AKhXhevZq8Z/Zf8A%2BS3/ALR3/ZZrH/1CvC9AHs1FFFABRRRQAUUUUAFFFFABRRRQAUUUUAFFFFABRRRQAUUUUAFFFFAHj3/BQc%2BOR%2Bw58WD8N/7T/tj/AIQLU/s/9ib/ALds%2Bzv5v2by/n8/yvM8vZ8%2B/bt%2BbFfNnwi8S/DzTvhj%2B094a/4Jya/4ag8O6l4Wmf4K2HgW6t1sLrxLF4dzeHSUhPluElfTTKYAVW5aXfiUy196UUAfG/8AwTLP7Ph%2BMfj3/hi06R/wqf8A4Vv4K8z/AIRzb9h/4SrfrP8AaXmbOP7R%2Bx/2R9r3fvd3k%2BZ%2B8316Df6l8V7v/gpt4Ls/G3gvw9p%2BhW/we8cDw1qOleJ57y7v0OreEvMa5tpLKFLQjCYCTXAbccldo3fQ9fOH7R%2Br/GvR/wBvD4Tz/A74f%2BFvEWpN8I/Ha3dp4r8YXOiwRwf2p4SJdJbfT71nfdtGwxqMEnfkBSAfR9FeM/8ACcf8FC/%2BjX/gz/4fjVv/AJl6P%2BE4/wCChf8A0a/8Gf8Aw/Grf/MvQB7NRXjP/Ccf8FC/%2BjX/AIM/%2BH41b/5l6P8AhOP%2BChf/AEa/8Gf/AA/Grf8AzL0AezUV846T%2B0d%2B3brHxn1/4HW/7KHwkXVPDvhfSNdvLl/jrqnkSQajc6lbwohHhjcXVtLnLAqAA8eCxLBeo/4Tj/goX/0a/wDBn/w/Grf/ADL0AezUV4z/AMJx/wAFC/8Ao1/4M/8Ah%2BNW/wDmXo/4Tj/goX/0a/8ABn/w/Grf/MvQB7NRXjP/AAnH/BQv/o1/4M/%2BH41b/wCZeuX8A/tHft2/ETxX438IaP8AsofCSG48B%2BKItC1WS5%2BOuqBJ55NK0/Uw8W3wwSU8nUYVJYKd6OMYAZgD6Oorxn/hOP8AgoX/ANGv/Bn/AMPxq3/zL0f8Jx/wUL/6Nf8Agz/4fjVv/mXoA9morxn/AITj/goX/wBGv/Bn/wAPxq3/AMy9H/Ccf8FC/wDo1/4M/wDh%2BNW/%2BZegD2aivnH4RftHft2/GXwpd%2BL/AA5%2Byh8JLa3s/FGt6FJHe/HXVFcz6Xqt1pk7jb4YYbGmtJGQ5yUZSQpyo6j/AITj/goX/wBGv/Bn/wAPxq3/AMy9AHs1FeM/8Jx/wUL/AOjX/gz/AOH41b/5l6P%2BE4/4KF/9Gv8AwZ/8Pxq3/wAy9AHs1FeM/wDCcf8ABQv/AKNf%2BDP/AIfjVv8A5l65f4I/tHft2/Hj4MeEPjj4V/ZQ%2BElrpfjPwvp%2Bu6bbah8ddUWeGC7to7iNJAnhhlDhZAGCswyDgkc0AfR1FeM/8Jx/wUL/AOjX/gz/AOH41b/5l6P%2BE4/4KF/9Gv8AwZ/8Pxq3/wAy9AHs1FeM/wDCcf8ABQv/AKNf%2BDP/AIfjVv8A5l65f43ftHft2/Af4MeL/jj4q/ZQ%2BEl1pfgzwvqGu6lbaf8AHXVGnmgtLaS4kSMP4YVS5WMhQzKMkZIHNAH0dRXjP/Ccf8FC/wDo1/4M/wDh%2BNW/%2BZej/hOP%2BChf/Rr/AMGf/D8at/8AMvQB6lqvgfwVruf7b8IaXebvvfatPjkz/wB9Ka5zU/2Z/wBnDW8/2z%2Bz94Iu89ftXhSzkz/31Ga5D/hOP%2BChf/Rr/wAGf/D8at/8y9H/AAnH/BQv/o1/4M/%2BH41b/wCZes5UaM/iin6pP80ztoZnmWF/gV5w/wAM5x/9JnEv6l%2Bwf%2BxBq%2BTqX7HXwtmY/wAbeANO3fn5OawtQ/4Jj/8ABPjU8/af2O/AC5/59/D0UP8A6LArF%2BLv7R37dvwa8KWni/xH%2Byh8JLm3vPFGiaFHHZfHXVGcT6pqtrpkDnd4YUbFmu42c5yEViAxwp6j/hOP%2BChf/Rr/AMGf/D8at/8AMvXPLLsun8VGD/7cj/8AInr0eM%2BMcP8AwszxMfTEV/8A5ccrf/8ABIf/AIJtaln7R%2ByV4cXP/PvLcxf%2BgSisa%2B/4Il/8Ev8AUcmf9lm1XP8Azw8UatF/6BdivQ/%2BE4/4KF/9Gv8AwZ/8Pxq3/wAy9H/Ccf8ABQv/AKNf%2BDP/AIfjVv8A5l6wlkuTy3w1P/wCP%2BR6lLxN8SKH8POsWvTE1v8A5YzzH/hyF/wTkg/5BHwh1rT/AE%2BxePNXXH/fV0aP%2BHLn7GMH/IKvPiJYegtPiPqIx%2Bchr07/AITj/goX/wBGv/Bn/wAPxq3/AMy9cv4%2B/aO/bt%2BHfivwR4Q1j9lD4STXHjzxRLoWlSW3x11QpBPHpWoamXl3eGAQnk6dMoKhjvdBjBLLH9hZL0w8F6RS/Kx0f8RX8TX8Wc4l/wCKq5f%2BlKRzX/DnL9naHjTfjZ8abL0%2By/FC7GPzBo/4dDfDSL/kHfthftF2fp9m%2BLMwx%2BcRr03/AITj/goX/wBGv/Bn/wAPxq3/AMy9H/Ccf8FC/wDo1/4M/wDh%2BNW/%2BZej%2Bwso6UV/5Mvymg/4ip4ivfMqj9VSl/6Vh5HmX/DpnTYv%2BQf/AMFEP2qbX0Fv8YCB%2BtsapfBT9lS7/Zj/AOChfgtbn9pj4qfEVda%2BDPjPYPib4qGqHT/J1bwrn7OfLTy/M80b%2Bu7yo%2BmOfWv%2BE4/4KF/9Gv8AwZ/8Pxq3/wAy9UPA/gf9qzxj%2B1Z4c%2BN3xu%2BHHw98M6N4Z%2BHviHQ4YfCvxDvtauru61K%2B0S4RmS40ixSKNE0uUFg7sWlQBcZI2oZVl%2BGqqpShaS85/k5tfgefmnH3F%2Bd4GeDx2K9pTna6dPDq9mmvehhqc1qltNdndXT91ooor0D48KKKKACiiigArwb/AIJ2eFdM8MfBXxdNpwbfqvx5%2BJV9ds%2BOZW8Z6wnbsFRR%2BFe818lfsleLP2ztP%2BHviiz%2BGPwD%2BGGr6Enxp%2BIv9n6jr3xd1HTbuZf%2BEz1ksZLaLQLlIiG3AATPkAHIJ2hOKbTfQuNSpCEoJ6Stdd7O6%2B56n1rRXjP/AAnH/BQv/o1/4M/%2BH41b/wCZej/hOP8AgoX/ANGv/Bn/AMPxq3/zL0yD2aivGf8AhOP%2BChf/AEa/8Gf/AA/Grf8AzL0f8Jx/wUL/AOjX/gz/AOH41b/5l6APZqK%2Bcfgj%2B0d%2B3b8ePgx4Q%2BOPhX9lD4SWul%2BM/C%2Bn67pttqHx11RZ4YLu2juI0kCeGGUOFkAYKzDIOCRzXUf8Jx/wUL/6Nf8Agz/4fjVv/mXoA9morxn/AITj/goX/wBGv/Bn/wAPxq3/AMy9H/Ccf8FC/wDo1/4M/wDh%2BNW/%2BZegD2aivnH43ftHft2/Af4MeL/jj4q/ZQ%2BEl1pfgzwvqGu6lbaf8ddUaeaC0tpLiRIw/hhVLlYyFDMoyRkgc11H/Ccf8FC/%2BjX/AIM/%2BH41b/5l6APZqK8Z/wCE4/4KF/8ARr/wZ/8AD8at/wDMvR/wnH/BQv8A6Nf%2BDP8A4fjVv/mXoA9morxn/hOP%2BChf/Rr/AMGf/D8at/8AMvXL/F39o79u34NeFLTxf4j/AGUPhJc2954o0TQo47L466ozifVNVtdMgc7vDCjYs13GznOQisQGOFIB9HUV4z/wnH/BQv8A6Nf%2BDP8A4fjVv/mXo/4Tj/goX/0a/wDBn/w/Grf/ADL0AezUV4z/AMJx/wAFC/8Ao1/4M/8Ah%2BNW/wDmXo/4Tj/goX/0a/8ABn/w/Grf/MvQB7NRXzj4%2B/aO/bt%2BHfivwR4Q1j9lD4STXHjzxRLoWlSW3x11QpBPHpWoamXl3eGAQnk6dMoKhjvdBjBLL1H/AAnH/BQv/o1/4M/%2BH41b/wCZegD2aivGf%2BE4/wCChf8A0a/8Gf8Aw/Grf/MvR/wnH/BQv/o1/wCDP/h%2BNW/%2BZegD2aivGf8AhOP%2BChf/AEa/8Gf/AA/Grf8AzL1y%2BrftHft26P8AGfQPgdcfsofCRtU8ReF9X12zuU%2BOuqeRHBp1zptvMjk%2BGNwdm1SAqApBCSZKkKGAPo6ivGf%2BE4/4KF/9Gv8AwZ/8Pxq3/wAy9H/Ccf8ABQv/AKNf%2BDP/AIfjVv8A5l6APZqK8Z/4Tj/goX/0a/8ABn/w/Grf/MvR/wAJx/wUL/6Nf%2BDP/h%2BNW/8AmXoA9mor5x0n9o79u3WPjPr/AMDrf9lD4SLqnh3wvpGu3ly/x11TyJINRudSt4UQjwxuLq2lzlgVAAePBYlgvUf8Jx/wUL/6Nf8Agz/4fjVv/mXoA9morxn/AITj/goX/wBGv/Bn/wAPxq3/AMy9H/Ccf8FC/wDo1/4M/wDh%2BNW/%2BZegD2aivGf%2BE4/4KF/9Gv8AwZ/8Pxq3/wAy9cv4B/aO/bt%2BInivxv4Q0f8AZQ%2BEkNx4D8URaFqslz8ddUCTzyaVp%2Bph4tvhgkp5OowqSwU70cYwAzAH0dRXjP8AwnH/AAUL/wCjX/gz/wCH41b/AOZej/hOP%2BChf/Rr/wAGf/D8at/8y9AHs1eM/sv/APJb/wBo7/ss1j/6hXhej/hOP%2BChf/Rr/wAGf/D8at/8y9W/2Vvhz8afB%2BsfFDx38dNA8L6Tqnj74hRa5Z6V4T8S3OrW9raxaDo%2BmKr3FxZWbNI0mnSuVEW0LIg3Mc4APW6KKKACiiigAooooAKKKKACiiigAooooAKKKKACiiigAooooAKKKKACiiigAr5X/ae/a0%2BLnww%2BMfizWvAPh3wfJ4Y%2BD/h/w/e%2BNTrWkXE2q6pb6vfypcwWFxHcRpZeRbWcdxmSKcXMhSMiHy/NP1RXjPxn/Yh%2BHHxu%2BKR%2BJmueOfFWlxaja6Ra%2BL/DWjXVqmneKYNLvZL2xivllt5Jgsc00ufs8sBljkMUxljCoAD2aiiigAooooA%2BY/Dn7SvxMh/b/wDFHwf%2BI2seHvCfhtfEFpongyLUfhFrKXXjGAaBBqOIPEbXa6c0sd3c6gBaCF5PLtJgFBZpF%2BnK8r8WfstQeP8A4yaR8U/Hvxv8a6vpXh7XY9a0DwBcHTItGsdQjt3gjnDQ2SXsuzzJJFSa6kjEj7tnyIF9UoAKKKKAPF/%2BCgvxd%2BOH7P37I/jT49fAK98KR6x4J0K71y6g8YaLc31td2lrbSzPboltdWzJK7IiiQuVQFiUfgV5/wCPP2tPi54L%2BPHi3U/Cnh3whF8PPCHxj8I/D7xlZzaRcHW9V1XXYNFSPUIbtLhYY44P7c0mMxSW8ryJDPiWPagr2H9rH9nGy/a0%2BBGvfs%2B618VfFPhHSfE9lLY65f8AhBdO%2B13NlLE8U1tuv7S6jRHV%2BWRFkBUbXXnPFwfsA%2BDp/iLZ/EXxV8cfH2usdZ0nXPE2jahLpUVj4n1zTEjSx1a9jtrCJluIhBaYW2aCBjY2xeJjHkgHvdFFFABXi/7ZPxd%2BOHwStfAPjH4WXvhT%2BxtQ%2BJnhzw94vsfEGi3NzdXNrqus2Omg2csN1CltJGtzLJvkSdSURdnJNe0V5V%2B1d%2By2/wC1V4b0LwvP8ffG/ga30LxJYa6jeC4dHZ7u9sbyC8s2lOpafeDbFcW8bhYwgblZN6naADzj9nn9pX4ma3%2B1V4t%2BCPxQ1fw94T06HxTrdv4J8JSfCLWdMudetoXSU39vrVxd/YNQdjJNLLFbQF%2BS7FcMT9OV5LpP7KIf4yaL8ZfiP%2B0B478azeF7u8u/CeheIRpMNho91c28lrJcRLYafbSyv9nmnhXz5JVRZ32gEgj1qgAooooA8P8A27vi58eP2fvg1q/x1%2BFHjHwLY6f4W0W5vL3RfFnhm9v7nxDe5RbPTLOS2vYPs81xKRbo3lXTNLPEFhY/K3n/AMEf2vvjPrnxL8Ff2t4M8JaR8NPG/wAT/FHw28K%2BGtO0uaPV9Ev9Ah1bfPPci4a3mgkbw/qaLDHbxGNWtj5kmWA9P/aV/ZBg/aS8eeCPiBN%2B0D478IXPgG7ub3RbHwxFo09nJeyoI1vJoNT068R54Y/MWGQBTGJ5SPmbIq%2BA/wBhr4e%2BA/jLb/F2H4i%2BLtSg07XdT17RPCGpXNl/ZOla3qMbx6hqkCRWqT%2BfOJ7ssrzPCjX1yY4o/M4APa6KKKACvl/9rn48ftL/AAW%2BImn%2BFNKh8AeNdH8cw61baL8OYvB99JrCWtpod1dyX9xOL14rq2F1Fb20kItYgft8KCYyMiSfUFeHTfsTXEf7R/iv9prRP2q/iXp2r%2BLdNh0650uGDw/PaafZwwNHDbWbXOky3NvEsrvdbFm2vO5dw4O2gBn7CH7Qfjf49/D28uviv4%2B0a%2B8XacLNtf8ADdl8LtX8I3mgPPbLKILmy1e6nuHBbf5dwAkciodobaTXuleb/A79m7Tvgz4n8SfEPWPil4p8ceKvFcVjb6x4n8XNYLcvaWYm%2By2qRafa2ttHFG1zcuNsIZmuJCzNkY9IoAKKKKAPjn/goJ%2B3H8VP2MPHP9p65ougeMfCL6NqOt2/hWX4c6nZS26abo19qSSf8JFNdPpk939r00bLFYEuhHMsoG2FpG9e/Zo%2BLvxz1b4qeN/2ev2jrnwpqHifwjpOh61HrXgrSLmwsbmx1QXkaRGC5ubl1liuNOu1L%2BbiRDE2yMkqK3x1/YS8EftOa1dWvx/%2BLfjXxR4LuZLiRfhleSabDosUk1jNZM2%2B3so76QCO4mYJLdOgd9235EC9P%2Bz5%2BzNpHwDvNe8RXfxQ8WeOPEfiQ2cereKvGtxZvfS21pEYrW1H2O2t4ViiDysMR72eeV3Z2cmgD0qiiigAr4j/AGp/2yv2s/g38avEHwo8HeG/DnjXU7DRbjXfDAT4H%2BII5NFA1HTLVDC325x4mkFjqlx539l%2BU8LQlZRGJhHX25Xh%2BvfsW6n4l8en4na1%2B1z8UZtb0%2BC8i8G3hTQAPCq3U0Mk/wBkjGk7J2aOBbfderdMsTOFKu7OQDqv2WPiw/xk%2BEcHiy9%2BJmjeKr%2BHUbqy1S%2B0bwZfeHRbXEUrK1rNpuoXE91ZzxjCvHM4fPzbVDAV6NXDfAP4C%2BHvgB4Z1PRtK8U634g1HX9euNb8SeJPEc0DXuq38wRGnlFvFDAmI4oYlSGKONUiQBRgk9zQAUUUUAFFFFABRRRQAUUUUAUfFHiGw8JeGtR8V6qHNrpljNd3IiXLeXGhdsDucKa%2Bc/2Jv2k/jX4/8U6P4M%2BNnh7wZZjx18LbL4jeGYfBmlXFoNMjvLgm70%2B7M1xKLuaN7m2f7YggE7SzEwR7QX%2Blru0tb%2B1lsb23SaGaNo5opVDK6kYKkHggjjFeQ/szfsV%2BAv2YNVfV9A%2BIPi3xLLbeGLHwz4dHiy9tZhoGhWbyPb6bam3t4S0amT5pZzNcSCOLzJn8tcAHsVFFFABXC/tQePPiL8LP2aPiJ8Tvg/4UXXvFvhzwLq%2BqeFtDaxmuhqOo29nLLbWxhgZZZhJKiJ5cbB23YUgkGu6rO8W6Jf8AiXwxqHh/S/Feo6Fc3tpJDb61pCwNdWLspAmiFxFLEXU8gSRumR8ysMggHl37FPxan%2BKHwzvrLVviF4f1nU/Duqrp15pmifDDU/Bz6GgtoJIrO40rVLme5hcI4kV28tHili2Jgb39irzz4D/s7aT8DrzxL4jufiJ4k8Y%2BJPF%2Bow3niLxT4rezF3dGG3S3giEdjbW1tFFHGgCrHCmSzsxZmZj6HQAUUUUAfLn7VH7WPxQ/Zw%2BL3jiy%2BJWjeEvEXwvsP2d/F/j220K30S4TVXbRBpaz21xcyXL280U6304CC2QqETLvlhXb/sz/ABf%2BPmqfFzxl%2Bzr%2B0s/hK88UeGPDHh7xLHqvgrSbmxspLLVn1K3W2MNzc3LmWG40i7BlEgWRHiby4zuWoPjH%2Bwr4d%2BOnx1b4y%2BPPjt45l02bwVqfhG%2B%2BHsMGi/2Jd6NqS232%2B0kL6a16RO1pA7OLoOpQhGRGZD0n7O/7Luh/s%2B32teI5/ih4t8b%2BIdftbCyv/E/ja5tJL02Fiki2dmPsltbx%2BVEZ7hwShkd7mV3d2bNAHp9FFFABXyJ8a/2l/wBrbwZrv7QHgS38K%2BDPFl74C8P%2BFPEnw2sdJ%2BH%2Bp386x6jqupQhLy1ivHl1GeBdNjnU2wtyXJCr8qtX13Xhcv7FHiGL46eNvj/oX7aHxW0rVvG%2BkWOmXNjZWfhhrTTbayuLmezS2EuivJ%2B6N5dKDM8pdZyJPMKoVAOr/ZU%2BLc3xl%2BFI8Taj8TtG8U6ja6rc2OrXWj%2BCL/w2bO4ib5rWfTNRuJ7q0nRSu5JmDEMrbVVhXpNcJ8A/gHoHwB0LWbHT/FuueI9V8TeIJdc8T%2BJvEktu17qt/JDDB5sgtoYYIwsFvbwqkUUaKkKALnJPd0AFFFFAHxt%2B0t%2B13%2B0t%2Bzx8ZoPhtrKfDPxrfa3BBN4Rh07wte2kvgu81LxDpnh7SJtTle%2BmF1FO2rzgtEtnI4sbpYwy%2BYYvcf2Vfi/8SPiMPH/w%2B%2BMR0SfxV8NPHjeGtZ1Xw1p01nYan5ml6dq1vcQ28088lvm11S3R42mlxJHJhiCMcLbf8E1fCTXXxDfxD%2B0v8TtZt/iTrx1zWLfUjoXmWepRXEM%2Bn3NtdRaWl0psHt7cWkbzSRRLCgZH5z6x8A/gLofwD8Patptl4v1zxJq3iLXpta8T%2BKPEr2xv9XvpI4ofOmFrBBAuyCC3gRIoo0WOCNQvBJAO6ooooAZc/afs0n2PZ52w%2BV5udu7HGcc4zXxB8Vv2uf20/hp8RNc%2BG1vbeA/GeveGL3w1b6t468EfBXX9Wj8OW%2BrNePe2EulWepT3dzNHDZWN0TFOn7u6haWBAYmk%2B3ruGS4tZbeG6kgeSNlWeIKXjJGAy7gVyOoyCPUGvnv4MfsBeIPgJ8Nrj4afDv8Abq%2BMUUd1qz6nNrN5ZeE59Qlu5XlkuZ5pn0I/aZJ3l3SSTiR8xpsKAYIB6z8BPiHZfFb4O%2BH/AIhWHxA0bxUmp6eJH1/w/pM1haXcgJWQpazzTS2xV1ZGhkkd42VlY7lIHX1yXwL%2BC/hL9n34X6d8KfBVzf3FlYS3VxNfarcia6vru6uZbq6upnCqGlmuJ5pX2qq7pDtVVwo62gAqj4nh8SXPhvULfwbqdjZavJZSrpd5qdg91bQXBQiOSWGOWJpo1bBZFkjLAEB1J3C9Wb4x0G/8UeFr/wAO6X4t1LQbm8tXig1rRxAbqxcjiaIXEUsRdTyBJG6HHzKwyKAPh74b/t2fta/GD4p638EvhZpvw%2BTxnptrrt9J4z8V/C7WtDXVNM0i10WVLGXRLy%2BTUNPle78Q7EmnmePyoZLhIXWdAfsb4BfFrTfj58CfBXx10bTZbOz8a%2BEtN160s5n3PBFeWsdwsbEAZKiQAn1FeLav/wAEyPA%2Bta5ffEW7/aU%2BKafEDVkvLXWviTbXukQ6tf6ZdW1rbTaYUTTRZw2xSytGHkW0UqyQLKsocsx%2Bg/Bfg/w18PPB2k%2BAPBmkxafo%2Bh6ZBp%2Bk2EOdltbQxrHFGuecKiqo%2BlAGnRRRQBy/xp1Hxxo3wt1rW/hz4hsdL1awszdQ32oeD73xAiRxkPKBp1jPBc3kjRK6pFDIHLsuFc/I3xb8Jf8Agoj8fvEnjTQ9T8b3HhHwJ4M1KedfEHji8%2BBniKa21i/h1%2B60hEuZVvo08MzyWtpa/uNUaSWB5VjfOwJX238TPBmu%2BPfCU3hzw38Utf8ABt5JLG8Wv%2BGYrF7uDawJVVv7a5gYMAVIeJuCcYOCPFbr/gnN4U1DwfcfDbVv2kPibd%2BGNc1Ca/8AHmgTXGjiLxhdz3jXVxNfSrpouIvNLLC0dnLaxCGJI1RRu3AH0TRRRQAUUUUAFFFFABRRRQAUUUUAFFFFABRRRQAUUUUAFFFFABRRRQAUUUUAFFFFABRRRQAUUUUAFFFFABRRRQAUUUUAFFFFABRRRQAUUUUAFFFFABRRRQAUUUUAFFFFABRRRQAUUUUAFFFFABRRRQAUUUUAFFFFABRRRQAUUUUAFFFFABRRRQAUUUUAFFFFABRRRQAUUUUAFFFFABRRRQAUUUUAFFFFABRRRQAUUUUAFFFFABRRRQAUUUUAFFFFABRRRQAUUUUAFFFFABRRRQAUUUUAFFFFABRRRQAUUUUAFFFFABRRRQAUUUUAFFFFABRRRQB//9k%3D\">"
            ]
          },
          "metadata": {
            "tags": []
          }
        }
      ]
    },
    {
      "cell_type": "markdown",
      "metadata": {
        "id": "6AXwF9sa2hwz",
        "colab_type": "text"
      },
      "source": [
        "# Submit the MLP with 2 hidden layers\n",
        "Run these cells after training the MLP with 2 hidden layers"
      ]
    },
    {
      "cell_type": "code",
      "metadata": {
        "id": "7CbnqqXv2hw0",
        "colab_type": "code",
        "colab": {}
      },
      "source": [
        "## GRADED PART, DO NOT CHANGE!\n",
        "# Validation loss for MLP\n",
        "grader.set_answer(\"i8bgs\", s.run(loss, {input_X: X_val_flat, input_y: y_val_oh}))\n",
        "# Validation accuracy for MLP\"\n",
        "grader.set_answer(\"rE763\", accuracy_score(y_val, s.run(classes, {input_X: X_val_flat})))"
      ],
      "execution_count": 0,
      "outputs": []
    },
    {
      "cell_type": "code",
      "metadata": {
        "id": "PWANNdSf2hw5",
        "colab_type": "code",
        "colab": {
          "base_uri": "https://localhost:8080/",
          "height": 34
        },
        "outputId": "9dde9243-e6a1-4da2-b26b-216e0d17bf15"
      },
      "source": [
        "# you can make submission with answers so far to check yourself at this stage\n",
        "grader.submit(COURSERA_EMAIL, COURSERA_TOKEN)"
      ],
      "execution_count": 21,
      "outputs": [
        {
          "output_type": "stream",
          "text": [
            "Submitted to Coursera platform. See results on assignment page!\n"
          ],
          "name": "stdout"
        }
      ]
    },
    {
      "cell_type": "code",
      "metadata": {
        "id": "gkXyjCjL2hw-",
        "colab_type": "code",
        "colab": {}
      },
      "source": [
        ""
      ],
      "execution_count": 0,
      "outputs": []
    }
  ]
}